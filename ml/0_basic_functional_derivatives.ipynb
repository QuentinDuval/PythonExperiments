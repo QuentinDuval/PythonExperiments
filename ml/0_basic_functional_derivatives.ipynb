{
 "cells": [
  {
   "cell_type": "code",
   "execution_count": 1,
   "metadata": {},
   "outputs": [],
   "source": [
    "import numpy as np\n",
    "import matplotlib.pyplot as plt"
   ]
  },
  {
   "cell_type": "markdown",
   "metadata": {},
   "source": [
    "<br>\n",
    "\n",
    "# Functional and functional derivatives\n",
    "---"
   ]
  },
  {
   "cell_type": "markdown",
   "metadata": {},
   "source": [
    "<br>\n",
    "\n",
    "### Functionals\n",
    "\n",
    "A functional is a function that takes a function as input and output a real number, some examples below:\n",
    "\n",
    "&emsp; $\\displaystyle E[g] = \\int_{-\\infty}^{\\infty} g(x) e^{-x^2} dx$\n",
    "&emsp; expected value under a gaussian distribution\n",
    "\n",
    "&emsp; $\\displaystyle H[p] = - \\sum_x p(x) \\log p(x)$\n",
    "&emsp; entropy of a discrete probability distribution\n",
    "\n",
    "&emsp; $\\displaystyle D_{KL}(p||q) = - \\int p(x) \\log \\frac{q(x)}{p(x)}$\n",
    "&emsp; KL divergence between two probability density functions\n",
    "\n",
    "Most functionals will take the form of an integral (or a sum for discrete functions)."
   ]
  },
  {
   "cell_type": "markdown",
   "metadata": {},
   "source": [
    "<br>\n",
    "\n",
    "### Functional derivatives\n",
    "\n",
    "The definition of functional derivatives is tighly linked, as the definition of derivates for functions, with the development in Taylor series:\n",
    "\n",
    "&emsp; $\\displaystyle F[y(x) + \\epsilon \\eta(x)] = F[y(x)] + \\epsilon \\int \\frac{\\delta F}{\\delta y}(x) \\eta(x) dx + O(\\epsilon^2)$\n",
    "\n",
    "Which defines by **how much the value of the functional $F$ will change when going in the direction** $\\eta$ in the space of functions. It resembles the Taylor series for multivariate functions, which describes below a change in the direction $u$:\n",
    "\n",
    "&emsp; $\\displaystyle f(x + \\epsilon u) = f(x) + \\epsilon \\; u^T \\nabla f + O(\\epsilon^2)$\n",
    "&emsp; or equivalently\n",
    "&emsp; $\\displaystyle f(x + \\epsilon u) = f(x) + \\epsilon \\; \\langle u, \\nabla f \\rangle + O(\\epsilon^2)$\n",
    "\n",
    "* the functional derivative $\\displaystyle \\frac{\\delta F}{\\delta y}$ is the equivalent of the gradient\n",
    "* the dot product becomes $\\displaystyle \\Big \\langle \\frac{\\delta F}{\\delta y}, \\eta \\Big \\rangle = \\int \\frac{\\delta F}{\\delta y}(x) \\eta(x) dx$\n",
    "\n",
    "Note that if the differential is defined in terms of a sum and not an integral, the same thing applies, given that we have a valid dot product (which reflects correctly the definition of the functional)."
   ]
  },
  {
   "cell_type": "markdown",
   "metadata": {},
   "source": [
    "<br>\n",
    "\n",
    "### Functional differentials\n",
    "\n",
    "Remember that differentials for function are defined as functions of $x$ and $dx$. They define the plan tangent to the function that best approximate the value of the function in the neighborhood of the point $x$:\n",
    "\n",
    "&emsp; $df = df(x,dx) = dx^T \\nabla f = \\langle \\nabla f, dx \\rangle$\n",
    "&emsp; or for single valued functions\n",
    "&emsp; $\\displaystyle df = df(x,dx) = \\frac{df}{dx} dx = \\Big \\langle \\frac{df}{dx}, dx \\Big \\rangle$\n",
    "\n",
    "Similarly, we define the functional as:\n",
    "\n",
    "&emsp; $\\displaystyle \\delta F = \\delta F[y, \\eta] = \\Big \\langle \\frac{\\delta F}{\\delta y}, \\eta \\Big \\rangle$\n",
    "&emsp; where the dot product might be\n",
    "&emsp; $\\displaystyle \\Big \\langle \\frac{\\delta F}{\\delta y}, \\eta \\Big \\rangle = \\int \\frac{\\delta F}{\\delta y}(x) \\eta(x) dx$\n",
    "\n",
    "Once again, the kind of dot product depends on the definition of the functional."
   ]
  },
  {
   "cell_type": "code",
   "execution_count": null,
   "metadata": {},
   "outputs": [],
   "source": []
  }
 ],
 "metadata": {
  "kernelspec": {
   "display_name": "Python 3",
   "language": "python",
   "name": "python3"
  },
  "language_info": {
   "codemirror_mode": {
    "name": "ipython",
    "version": 3
   },
   "file_extension": ".py",
   "mimetype": "text/x-python",
   "name": "python",
   "nbconvert_exporter": "python",
   "pygments_lexer": "ipython3",
   "version": "3.7.1"
  }
 },
 "nbformat": 4,
 "nbformat_minor": 4
}

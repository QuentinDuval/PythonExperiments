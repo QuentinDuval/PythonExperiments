{
 "cells": [
  {
   "cell_type": "code",
   "execution_count": 1,
   "metadata": {},
   "outputs": [],
   "source": [
    "import numpy as np"
   ]
  },
  {
   "cell_type": "markdown",
   "metadata": {},
   "source": [
    "# Description of PCA\n",
    "---\n",
    "\n",
    "\n",
    "**The principle**\n",
    "\n",
    "We have input data matrix X of dimension $R^{m*p}$:\n",
    "* each of the m rows is a sample\n",
    "* each of the p columns is a feature\n",
    "\n",
    "We look for a transformation W of dimension $R^{p*l}$ where l is typically lower than p:\n",
    "* The new data will be $T = XW$ of dimension $R^{m*l}$\n",
    "* The new features will be ordered by decreasing variance along the dimension\n",
    "\n",
    "We can see this matrix W as a set of $l$ vectors $w_j$ of dimension $p$. Each feature for each sample $i$ is obtained by multiplying the sample $x_i$ with $w_j$. So basically: $T_{i,j} = x_i w_j$.\n",
    "\n",
    "\n",
    "**How we proceed**\n",
    "\n",
    "The variance along the axis k is by definition $\\sum_{i=1}^m (t_{i,k} - \\bar{t}_k)^2$ where:\n",
    "\n",
    "* $i$ runs through all the samples\n",
    "* $\\bar{t}_k$ is the expected value of $t_{i,k}$ on all samples $i$\n",
    "\n",
    "We can rework this expression (and considering that the data is centered in zero):\n",
    "\n",
    "$\\sum_{i=1}^m (t_{i,k})^2 = \\sum_{i=1}^m (x_i w_k)^2 = ||X w_k||^2 = w_k^T X^T X w_k$.\n",
    "\n",
    "This is the Rayleigh quotient, and to maximize it, we need to find the eigenvalues and eigenvectors for the matrix $X^T X$ and order them from the highest to the smallest eigenvalues.\n",
    "\n",
    "We then pick the a sub-selection of $l < p$ eigenvectors of size $p$ to form the matrix $W$ for dimension $R^{p*l}$.\n",
    "\n",
    "\n",
    "**Important notes**\n",
    "\n",
    "* the covariance only find linear (not even affine) relationships (we will see example after)\n",
    "* the data needs to be centered in zero for each dimension individually in order to work"
   ]
  },
  {
   "cell_type": "markdown",
   "metadata": {},
   "source": [
    "# Simple example (workable by hand)\n",
    "---\n",
    "\n",
    "The notations here:\n",
    "\n",
    "* X represents the data set $R^{m*p}$\n",
    "* each of the $m$ row of X is a sample\n",
    "* each of the $p$ column of X is a feature"
   ]
  },
  {
   "cell_type": "code",
   "execution_count": 53,
   "metadata": {},
   "outputs": [
    {
     "name": "stdout",
     "output_type": "stream",
     "text": [
      "Covariance matrix:\n",
      "[[ 2. -4.]\n",
      " [-4.  8.]]\n",
      "* eigen vector: [ 0.4472136  -0.89442719]\n",
      "* eigen value: [10. 10.]\n",
      "\n",
      "Transformation:\n",
      "[[ 0.4472136 ]\n",
      " [-0.89442719]]\n",
      "\n",
      "New data:\n",
      "[[-2.23606798]\n",
      " [ 0.        ]\n",
      " [ 2.23606798]]\n"
     ]
    }
   ],
   "source": [
    "# 3 samples, with clearly correlated features\n",
    "X = np.array([\n",
    "    [-1., 2.],\n",
    "    [ 0., 0.],\n",
    "    [ 1, -2.]])\n",
    "\n",
    "print(\"Covariance matrix:\")\n",
    "cov = X.T @ X\n",
    "print(cov)\n",
    "\n",
    "# Example of eigenvector\n",
    "# Just solve the 2 equations with two unknowns:\n",
    "#   2x - 4y = a * x\n",
    "#  -4x + 8y = a * y\n",
    "# Which implies that: a * (y + 2 x) = 0\n",
    "# Which implies that: y = - 2 x (or else null eigenvalue)\n",
    "v = np.array([1, -2]) / np.sqrt(5)\n",
    "print(\"* eigen vector:\", v)\n",
    "print(\"* eigen value:\", (cov @ v) / v)\n",
    "\n",
    "# We can use NUMPY to find the eigenvalues and eigen vectors\n",
    "eigen_values, eigen_vectors = np.linalg.eig(cov)\n",
    "\n",
    "# Just keep the highest\n",
    "descending_indices = np.argsort(eigen_values)[::-1]\n",
    "W = eigen_vectors[:,descending_indices[:1]]\n",
    "print(\"\\nTransformation:\")\n",
    "print(W)\n",
    "\n",
    "# Use this to reduce the new data\n",
    "print(\"\\nNew data:\")\n",
    "T = X @ W\n",
    "print(T)"
   ]
  },
  {
   "cell_type": "markdown",
   "metadata": {},
   "source": [
    "# Kernel PCA\n",
    "---"
   ]
  },
  {
   "cell_type": "code",
   "execution_count": null,
   "metadata": {},
   "outputs": [],
   "source": []
  },
  {
   "cell_type": "markdown",
   "metadata": {},
   "source": [
    "# Auto-encoders\n",
    "---"
   ]
  },
  {
   "cell_type": "code",
   "execution_count": null,
   "metadata": {},
   "outputs": [],
   "source": []
  }
 ],
 "metadata": {
  "kernelspec": {
   "display_name": "Python 3",
   "language": "python",
   "name": "python3"
  },
  "language_info": {
   "codemirror_mode": {
    "name": "ipython",
    "version": 3
   },
   "file_extension": ".py",
   "mimetype": "text/x-python",
   "name": "python",
   "nbconvert_exporter": "python",
   "pygments_lexer": "ipython3",
   "version": "3.7.1"
  }
 },
 "nbformat": 4,
 "nbformat_minor": 4
}

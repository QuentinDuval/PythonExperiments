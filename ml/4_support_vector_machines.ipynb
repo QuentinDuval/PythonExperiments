{
 "cells": [
  {
   "cell_type": "code",
   "execution_count": null,
   "metadata": {},
   "outputs": [],
   "source": [
    "# https://www.youtube.com/watch?v=eHsErlPJWUU\n",
    "\n",
    "# TODO\n",
    "# * the parameters (weights) are the langrangian coefficients, the coefficient of the support vectors\n",
    "# * the weights are zero for non-support vectors => good in terms of VC bounds\n",
    "# * this is clearly simpler in terms of number of weights than just a linear classifier that requires 1 weight for\n",
    "#   for each of the dimensions / features\n",
    "# * tends to fight the curse of dimensionnality (because it does not depend of the dimension, only on the number of\n",
    "#   support vectors) => you can go to millions of dimensions, as long as the number of SV is low, good generalization\n",
    "# * complexity for classification is w = linear combination of SV => is number of SV"
   ]
  }
 ],
 "metadata": {
  "kernelspec": {
   "display_name": "Python 3",
   "language": "python",
   "name": "python3"
  },
  "language_info": {
   "codemirror_mode": {
    "name": "ipython",
    "version": 3
   },
   "file_extension": ".py",
   "mimetype": "text/x-python",
   "name": "python",
   "nbconvert_exporter": "python",
   "pygments_lexer": "ipython3",
   "version": "3.7.1"
  }
 },
 "nbformat": 4,
 "nbformat_minor": 4
}

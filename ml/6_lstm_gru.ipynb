{
 "cells": [
  {
   "cell_type": "code",
   "execution_count": 1,
   "metadata": {},
   "outputs": [],
   "source": [
    "import numpy as np\n",
    "import matplotlib.pyplot as plt\n",
    "\n",
    "import torch\n",
    "import torch.nn as nn\n",
    "import torch.optim as optim\n",
    "import torch.utils.data as data"
   ]
  },
  {
   "cell_type": "markdown",
   "metadata": {},
   "source": [
    "# RNN\n",
    "---\n",
    "\n",
    "Feedback loop to have some memory through the steps."
   ]
  },
  {
   "cell_type": "code",
   "execution_count": 9,
   "metadata": {},
   "outputs": [
    {
     "data": {
      "text/plain": [
       "tensor([[ 0.3084, -0.1162,  0.1011, -0.3020, -0.2172],\n",
       "        [ 0.3084, -0.1162,  0.1011, -0.3020, -0.2172]],\n",
       "       grad_fn=<AddmmBackward>)"
      ]
     },
     "execution_count": 9,
     "metadata": {},
     "output_type": "execute_result"
    }
   ],
   "source": [
    "class RNNCell(nn.Module):\n",
    "    def __init__(self, input_size: int, memory_size: int):\n",
    "        super().__init__()\n",
    "        self.memory_size = memory_size\n",
    "        self.fc = nn.Linear(input_size + memory_size, memory_size)\n",
    "    \n",
    "    def forward(self, xs, ms):\n",
    "        return self.fc(torch.cat((xs, ms), dim=-1))\n",
    "\n",
    "    \n",
    "class RNNLayer(nn.Module):\n",
    "    def __init__(self, input_size: int, memory_size: int):\n",
    "        super().__init__()\n",
    "        self.cell = RNNCell(input_size, memory_size)\n",
    "    \n",
    "    def forward(self, xs):\n",
    "        batch_size, input_size, sequence_len = xs.shape\n",
    "        h = torch.zeros(size=(batch_size, self.cell.memory_size))\n",
    "        for i in range(sequence_len):\n",
    "            x = xs[:,:,i]\n",
    "            h = self.cell(x, h)\n",
    "        return h\n",
    "\n",
    "\n",
    "rnn = RNNLayer(input_size=5, memory_size=5)\n",
    "rnn(torch.zeros(size=(2, 5, 10)))"
   ]
  },
  {
   "cell_type": "markdown",
   "metadata": {},
   "source": [
    "### Sample problem\n",
    "\n",
    "Addition of a variable length list of vectors."
   ]
  },
  {
   "cell_type": "code",
   "execution_count": 30,
   "metadata": {},
   "outputs": [
    {
     "data": {
      "image/png": "[encoded data removed]",
      "text/plain": [
       "<Figure size 432x288 with 1 Axes>"
      ]
     },
     "metadata": {
      "needs_background": "light"
     },
     "output_type": "display_data"
    },
    {
     "data": {
      "text/plain": [
       "tensor([[1.5000, 0.5000]], grad_fn=<AddmmBackward>)"
      ]
     },
     "execution_count": 30,
     "metadata": {},
     "output_type": "execute_result"
    }
   ],
   "source": [
    "train_xs = np.random.uniform(-1, 1, size=(5000, 2, 5))\n",
    "train_ys = np.apply_along_axis(lambda x: np.sum(x), -1, train_xs)\n",
    "\n",
    "model = RNNLayer(input_size=2, memory_size=2)\n",
    "\n",
    "model.train()\n",
    "criterion = nn.MSELoss()\n",
    "optimizer = optim.Adam(model.parameters())\n",
    "ds = data.TensorDataset(torch.FloatTensor(train_xs), torch.FloatTensor(train_ys))\n",
    "loader = data.DataLoader(ds, batch_size=100, shuffle=True)\n",
    "\n",
    "losses = []\n",
    "for _ in range(100):\n",
    "    episode_loss = 0.\n",
    "    for x, y in loader:\n",
    "        y_pred = model(x)\n",
    "        loss = criterion(y_pred, y)\n",
    "        optimizer.zero_grad()\n",
    "        loss.backward()\n",
    "        optimizer.step()\n",
    "        episode_loss += loss.item()\n",
    "    losses.append(episode_loss)\n",
    "\n",
    "plt.plot(list(range(len(losses))), losses)\n",
    "plt.show()\n",
    "    \n",
    "model.eval()\n",
    "test_xs = torch.FloatTensor([[[1., 0., 0.5], [1., 0., -0.5]]])\n",
    "model(test_xs)"
   ]
  },
  {
   "cell_type": "markdown",
   "metadata": {},
   "source": [
    "# LSTM\n",
    "---\n",
    "\n",
    "* Original paper: https://www.bioinf.jku.at/publications/older/2604.pdf\n",
    "* Helpful illustration: https://colah.github.io/posts/2015-08-Understanding-LSTMs/\n",
    "* Additions on GRUs: https://towardsdatascience.com/illustrated-guide-to-lstms-and-gru-s-a-step-by-step-explanation-44e9eb85bf21"
   ]
  },
  {
   "cell_type": "code",
   "execution_count": null,
   "metadata": {},
   "outputs": [],
   "source": []
  },
  {
   "cell_type": "code",
   "execution_count": null,
   "metadata": {},
   "outputs": [],
   "source": []
  }
 ],
 "metadata": {
  "kernelspec": {
   "display_name": "Python 3",
   "language": "python",
   "name": "python3"
  },
  "language_info": {
   "codemirror_mode": {
    "name": "ipython",
    "version": 3
   },
   "file_extension": ".py",
   "mimetype": "text/x-python",
   "name": "python",
   "nbconvert_exporter": "python",
   "pygments_lexer": "ipython3",
   "version": "3.7.1"
  }
 },
 "nbformat": 4,
 "nbformat_minor": 4
}

{
 "cells": [
  {
   "cell_type": "code",
   "execution_count": 2,
   "metadata": {},
   "outputs": [],
   "source": [
    "import numpy as np\n",
    "import matplotlib.pyplot as plt\n",
    "\n",
    "import torch\n",
    "import torch.nn as nn\n",
    "import torch.optim as optim\n",
    "import torch.utils.data as data"
   ]
  },
  {
   "cell_type": "markdown",
   "metadata": {},
   "source": [
    "### Reducing complexity\n",
    "\n",
    "* Tying the parameters (parameter sharing)\n",
    "* Reduce the connections in bayesian network (independence)\n",
    "* Parameterization (approximation) instead of full distribution\n",
    "\n",
    "### Show linear gaussian model\n",
    "\n",
    "### Show discrete model"
   ]
  },
  {
   "cell_type": "code",
   "execution_count": null,
   "metadata": {},
   "outputs": [],
   "source": [
    "# Models for generating data\n",
    "# Models for deducing data (from bayesian networks)\n",
    "# Show the denoising using random markov fields"
   ]
  },
  {
   "cell_type": "markdown",
   "metadata": {},
   "source": [
    "# Markov Random Fields\n",
    "---\n",
    "\n",
    "**Undirected graph** in which the object of interest is the **maximum clique**. A clique is a sub-graph in which all the nodes are connected. The joint probability distribution in a Markov Random Field is defined as:\n",
    "\n",
    "&emsp; $p(x) = \\frac{1}{Z} \\prod_C \\psi_C(C)$, where $x$ is a vector of random variables\n",
    "\n",
    "Where $Z$ is a normalizing constant, the partition function, $C$ are the maximum cliques, and $\\psi_C$ is a **potential function** for a given clique (it does not have to be the same function for all cliques). These potential functions usually take the form of a **Boltzman distribution**, the exponential of a the negative of an **energy function**:\n",
    "\n",
    "&emsp; $\\psi_C(C) = e^{-E_C(C)}$\n",
    "\n",
    "&emsp; $p(x) = \\frac{1}{Z} e^{-\\sum_C E_C(C)}$\n",
    "\n",
    "This means that maximizing the probability of $x$ is equivalent to minimizing the sum of the energy. The goal is to select the right combination of energy function to represent our problem."
   ]
  },
  {
   "cell_type": "markdown",
   "metadata": {},
   "source": [
    "<br>\n",
    "\n",
    "### Example: image denoising\n",
    "\n",
    "We have an image $X$ that is unknown, made of pixels equal to -1 or 1, that is noised into an image $Y$ with random uniform change of flipping bits. The goal is to find the original image $X$ from the noised image $Y$.\n",
    "\n",
    "To do so, we build a graph, where each variable $x_{ij}$ is a pixel that is either equal to -1 or 1, and where each pixel is related to its neighbor (tries to be similar), and related to the corresponding pixel $y_{ij}$ (tries to be similar as well).\n",
    "\n",
    "&emsp; $E_{x_i y_i} = - \\eta x_i y_i$ (tries to make sure both have same sign - could be kernel for similarity)\n",
    "\n",
    "&emsp; $E_{x_i x_j} = - \\beta x_i x_j$ (for neighbors)\n",
    "\n",
    "&emsp; $E_{\\text{total}} = \\sum_i E_{x_i y_i} + \\sum_i \\sum_{j \\in \\text{neighbors}} E_{x_i x_j}$\n",
    "\n",
    "Image denoising could be transformed into minimizing the energy $E_{\\text{total}}$."
   ]
  },
  {
   "cell_type": "markdown",
   "metadata": {},
   "source": [
    "<br>\n",
    "\n",
    "### ICM (Iterative Conditional Modes) algorithm\n",
    "\n",
    "To minimize the energy $E = E_{\\text{total}}$, we can take a cue from **gradient descent** in optimization approaches:\n",
    "\n",
    "&emsp; $\\frac{\\partial E}{\\partial x_i} = - \\eta y_i - \\beta \\sum_{j \\in \\text{neighbors}} x_j$\n",
    "\n",
    "&emsp; $x_i^\\text{new} \\leftarrow x_i - \\alpha \\frac{\\partial E}{\\partial x_i}$\n",
    "\n",
    "So basically, if the neighbors are mostly positive, $\\frac{\\partial E}{\\partial x_i}$ is negative, and so $x_i$ should move to the positive direction. The idea is to adapt this gradient descent approach to the discrete case of pixel values that are either -1 or 1. The idea is to select the idea of $x_i$ that minimizes:\n",
    "\n",
    "&emsp; $E_{x_i} = x_i (- \\eta y_i - \\beta \\sum_{j \\in \\text{neighbors}} x_j) = x_i \\frac{\\partial E}{\\partial x_i}$\n",
    "\n",
    "Which is equivalent to taking the value that has a different sign than $\\frac{\\partial E}{\\partial x_i}$. The algorithm consist in picking randomly pixels $x_i$ and applying this formula. As any stockastic gradient descent, this does not ensure we find the minimum (there are other better algorithms)."
   ]
  },
  {
   "cell_type": "code",
   "execution_count": 43,
   "metadata": {},
   "outputs": [
    {
     "data": {
      "image/png": "[encoded data removed]",
      "text/plain": [
       "<Figure size 576x576 with 2 Axes>"
      ]
     },
     "metadata": {
      "needs_background": "light"
     },
     "output_type": "display_data"
    }
   ],
   "source": [
    "import torchvision\n",
    "\n",
    "def to_tensor(image):\n",
    "    return torchvision.transforms.ToTensor()(image)\n",
    "\n",
    "def to_image(tensor):\n",
    "    return torchvision.transforms.ToPILImage()(tensor)\n",
    "\n",
    "# Getting an image\n",
    "training_data_set = torchvision.datasets.MNIST('./dataset/mnist/training.pt', train=True, download=True)\n",
    "original_image = training_data_set[1][0]\n",
    "original_xs = to_tensor(original_image)\n",
    "original_xs = torch.round(original_xs)\n",
    "original_image = to_image(original_xs)\n",
    "\n",
    "# Noising the image\n",
    "noise = np.random.binomial(1, 0.1, size=original_xs.shape)\n",
    "noised_xs = (original_xs + torch.from_numpy(noise)) % 2\n",
    "noised_image = to_image(noised_xs)\n",
    "\n",
    "# Showing the image before and after noising\n",
    "fig, ax = plt.subplots(figsize=(8, 8), ncols=2)\n",
    "ax[0].imshow(original_image)\n",
    "ax[1].imshow(noised_image)\n",
    "plt.show()"
   ]
  },
  {
   "cell_type": "code",
   "execution_count": 67,
   "metadata": {},
   "outputs": [
    {
     "data": {
      "image/png": "[encoded data removed]",
      "text/plain": [
       "<Figure size 864x576 with 3 Axes>"
      ]
     },
     "metadata": {
      "needs_background": "light"
     },
     "output_type": "display_data"
    }
   ],
   "source": [
    "def denoise(ys, eta: float, beta: float, n_iter: int):\n",
    "    _, h, w = ys.shape\n",
    "    ys = np.where(ys == 0, -1, 1)\n",
    "    xs = ys.copy()\n",
    "    for _ in range(n_iter):\n",
    "        for i in range(h):\n",
    "            for j in range(w):\n",
    "                energy = - eta * ys[0,i,j]\n",
    "                if i > 0:\n",
    "                    energy += - beta * xs[0,i-1,j]\n",
    "                if i < h - 1:\n",
    "                    energy += - beta * xs[0,i+1,j]\n",
    "                if j > 0:\n",
    "                    energy += - beta * xs[0,i,j-1]\n",
    "                if j < w - 1:\n",
    "                    energy += - beta * xs[0,i,j+1]\n",
    "                xs[0,i,j] = -1 if energy > 0 else 1\n",
    "    return torch.FloatTensor(np.where(xs==-1, 0, 1))\n",
    "\n",
    "\n",
    "denoised_xs = denoise(noised_xs, eta=2.1, beta=1., n_iter=20)\n",
    "denoised_image = to_image(denoised_xs)\n",
    "fig, ax = plt.subplots(figsize=(12, 8), ncols=3)\n",
    "ax[0].imshow(original_image)\n",
    "ax[1].imshow(noised_image)\n",
    "ax[2].imshow(denoised_image)\n",
    "plt.show()"
   ]
  },
  {
   "cell_type": "code",
   "execution_count": null,
   "metadata": {},
   "outputs": [],
   "source": []
  }
 ],
 "metadata": {
  "kernelspec": {
   "display_name": "Python 3",
   "language": "python",
   "name": "python3"
  },
  "language_info": {
   "codemirror_mode": {
    "name": "ipython",
    "version": 3
   },
   "file_extension": ".py",
   "mimetype": "text/x-python",
   "name": "python",
   "nbconvert_exporter": "python",
   "pygments_lexer": "ipython3",
   "version": "3.7.1"
  }
 },
 "nbformat": 4,
 "nbformat_minor": 4
}

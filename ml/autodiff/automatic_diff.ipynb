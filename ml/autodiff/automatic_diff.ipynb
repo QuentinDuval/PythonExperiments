{
 "cells": [
  {
   "cell_type": "code",
   "execution_count": 12,
   "metadata": {},
   "outputs": [],
   "source": [
    "\"\"\"\n",
    "The basis for a framework of automatic differentiation such as PyTorch.\n",
    "\n",
    "What we want is to:\n",
    "1. Build a forward pass manually, passing tensors / variable through blocks\n",
    "2. Make sure each variable remember which block uses it (to get its gradients)\n",
    "\"\"\"\n",
    "\n",
    "import abc\n",
    "import math\n",
    "import numpy as np"
   ]
  },
  {
   "cell_type": "code",
   "execution_count": 23,
   "metadata": {},
   "outputs": [
    {
     "name": "stdout",
     "output_type": "stream",
     "text": [
      "{'value': 1, 'gradient_fcts': [{'destination': {'value': 3, 'gradient_fcts': [{'destination': {'value': 8, 'gradient_fcts': []}, 'function': 'Add'}]}, 'function': 'Add'}]}\n",
      "{'value': 2, 'gradient_fcts': [{'destination': {'value': 3, 'gradient_fcts': [{'destination': {'value': 8, 'gradient_fcts': []}, 'function': 'Add'}]}, 'function': 'Add'}, {'destination': {'value': 5, 'gradient_fcts': [{'destination': {'value': 8, 'gradient_fcts': []}, 'function': 'Add'}]}, 'function': 'Add'}]}\n",
      "{'value': 3, 'gradient_fcts': [{'destination': {'value': 5, 'gradient_fcts': [{'destination': {'value': 8, 'gradient_fcts': []}, 'function': 'Add'}]}, 'function': 'Add'}]}\n",
      "1\n",
      "1\n",
      "1\n",
      "1\n",
      "2\n",
      "1\n"
     ]
    }
   ],
   "source": [
    "class Variable:\n",
    "    def __init__(self, value):\n",
    "        self.value = value\n",
    "        self.gradient = None\n",
    "        self.gradient_fcts = []\n",
    "    \n",
    "    def compute_gradient(self):\n",
    "        self.gradient = sum(fct() for fct in self.gradient_fcts) if self.gradient_fcts else 1\n",
    "        return self.gradient\n",
    "    \n",
    "    def backward(self):\n",
    "        # TODO - in need for a graph to do a kind of topological sort?\n",
    "        pass\n",
    "    \n",
    "    def __repr__(self):\n",
    "        return str({\n",
    "            \"value\": self.value,\n",
    "            \"gradient_fcts\": self.gradient_fcts\n",
    "        })\n",
    "\n",
    "    \n",
    "class AddFct:\n",
    "    def __init__(self, destination):\n",
    "        self.destination = destination\n",
    "    \n",
    "    def __call__(self):\n",
    "        return self.destination.gradient\n",
    "    \n",
    "    def __repr__(self):\n",
    "        return str({\n",
    "            \"destination\": self.destination,\n",
    "            \"function\": \"Add\"\n",
    "        })\n",
    "    \n",
    "    \n",
    "def add(v1: Variable, v2: Variable):\n",
    "    total = Variable(v1.value + v2.value)\n",
    "    v1.gradient_fcts.append(AddFct(total))\n",
    "    v2.gradient_fcts.append(AddFct(total))\n",
    "    return total\n",
    "    \n",
    "x1 = Variable(1)\n",
    "x2 = Variable(2)\n",
    "x3 = Variable(3)\n",
    "y1 = add(x1, x2)\n",
    "y2 = add(x2, x3)\n",
    "z = add(y1, y2)\n",
    "\n",
    "print(x1)\n",
    "print(x2)\n",
    "print(x3)\n",
    "\n",
    "print(z.compute_gradient())\n",
    "print(y1.compute_gradient())\n",
    "print(y2.compute_gradient())\n",
    "print(x1.compute_gradient())\n",
    "print(x2.compute_gradient())\n",
    "print(x3.compute_gradient())"
   ]
  },
  {
   "cell_type": "code",
   "execution_count": 10,
   "metadata": {},
   "outputs": [
    {
     "name": "stdout",
     "output_type": "stream",
     "text": [
      "tensor([[0.]], requires_grad=True)\n",
      "tensor([[1.]], grad_fn=<ExpBackward>)\n"
     ]
    }
   ],
   "source": [
    "import torch\n",
    "x = torch.zeros((1, 1), requires_grad=True)\n",
    "print(x)\n",
    "y = torch.exp(x)\n",
    "print(y)"
   ]
  },
  {
   "cell_type": "code",
   "execution_count": null,
   "metadata": {},
   "outputs": [],
   "source": []
  }
 ],
 "metadata": {
  "kernelspec": {
   "display_name": "Python 3",
   "language": "python",
   "name": "python3"
  },
  "language_info": {
   "codemirror_mode": {
    "name": "ipython",
    "version": 3
   },
   "file_extension": ".py",
   "mimetype": "text/x-python",
   "name": "python",
   "nbconvert_exporter": "python",
   "pygments_lexer": "ipython3",
   "version": "3.7.0"
  }
 },
 "nbformat": 4,
 "nbformat_minor": 4
}

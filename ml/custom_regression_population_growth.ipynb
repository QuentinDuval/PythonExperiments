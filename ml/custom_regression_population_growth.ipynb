{
 "cells": [
  {
   "cell_type": "code",
   "execution_count": 7,
   "metadata": {},
   "outputs": [],
   "source": [
    "%matplotlib inline\n",
    "import matplotlib\n",
    "import matplotlib.cm as cm\n",
    "import matplotlib.pyplot as plt\n",
    "import numpy as np\n",
    "\n",
    "import torch\n",
    "import torch.nn as nn\n",
    "import torch.optim as optim\n",
    "from torch.utils.data import *\n",
    "import torchvision"
   ]
  },
  {
   "cell_type": "code",
   "execution_count": 34,
   "metadata": {},
   "outputs": [
    {
     "name": "stdout",
     "output_type": "stream",
     "text": [
      "0.0\n"
     ]
    },
    {
     "data": {
      "image/png": "[encoded data removed]",
      "text/plain": [
       "<Figure size 432x288 with 1 Axes>"
      ]
     },
     "metadata": {
      "needs_background": "light"
     },
     "output_type": "display_data"
    }
   ],
   "source": [
    "\"\"\"\n",
    "Example to show that you can use PyTorch to do regression of other kind than Linear Regression (no way to represent it with linear regression here)\n",
    "\n",
    "# TODO - use the formula of the differential logistic equation to find the parameter of M (max population), A (initial population), K (population growth factor)\n",
    "# TODO - use PyTorch to do this\n",
    "\"\"\"\n",
    "\n",
    "def logistic(m, x, c):\n",
    "    ex = torch.exp(x)\n",
    "    return m * ex / (ex + c)\n",
    "\n",
    "def plot(xs, expected, got):\n",
    "    plt.plot(xs.detach().numpy(), expected.detach().numpy())\n",
    "    plt.plot(xs.detach().numpy(), got.detach().numpy())\n",
    "    plt.show()\n",
    "\n",
    "# Expected\n",
    "xs = torch.tensor(np.arange(-10, 10, 0.1), dtype=torch.float32, requires_grad=False)\n",
    "m = torch.tensor([5], dtype=torch.float32, requires_grad=False)\n",
    "c = torch.tensor([10], dtype=torch.float32, requires_grad=False)\n",
    "expected = logistic(m, xs, c)\n",
    "\n",
    "# Training\n",
    "m = torch.tensor([1], dtype=torch.float32, requires_grad=True)\n",
    "c = torch.tensor([1], dtype=torch.float32, requires_grad=True)\n",
    "\n",
    "criterion = nn.MSELoss()\n",
    "optimizer = optim.Adam([m, c], lr=1e-2)\n",
    "\n",
    "for epoch in range(10_000):\n",
    "    optimizer.zero_grad()\n",
    "    got = logistic(m, xs, c)\n",
    "    loss = criterion(got, expected)\n",
    "    loss.backward()\n",
    "    optimizer.step()\n",
    "\n",
    "print(loss.item())\n",
    "plot(xs, expected, got)"
   ]
  },
  {
   "cell_type": "code",
   "execution_count": null,
   "metadata": {},
   "outputs": [],
   "source": [
    "\n"
   ]
  },
  {
   "cell_type": "code",
   "execution_count": null,
   "metadata": {},
   "outputs": [],
   "source": []
  }
 ],
 "metadata": {
  "kernelspec": {
   "display_name": "Python 3",
   "language": "python",
   "name": "python3"
  },
  "language_info": {
   "codemirror_mode": {
    "name": "ipython",
    "version": 3
   },
   "file_extension": ".py",
   "mimetype": "text/x-python",
   "name": "python",
   "nbconvert_exporter": "python",
   "pygments_lexer": "ipython3",
   "version": "3.7.0"
  }
 },
 "nbformat": 4,
 "nbformat_minor": 4
}

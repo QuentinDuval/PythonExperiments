{
 "cells": [
  {
   "cell_type": "code",
   "execution_count": 80,
   "metadata": {},
   "outputs": [],
   "source": [
    "\"\"\"\n",
    "Algorithm in order to move a group of units in a strategy game:\n",
    "\n",
    "Here we consider tanks and factories (inspired by https://www.youtube.com/watch?v=8kBQMQyLHME):\n",
    "- each turn, you can move all your tanks\n",
    "- every (N / number of factories) turns, you can pop a new tank at one of your factories\n",
    "- the goal is to eliminate the adversary (no tank, no factories left)\n",
    "\"\"\"\n",
    "\n",
    "from collections import defaultdict, Counter\n",
    "from dataclasses import dataclass\n",
    "import enum\n",
    "import numpy as np\n",
    "from typing import *\n",
    "\n",
    "import imageio\n",
    "from PIL import Image"
   ]
  },
  {
   "cell_type": "code",
   "execution_count": 89,
   "metadata": {},
   "outputs": [],
   "source": [
    "\"\"\"\n",
    "Game mechanics\n",
    "\"\"\"\n",
    "\n",
    "\n",
    "Position = Tuple[int, int]\n",
    "\n",
    "\n",
    "class Move(enum.Enum):\n",
    "    NONE = 0\n",
    "    LEFT = 1\n",
    "    RIGHT = 2\n",
    "    UP = 3\n",
    "    DOWN = 4\n",
    "    \n",
    "    \n",
    "class Player(enum.Enum):\n",
    "    PLAYER_1 = 0\n",
    "    PLAYER_2 = 1\n",
    "    \n",
    "    def next_player(self):\n",
    "        return self.PLAYER_1 if self == self.PLAYER_2 else self.PLAYER_2\n",
    "\n",
    "\n",
    "@dataclass(frozen=True)\n",
    "class Territory:\n",
    "    width: int\n",
    "    height: int\n",
    "        \n",
    "    def displace(self, position: Position, move: Move):\n",
    "        x, y = position\n",
    "        if move == Move.LEFT:\n",
    "            x -= 1\n",
    "        elif move == Move.RIGHT:\n",
    "            x += 1\n",
    "        elif move == Move.UP:\n",
    "            y += 1\n",
    "        elif move == Move.DOWN:\n",
    "            y -= 1\n",
    "        return (x, y) if 0 <= x < self.width and 0 <= y < self.height else position\n",
    "\n",
    "    \n",
    "class TankPositions:\n",
    "    def __init__(self):\n",
    "        self.positions = defaultdict(int)\n",
    "    \n",
    "    def add(self, position: Position):\n",
    "        self.positions[position] += 1\n",
    "    \n",
    "    def remove(self, position: Position):\n",
    "        count = self.positions.get(position, 0)\n",
    "        if count == 0:\n",
    "            raise \"No tank at position \" + str(position)\n",
    "        elif count == 1:\n",
    "            del self.positions[position]\n",
    "        else:\n",
    "            self.positions[position] = count - 1\n",
    "    \n",
    "    def __contains__(self, position):\n",
    "        return position in self.positions\n",
    "    \n",
    "    def __repr__(self):\n",
    "        return repr(self.positions)\n",
    "\n",
    "\n",
    "@dataclass(frozen=False)\n",
    "class PlayerPieces:\n",
    "    factories: Set[Position]\n",
    "    tanks: TankPositions\n",
    "        \n",
    "    @classmethod\n",
    "    def init_pieces(cls, territory: Territory, player: Player, nb_factories: int):\n",
    "        factories = set()\n",
    "        tanks = TankPositions()\n",
    "        for y in np.random.choice(range(territory.height), size=nb_factories, replace=False):\n",
    "            factories.add((cls.start_factory_column(territory, player), y))\n",
    "            tanks.add((cls.start_tank_column(territory, player), y))\n",
    "        return cls(tanks=tanks, factories=factories)\n",
    "    \n",
    "    @staticmethod\n",
    "    def start_factory_column(territory: Territory, player: Player):\n",
    "        return 0 if player == Player.PLAYER_1 else territory.width-1\n",
    "    \n",
    "    @staticmethod\n",
    "    def start_tank_column(territory: Territory, player: Player):\n",
    "        return 1 if player == Player.PLAYER_1 else territory.width-2\n",
    "\n",
    "        \n",
    "@dataclass(frozen=False)\n",
    "class GameState:\n",
    "    territory: Territory\n",
    "    players: Dict[Player, PlayerPieces]\n",
    "    \n",
    "    @classmethod\n",
    "    def init_game(cls, width: int, height: int, nb_factories: int):\n",
    "        territory = Territory(width, height)\n",
    "        return GameState(\n",
    "            territory = territory,\n",
    "            players = {\n",
    "                Player.PLAYER_1: PlayerPieces.init_pieces(territory, Player.PLAYER_1, nb_factories),\n",
    "                Player.PLAYER_2: PlayerPieces.init_pieces(territory, Player.PLAYER_2, nb_factories)\n",
    "            })\n",
    "\n",
    "\n",
    "@dataclass(frozen=False)\n",
    "class Turn:\n",
    "    tank_moves: List[Tuple[Position, Move]]\n",
    "    pop_location: Position\n",
    "    \n",
    "    \n",
    "class TankWars:\n",
    "    # TODO - manage winner + punish mistakes by \"you loose\"\n",
    "    # TODO - could represent the map of tanks as just a single map with 1 for player 1, -1 for player 2\n",
    "    \n",
    "    def __init__(self, game_state: GameState):\n",
    "        self.current_player = Player.PLAYER_1\n",
    "        self.game_state = game_state\n",
    "    \n",
    "    def current_player_status(self) -> PlayerPieces:\n",
    "        return self.game_state.players[self.current_player]\n",
    "    \n",
    "    def play(self, turn: Turn):\n",
    "        player = self.game_state.players[self.current_player]\n",
    "        other_player = self.game_state.players[self.current_player.next_player()]\n",
    "        \n",
    "        for curr_pos, move in turn.tank_moves:\n",
    "            if curr_pos not in player.tanks:\n",
    "                raise \"Invalid move: tank does not exist\"\n",
    "            next_pos = self.game_state.territory.displace(curr_pos, move)\n",
    "            if next_pos in other_player.tanks:\n",
    "                other_player.tanks.remove(next_pos)\n",
    "            else:\n",
    "                player.tanks.add(next_pos)\n",
    "            player.tanks.remove(curr_pos)\n",
    "        \n",
    "        if turn.pop_location in player.factories:\n",
    "            player.tanks.add(turn.pop_location)\n",
    "        else:\n",
    "            raise \"Invalid pop location\"\n",
    "        \n",
    "        self.current_player = self.current_player.next_player()\n",
    "        \n",
    "    "
   ]
  },
  {
   "cell_type": "code",
   "execution_count": 90,
   "metadata": {},
   "outputs": [
    {
     "data": {
      "text/plain": [
       "PlayerPieces(factories={(0, 6), (0, 7)}, tanks=defaultdict(<class 'int'>, {(1, 7): 1, (1, 6): 1}))"
      ]
     },
     "execution_count": 90,
     "metadata": {},
     "output_type": "execute_result"
    }
   ],
   "source": [
    "game_state = GameState.init_game(width=10, height=10, nb_factories=2)\n",
    "game = TankWars(game_state)\n",
    "game.current_player_status()"
   ]
  },
  {
   "cell_type": "code",
   "execution_count": 91,
   "metadata": {},
   "outputs": [],
   "source": [
    "game.play(Turn(\n",
    "    tank_moves=[((1, 7), Move.RIGHT)],\n",
    "    pop_location=(0, 6)\n",
    "))"
   ]
  },
  {
   "cell_type": "code",
   "execution_count": 92,
   "metadata": {},
   "outputs": [
    {
     "data": {
      "text/plain": [
       "GameState(territory=Territory(width=10, height=10), players={<Player.PLAYER_1: 0>: PlayerPieces(factories={(0, 6), (0, 7)}, tanks=defaultdict(<class 'int'>, {(1, 6): 1, (2, 7): 1, (0, 6): 1})), <Player.PLAYER_2: 1>: PlayerPieces(factories={(9, 5), (9, 6)}, tanks=defaultdict(<class 'int'>, {(8, 5): 1, (8, 6): 1}))})"
      ]
     },
     "execution_count": 92,
     "metadata": {},
     "output_type": "execute_result"
    }
   ],
   "source": [
    "game.game_state"
   ]
  },
  {
   "cell_type": "code",
   "execution_count": null,
   "metadata": {},
   "outputs": [],
   "source": [
    "# Main problem with the diffusion algorithm is that several tanks stacked will always behave the same (unless you tank into account each tank move)... and that tank will always move !\n",
    "# TODO - you can also introduce a bit of random (ponderated move by the map around the tank)"
   ]
  }
 ],
 "metadata": {
  "kernelspec": {
   "display_name": "Python 3",
   "language": "python",
   "name": "python3"
  },
  "language_info": {
   "codemirror_mode": {
    "name": "ipython",
    "version": 3
   },
   "file_extension": ".py",
   "mimetype": "text/x-python",
   "name": "python",
   "nbconvert_exporter": "python",
   "pygments_lexer": "ipython3",
   "version": "3.7.0"
  }
 },
 "nbformat": 4,
 "nbformat_minor": 4
}

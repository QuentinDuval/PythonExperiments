{
 "cells": [
  {
   "cell_type": "code",
   "execution_count": 1,
   "metadata": {},
   "outputs": [],
   "source": [
    "\"\"\"\n",
    "Genetic algorithm to pilot a car on a circuit made of several check points:\n",
    "- you can rotate the car between -20 and 20 degrees\n",
    "- you can thrust between 0 and 100 (percentage)\n",
    "- you cannot break for now\n",
    "\n",
    "Interesting resources:\n",
    "* http://files.magusgeek.com/csb/csb_en.html\n",
    "* https://www.codingame.com/blog/genetic-algorithms-coders-strike-back-game/?utm_source=codingame&utm_medium=details-page&utm_campaign=cg-blog&utm_content=csb\n",
    "* https://www.codingame.com/blog/evolutionary-trajectory-optimization/?utm_source=codingame&utm_medium=details-page&utm_campaign=cg-blog&utm_content=csb\n",
    "* https://www.codingame.com/multiplayer/bot-programming/coders-strike-back\n",
    "* https://en.wikipedia.org/wiki/Multi-agent_system\n",
    "\n",
    "TODO - try other approaches like:\n",
    "- neural nets (regression problem): but where do you get the data?\n",
    "- RL (and there you might be able to use neural nets)\n",
    "\"\"\"\n",
    "\n",
    "from dataclasses import *\n",
    "import numpy as np\n",
    "from typing import *"
   ]
  },
  {
   "cell_type": "code",
   "execution_count": null,
   "metadata": {},
   "outputs": [],
   "source": [
    "Position = Tuple[float, float]\n",
    "Angle = float\n",
    "Thrust = float\n",
    "Speed = float\n",
    "\n",
    "\n",
    "@dataclass(frozen=False)\n",
    "class Vehicle:\n",
    "    position: Position\n",
    "    angle: Angle\n",
    "    speed: Speed\n",
    "    \n",
    "\n",
    "# TODO - game mecanics - plus production of an animated GIF\n",
    "\n",
    "# TODO - represent the genome as sequence of N pairs (angle diff, thrust), with N being the prediction depth\n",
    "# TODO - investigate on how to do the mutations and the crossover\n",
    "# TODO - investigate on how to transform the genome into actual moves (you have difference between genes and the behavior)"
   ]
  }
 ],
 "metadata": {
  "kernelspec": {
   "display_name": "Python 3",
   "language": "python",
   "name": "python3"
  },
  "language_info": {
   "codemirror_mode": {
    "name": "ipython",
    "version": 3
   },
   "file_extension": ".py",
   "mimetype": "text/x-python",
   "name": "python",
   "nbconvert_exporter": "python",
   "pygments_lexer": "ipython3",
   "version": "3.7.0"
  }
 },
 "nbformat": 4,
 "nbformat_minor": 4
}

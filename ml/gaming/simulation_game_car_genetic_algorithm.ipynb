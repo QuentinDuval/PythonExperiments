{
 "cells": [
  {
   "cell_type": "code",
   "execution_count": 42,
   "metadata": {},
   "outputs": [],
   "source": [
    "\"\"\"\n",
    "Genetic algorithm to pilot a car on a circuit made of several check points:\n",
    "- you can rotate the car between -20 and 20 degrees\n",
    "- you can thrust between 0 and 100 (percentage)\n",
    "- you cannot break for now\n",
    "\n",
    "Interesting resources:\n",
    "* http://files.magusgeek.com/csb/csb_en.html\n",
    "* https://www.codingame.com/blog/genetic-algorithms-coders-strike-back-game/?utm_source=codingame&utm_medium=details-page&utm_campaign=cg-blog&utm_content=csb\n",
    "* https://www.codingame.com/blog/evolutionary-trajectory-optimization/?utm_source=codingame&utm_medium=details-page&utm_campaign=cg-blog&utm_content=csb\n",
    "* https://www.codingame.com/multiplayer/bot-programming/coders-strike-back\n",
    "* https://en.wikipedia.org/wiki/Multi-agent_system\n",
    "\n",
    "TODO - try other approaches like:\n",
    "- neural nets (regression problem): but where do you get the data? CHECK https://www.docdroid.net/NgvoYFR/csb-nn-slides.pdf\n",
    "- RL (and there you might be able to use neural nets)\n",
    "\"\"\"\n",
    "\n",
    "import copy\n",
    "from dataclasses import *\n",
    "import math\n",
    "import numpy as np\n",
    "from typing import *\n",
    "\n",
    "%matplotlib inline\n",
    "import matplotlib\n",
    "import matplotlib.cm as cm\n",
    "import matplotlib.pyplot as plt\n",
    "import numpy\n",
    "from PIL import Image"
   ]
  },
  {
   "cell_type": "code",
   "execution_count": 60,
   "metadata": {},
   "outputs": [],
   "source": [
    "Vector = np.ndarray\n",
    "\n",
    "Angle = float\n",
    "Mass = float\n",
    "Speed = float\n",
    "\n",
    "AngularSpeed = float\n",
    "Thrust = float\n",
    "\n",
    "\n",
    "@dataclass(frozen=True)\n",
    "class Action:\n",
    "    turn: AngularSpeed\n",
    "    thrust: Thrust\n",
    "\n",
    "\n",
    "@dataclass(frozen=True)\n",
    "class Vehicle:\n",
    "    mass: Mass\n",
    "    position: Vector\n",
    "    speed: Speed\n",
    "    direction: Angle\n",
    "\n",
    "\n",
    "def get_angle(vector):\n",
    "    # Get angle from a vector (x, y)\n",
    "    x, y = vector\n",
    "    if x > 0: return np.arctan(y / x)\n",
    "    if x < 0: return np.arctan(y / x) + (math.pi if y >= 0 else -math.pi)\n",
    "    return math.pi / 2 if y >= 0 else -math.pi / 2\n",
    "\n",
    "\n",
    "def constrain_between(value, low, high):\n",
    "    if value < low:\n",
    "        return low\n",
    "    if value > high:\n",
    "        return high\n",
    "    return value\n",
    "\n",
    "        \n",
    "def move(vehicle: Vehicle, action: Action, time_step: float) -> Vehicle:\n",
    "    \"\"\"\n",
    "    The formula is deduced from F = m * a = thrust\n",
    "    => dv / dt = thrust / m\n",
    "    => v(t+dt) = v(t) + thrust / m * dt\n",
    "    \"\"\"\n",
    "        \n",
    "    # TODO - The constraint is that the angle of thrust cannot be outside [-22 deg, 22 deg] of the current angle\n",
    "    turn = constrain_between(action.turn, - math.pi / 8, math.pi / 8)\n",
    "    new_direction = (vehicle.direction + turn * time_step) % (2 * math.pi)\n",
    "    \n",
    "    # Compute the acceleration\n",
    "    dv_dt = np.array([\n",
    "        action.thrust * math.cos(new_direction) / vehicle.mass,\n",
    "        action.thrust * math.sin(new_direction) / vehicle.mass\n",
    "    ])\n",
    "    \n",
    "    # Compute the speed\n",
    "    speed = np.array([\n",
    "        vehicle.speed * math.cos(vehicle.direction),\n",
    "        vehicle.speed * math.sin(vehicle.direction)\n",
    "    ])\n",
    "    \n",
    "    # Apply on the speed and position\n",
    "    new_speed = speed + dv_dt * time_step\n",
    "    new_pos = vehicle.position + new_speed * time_step\n",
    "    speed_norm = math.sqrt(np.dot(new_speed, new_speed))\n",
    "    return Vehicle(mass=vehicle.mass, position=new_pos, speed=speed_norm, direction=new_direction)\n",
    "    \n",
    "\n",
    "# TODO - game mecanics - plus production of an animated GIF\n",
    "\n",
    "# TODO - represent the genome as sequence of N pairs (angle diff, thrust), with N being the prediction depth\n",
    "# TODO - investigate on how to do the mutations and the crossover\n",
    "# TODO - investigate on how to transform the genome into actual moves (you have difference between genes and the behavior)"
   ]
  },
  {
   "cell_type": "code",
   "execution_count": 59,
   "metadata": {},
   "outputs": [
    {
     "data": {
      "text/plain": [
       "<matplotlib.collections.PathCollection at 0x20425968208>"
      ]
     },
     "execution_count": 59,
     "metadata": {},
     "output_type": "execute_result"
    },
    {
     "data": {
      "image/png": "[encoded data removed]",
      "text/plain": [
       "<Figure size 432x288 with 1 Axes>"
      ]
     },
     "metadata": {
      "needs_background": "light"
     },
     "output_type": "display_data"
    }
   ],
   "source": [
    "\"\"\"\n",
    "Example of a crazy movement\n",
    "\"\"\"\n",
    "\n",
    "xs = []\n",
    "ys = []\n",
    "car = Vehicle(mass=2., position=np.array([0., 0.]), speed=1., direction=0.)\n",
    "for action in [Action(turn=math.pi/2, thrust=1.)] * 300:\n",
    "    xs.append(car.position[0])\n",
    "    ys.append(car.position[1])\n",
    "    car = move(car, action=action, time_step=0.1)\n",
    "\n",
    "plt.scatter(xs, ys)"
   ]
  },
  {
   "cell_type": "code",
   "execution_count": null,
   "metadata": {},
   "outputs": [],
   "source": []
  }
 ],
 "metadata": {
  "kernelspec": {
   "display_name": "Python 3",
   "language": "python",
   "name": "python3"
  },
  "language_info": {
   "codemirror_mode": {
    "name": "ipython",
    "version": 3
   },
   "file_extension": ".py",
   "mimetype": "text/x-python",
   "name": "python",
   "nbconvert_exporter": "python",
   "pygments_lexer": "ipython3",
   "version": "3.7.0"
  }
 },
 "nbformat": 4,
 "nbformat_minor": 4
}

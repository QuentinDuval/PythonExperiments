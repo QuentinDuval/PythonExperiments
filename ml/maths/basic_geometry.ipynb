{
 "cells": [
  {
   "cell_type": "code",
   "execution_count": 12,
   "metadata": {},
   "outputs": [],
   "source": [
    "\"\"\"\n",
    "Distance of a point Q to a plane P\n",
    "\n",
    "If you have 3 points A, B, C on the plane to define it:\n",
    "- you can find the normal of the place by a cross product of AB x AC = n\n",
    "- then do a dot product between n and AQ (and divide by the normal of n)\n",
    "\n",
    "If you have the equation of a plane (a single equation defines an hyperplan):\n",
    "- you have the normal n of the place (ax + by + cz + 4 = 0 => the normal is <a,b,c>)\n",
    "- then do a dot product between n and AQ (where A is on the place)\n",
    "\n",
    "EASIER: if you have the equation of a plane:\n",
    "- replace by the coordinate of the point Q <x1,y1,z1> inside the equation of the plane\n",
    "- and divide by the norm of the normal\n",
    "(You can check that it works by just writting the definition of dot product between AQ and n, where A is any point of the place)\n",
    "\"\"\"\n",
    "\n",
    "%matplotlib inline\n",
    "import dataclasses\n",
    "import math\n",
    "import matplotlib\n",
    "import matplotlib.cm as cm\n",
    "import matplotlib.pyplot as plt\n",
    "import numpy as np"
   ]
  },
  {
   "cell_type": "code",
   "execution_count": 15,
   "metadata": {},
   "outputs": [
    {
     "name": "stdout",
     "output_type": "stream",
     "text": [
      "Distance: 4.270992778072193\n",
      "Distance: 4.270992778072193\n"
     ]
    }
   ],
   "source": [
    "plane = np.array([4, -2, 3, 5]) # 4x -2y + 3z + 5 = 0\n",
    "point = np.array([5, 7, 4])\n",
    "normal = plane[:-1]\n",
    "distance = np.dot(plane, np.concatenate((point, [1]))) / math.sqrt(np.dot(normal, normal))\n",
    "print(\"Distance:\", distance)\n",
    "\n",
    "@dataclasses.dataclass(frozen=False)\n",
    "class Plane:\n",
    "    normal: np.array\n",
    "    bias: float\n",
    "\n",
    "plane = Plane(normal=np.array([4, -2, 3]), bias=5)\n",
    "distance = (np.dot(plane.normal, point) + plane.bias) / math.sqrt(np.dot(plane.normal, plane.normal))\n",
    "print(\"Distance:\", distance)"
   ]
  },
  {
   "cell_type": "code",
   "execution_count": null,
   "metadata": {},
   "outputs": [],
   "source": []
  }
 ],
 "metadata": {
  "kernelspec": {
   "display_name": "Python 3",
   "language": "python",
   "name": "python3"
  },
  "language_info": {
   "codemirror_mode": {
    "name": "ipython",
    "version": 3
   },
   "file_extension": ".py",
   "mimetype": "text/x-python",
   "name": "python",
   "nbconvert_exporter": "python",
   "pygments_lexer": "ipython3",
   "version": "3.7.0"
  }
 },
 "nbformat": 4,
 "nbformat_minor": 4
}

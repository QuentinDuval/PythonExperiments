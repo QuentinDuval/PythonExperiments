{
 "cells": [
  {
   "cell_type": "code",
   "execution_count": 78,
   "metadata": {},
   "outputs": [],
   "source": [
    "%matplotlib inline\n",
    "import matplotlib\n",
    "import matplotlib.cm as cm\n",
    "import matplotlib.pyplot as plt\n",
    "import math\n",
    "import numpy as np\n",
    "\n",
    "from dataclasses import *\n",
    "import numpy as np\n",
    "from typing import *"
   ]
  },
  {
   "cell_type": "code",
   "execution_count": 56,
   "metadata": {},
   "outputs": [
    {
     "data": {
      "image/png": "[encoded data removed]",
      "text/plain": [
       "<Figure size 432x288 with 1 Axes>"
      ]
     },
     "metadata": {
      "needs_background": "light"
     },
     "output_type": "display_data"
    }
   ],
   "source": [
    "\"\"\"\n",
    "Integration in a square x[0:3] and y[0:2] of x**2 - y**2\n",
    "\n",
    "Exact value is 10, obtained from integrating first with x:\n",
    "=> antiderivative [x**3 / 3 - x * y**2] between 0 and 3\n",
    "=> integrate 18 - 3 * y ** 2 with y\n",
    "=> antiderivative [18 - y ** 3] between 0 and 2\n",
    "=> 18 - 8 = 10\n",
    "\"\"\"\n",
    "\n",
    "@dataclass(frozen=True)\n",
    "class Range:\n",
    "    lo: float\n",
    "    hi: float\n",
    "    step: float\n",
    "\n",
    "def estimate_double_integral(x_range: Range, y_range: Range, fct) -> float:\n",
    "    '''\n",
    "    total = 0.\n",
    "    for x in np.arange(x_range.lo, x_range.hi, x_range.step):\n",
    "        for y in np.arange(y_range.lo, y_range.hi, y_range.step):\n",
    "            total += fct(x, y) * x_range.step * y_range.step\n",
    "    return total\n",
    "    '''\n",
    "    # Way faster than the loop\n",
    "    xs = np.arange(x_range.lo, x_range.hi, x_range.step)\n",
    "    ys = np.arange(y_range.lo, y_range.hi, y_range.step)\n",
    "    xs, ys = np.meshgrid(xs, ys)\n",
    "    return np.sum(fct(xs, ys) * x_range.step * y_range.step)\n",
    "\n",
    "steps = []\n",
    "approximations = []\n",
    "\n",
    "for step in [1., 0.5, 0.1, 0.01, 0.001]:\n",
    "    steps.append(step)\n",
    "    res = estimate_double_integral(\n",
    "        x_range=Range(0., 3., step),\n",
    "        y_range=Range(0., 2., step),\n",
    "        fct=lambda x, y: x ** 2 - y ** 2)\n",
    "    approximations.append(res)\n",
    "\n",
    "plt.plot(steps, approximations)\n",
    "plt.xscale('log')\n",
    "plt.show()"
   ]
  },
  {
   "cell_type": "code",
   "execution_count": 81,
   "metadata": {},
   "outputs": [
    {
     "name": "stdout",
     "output_type": "stream",
     "text": [
      "3.1498000000000017\n"
     ]
    }
   ],
   "source": [
    "\"\"\"\n",
    "Other forms of integral:\n",
    "- type 1: y interval function of x\n",
    "- type 2: x interval function of y\n",
    "\"\"\"\n",
    "\n",
    "def estimate_dependent_integral(x_range: Range, get_y_range, fct) -> float:\n",
    "    total = 0.\n",
    "    for x in np.arange(x_range.lo, x_range.hi, x_range.step):\n",
    "        y_range = get_y_range(x)\n",
    "        ys = np.arange(y_range.lo, y_range.hi, y_range.step)\n",
    "        val = np.sum(fct(x, ys) * x_range.step * y_range.step)\n",
    "        total += val\n",
    "    return total\n",
    "\n",
    "step = 0.01\n",
    "res = estimate_dependent_integral(\n",
    "    x_range=Range(-1., 1., step),\n",
    "    get_y_range=lambda x: Range(-math.sqrt(1-x**2), math.sqrt(1-x**2), step=step),\n",
    "    fct=lambda x, y: np.full(1, y.shape))\n",
    "print(res)"
   ]
  },
  {
   "cell_type": "code",
   "execution_count": null,
   "metadata": {},
   "outputs": [],
   "source": []
  }
 ],
 "metadata": {
  "kernelspec": {
   "display_name": "Python 3",
   "language": "python",
   "name": "python3"
  },
  "language_info": {
   "codemirror_mode": {
    "name": "ipython",
    "version": 3
   },
   "file_extension": ".py",
   "mimetype": "text/x-python",
   "name": "python",
   "nbconvert_exporter": "python",
   "pygments_lexer": "ipython3",
   "version": "3.7.0"
  }
 },
 "nbformat": 4,
 "nbformat_minor": 4
}

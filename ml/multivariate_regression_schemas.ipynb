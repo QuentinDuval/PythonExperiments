{
 "cells": [
  {
   "cell_type": "code",
   "execution_count": 2,
   "metadata": {},
   "outputs": [],
   "source": [
    "%matplotlib inline\n",
    "import matplotlib\n",
    "import matplotlib.cm as cm\n",
    "import matplotlib.pyplot as plt\n",
    "import numpy as np\n",
    "import matplotlib.pyplot as plt\n",
    "\n",
    "# In order to make the import of local modules\n",
    "import sys\n",
    "sys.path.append('..')\n",
    "\n",
    "# local modules\n",
    "from ml.linear_regression import *"
   ]
  },
  {
   "cell_type": "code",
   "execution_count": 5,
   "metadata": {},
   "outputs": [
    {
     "name": "stdout",
     "output_type": "stream",
     "text": [
      "[[1. 1. 2.]\n",
      " [0. 1. 1.]]\n",
      "[[1. 1. 2.]\n",
      " [0. 1. 1.]]\n",
      "[[1. 1. 2.]\n",
      " [0. 1. 1.]]\n",
      "[[-2.  0. -5.]\n",
      " [ 3.  1.  7.]\n",
      " [-3.  0. -6.]]\n"
     ]
    }
   ],
   "source": [
    "print(linear_regression(xs=[(1,), (2,), (3,)], ys=[(1,2,3), (2,3,5), (3,4,7)]))\n",
    "print(linear_regression(xs=[1, 2, 3], ys=[(1,2,3), (2,3,5), (3,4,7)]))\n",
    "print(linear_regression(xs=[1, 2, 3], ys=[(1,2,3), (2,3,5), (3,4,7)]))\n",
    "print(linear_regression(xs=[(1,2), (2,3), (3,4)], ys=[(1,2,3), (2,3,5), (3,4,7)]))"
   ]
  },
  {
   "cell_type": "code",
   "execution_count": null,
   "metadata": {},
   "outputs": [],
   "source": [
    "# TODO - explain why it works\n",
    "# TODO - explain why it is like (multi-task learning, it is just a way to build, completely equivalent to doing it N times)\n",
    "# TODO - explain why multi-task learning works for DL: because of parameter sharing"
   ]
  }
 ],
 "metadata": {
  "kernelspec": {
   "display_name": "Python 3",
   "language": "python",
   "name": "python3"
  },
  "language_info": {
   "codemirror_mode": {
    "name": "ipython",
    "version": 3
   },
   "file_extension": ".py",
   "mimetype": "text/x-python",
   "name": "python",
   "nbconvert_exporter": "python",
   "pygments_lexer": "ipython3",
   "version": "3.7.0"
  }
 },
 "nbformat": 4,
 "nbformat_minor": 4
}

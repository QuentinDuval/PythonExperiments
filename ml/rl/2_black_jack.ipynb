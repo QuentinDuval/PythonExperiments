{
 "cells": [
  {
   "cell_type": "code",
   "execution_count": 2,
   "metadata": {},
   "outputs": [],
   "source": [
    "\"\"\"\n",
    "Solving the Black Jack via reinforcement learning to find the optimal strategy:\n",
    "- via Dynamic Programming (RL)\n",
    "- via Monte Carlo methods (on-policy and off-policy)\n",
    "\n",
    "Rules of the Black Jack here (one vs one against the dealer):\n",
    "- if sum of the card goes above 21, you bust (lose), else you can stick or hit\n",
    "- dealer has deterministic way of playing: sticks if higher than 17, else hits\n",
    "- the ace can count as either 1 or 11, and you start with 2 cards\n",
    "- you see one of the card of the dealer\n",
    "\"\"\"\n",
    "\n",
    "import numpy as np"
   ]
  },
  {
   "cell_type": "code",
   "execution_count": null,
   "metadata": {},
   "outputs": [],
   "source": []
  }
 ],
 "metadata": {
  "kernelspec": {
   "display_name": "Python 3",
   "language": "python",
   "name": "python3"
  },
  "language_info": {
   "codemirror_mode": {
    "name": "ipython",
    "version": 3
   },
   "file_extension": ".py",
   "mimetype": "text/x-python",
   "name": "python",
   "nbconvert_exporter": "python",
   "pygments_lexer": "ipython3",
   "version": "3.7.1"
  }
 },
 "nbformat": 4,
 "nbformat_minor": 4
}

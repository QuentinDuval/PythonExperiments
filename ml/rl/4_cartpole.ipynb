{
 "cells": [
  {
   "cell_type": "code",
   "execution_count": 1,
   "metadata": {},
   "outputs": [],
   "source": [
    "import abc\n",
    "from collections import *\n",
    "from dataclasses import dataclass\n",
    "import enum\n",
    "import gym\n",
    "import heapq\n",
    "import numpy as np\n",
    "from typing import *\n",
    "\n",
    "%matplotlib inline\n",
    "import imageio\n",
    "import matplotlib\n",
    "import matplotlib.cm as cm\n",
    "import matplotlib.pyplot as plt\n",
    "from PIL import Image"
   ]
  },
  {
   "cell_type": "code",
   "execution_count": 34,
   "metadata": {},
   "outputs": [],
   "source": [
    "class Agent(abc.ABC):\n",
    "    \n",
    "    @abc.abstractmethod\n",
    "    def get_action(self, env, state):\n",
    "        pass\n",
    "\n",
    "\n",
    "def try_agent(agent: Agent):\n",
    "    with gym.make(\"CartPole-v0\") as env:\n",
    "        total_reward = 0.0\n",
    "        obs = env.reset()\n",
    "        env.render()\n",
    "        done = False\n",
    "        while not done:\n",
    "            action = agent.get_action(env, obs)\n",
    "            obs, reward, done, _ = env.step(action)\n",
    "            total_reward += reward\n",
    "            env.render()\n",
    "        print(\"Total reward {0:.2f}\".format(total_reward))"
   ]
  },
  {
   "cell_type": "code",
   "execution_count": 37,
   "metadata": {},
   "outputs": [
    {
     "name": "stdout",
     "output_type": "stream",
     "text": [
      "Total reward 16.00\n"
     ]
    }
   ],
   "source": [
    "\"\"\"\n",
    "Random agent\n",
    "\"\"\"\n",
    "\n",
    "class RandomAgent(Agent):\n",
    "    def get_action(self, env, state):\n",
    "        return env.action_space.sample()\n",
    "\n",
    "\n",
    "try_agent(RandomAgent())"
   ]
  },
  {
   "cell_type": "code",
   "execution_count": 43,
   "metadata": {},
   "outputs": [
    {
     "name": "stdout",
     "output_type": "stream",
     "text": [
      "Total reward 45.00\n"
     ]
    }
   ],
   "source": [
    "\"\"\"\n",
    "Manual agent (does not take account of speed)\n",
    "\"\"\"\n",
    "\n",
    "\n",
    "class BrutalAgent(Agent):\n",
    "    def get_action(self, env, state):\n",
    "        x, x_dot, theta, theta_dot = state\n",
    "        if theta < 0.02:\n",
    "            return 0\n",
    "        elif theta > 0.02:\n",
    "            return 1\n",
    "        return 0\n",
    "\n",
    "\n",
    "try_agent(BrutalAgent())"
   ]
  },
  {
   "cell_type": "code",
   "execution_count": 131,
   "metadata": {},
   "outputs": [],
   "source": [
    "\"\"\"\n",
    "Cross Entropy Method:\n",
    "- Start with a random policy\n",
    "- Play N episodes with the current policy\n",
    "- Take the episodes above a reward boundary (typically percentile 70th)\n",
    "- Train on these \"Elite\" episodes (throw away the uninteresting ones)\n",
    "=> Look like a kind of genetic algorithm stuff\n",
    "\"\"\"\n",
    "\n",
    "\n",
    "import torch\n",
    "import torch.nn as nn\n",
    "import torch.optim as optim\n",
    "import torch.utils.data as data\n",
    "\n",
    "\n",
    "class TwoLayerNet(nn.Module):\n",
    "    def __init__(self, observation_size, hidden_size, action_size):\n",
    "        super().__init__()\n",
    "        self.fc = nn.Sequential(\n",
    "            nn.Linear(observation_size, hidden_size),\n",
    "            nn.ReLU(),\n",
    "            nn.Linear(hidden_size, action_size))\n",
    "        self.softmax = nn.Softmax(dim=-1)\n",
    "        \n",
    "    def forward(self, observations, with_softmax = False):\n",
    "        ys = self.fc(observations)\n",
    "        if with_softmax:\n",
    "            return self.softmax(ys)\n",
    "        return ys\n",
    "\n",
    "\n",
    "class CrossEntropyAgent(Agent):\n",
    "    def __init__(self, epsilon: float = 0.1):\n",
    "        self.epsilon = epsilon\n",
    "        self.net = TwoLayerNet(observation_size=4, hidden_size=128, action_size=2)\n",
    "    \n",
    "    def get_action(self, env, state):\n",
    "        if self.epsilon > 0. and np.random.random() < self.epsilon:\n",
    "            return env.action_space.sample()\n",
    "        \n",
    "        self.net.eval()\n",
    "        xs = torch.FloatTensor(state)\n",
    "        ys = self.net(xs, with_softmax=True)\n",
    "        return torch.argmax(ys).item()\n",
    "    \n",
    "    def fit(self, env,\n",
    "            max_iteration: int = 100,\n",
    "            epsilon_decrease: float = 0.,\n",
    "            learning_rate: float = 1e-1,\n",
    "            batch_size: int = 1000,\n",
    "            batch_threshold: float = 0.7) -> List[float]:\n",
    "        mean_scores = []\n",
    "        self.net.train()\n",
    "        for _ in range(max_iteration):\n",
    "            episodes = [self._play_episode(env) for _ in range(batch_size)]\n",
    "            mean_score = np.mean([episode[-1] for episode in episodes])\n",
    "            mean_scores.append(mean_score)\n",
    "            print(\"Mean score:\", mean_score)\n",
    "            if mean_score >= 200:\n",
    "                break\n",
    "            \n",
    "            episodes.sort(key=lambda t: t[-1])\n",
    "            episodes = episodes[int(batch_threshold*batch_size):]\n",
    "            self._training_loop(episodes, learning_rate)\n",
    "            self.epsilon -= epsilon_decrease\n",
    "        return mean_scores\n",
    "    \n",
    "    def _play_episode(self, env):\n",
    "        states, actions = [], []\n",
    "        total_reward = 0.0\n",
    "        state = env.reset()\n",
    "        done = False\n",
    "        while not done:\n",
    "            action = self.get_action(env, state)\n",
    "            states.append(state)\n",
    "            actions.append(action)\n",
    "            state, reward, done, _ = env.step(action)\n",
    "            total_reward += reward\n",
    "        return states, actions, total_reward\n",
    "    \n",
    "    def _training_loop(self, episodes, learning_rate: float):\n",
    "        criterion = nn.CrossEntropyLoss()\n",
    "        optimizer = optim.Adam(self.net.parameters(), lr=learning_rate)\n",
    "        data_set = self._to_data_set(episodes)\n",
    "        loader = data.DataLoader(data_set, batch_size=100, shuffle=True)\n",
    "        for _ in range(100): # TODO - try to see if we can remove this... it seems to make it more unstable\n",
    "            for states, actions in loader:\n",
    "                optimizer.zero_grad()\n",
    "                got = self.net(states, with_softmax=False)\n",
    "                loss = criterion(got, actions)\n",
    "                loss.backward()\n",
    "                optimizer.step()\n",
    "    \n",
    "    def _to_data_set(self, episodes):\n",
    "        xs, ys = [], []\n",
    "        for states, actions, reward in episodes:\n",
    "            for state, action in zip(states, actions):\n",
    "                xs.append(state)\n",
    "                ys.append(action)\n",
    "        \n",
    "        xs = torch.FloatTensor(xs)\n",
    "        ys = torch.LongTensor(ys)\n",
    "        return data.TensorDataset(xs, ys)"
   ]
  },
  {
   "cell_type": "code",
   "execution_count": 132,
   "metadata": {},
   "outputs": [
    {
     "name": "stdout",
     "output_type": "stream",
     "text": [
      "Mean score: 9.40625\n",
      "Mean score: 10.5625\n",
      "Mean score: 10.75\n",
      "Mean score: 10.375\n",
      "Mean score: 10.34375\n",
      "Mean score: 10.96875\n",
      "Mean score: 11.375\n",
      "Mean score: 15.5625\n",
      "Mean score: 23.3125\n",
      "Mean score: 28.1875\n",
      "Mean score: 44.125\n",
      "Mean score: 42.9375\n",
      "Mean score: 42.21875\n",
      "Mean score: 77.90625\n",
      "Mean score: 105.4375\n",
      "Mean score: 108.9375\n",
      "Mean score: 133.3125\n",
      "Mean score: 155.75\n",
      "Mean score: 163.0\n",
      "Mean score: 195.0\n",
      "Mean score: 187.59375\n",
      "Mean score: 190.4375\n",
      "Mean score: 189.125\n",
      "Mean score: 191.09375\n",
      "Mean score: 189.875\n",
      "Mean score: 200.0\n"
     ]
    },
    {
     "data": {
      "image/png": "[encoded data removed]",
      "text/plain": [
       "<Figure size 1080x720 with 1 Axes>"
      ]
     },
     "metadata": {
      "needs_background": "light"
     },
     "output_type": "display_data"
    }
   ],
   "source": [
    "agent = CrossEntropyAgent(epsilon=0.2)\n",
    "with gym.make(\"CartPole-v0\") as env:\n",
    "    scores = agent.fit(env, epsilon_decrease=0.001, max_iteration = 100, learning_rate = 1e-2, batch_size = 32, batch_threshold = 0.7)\n",
    "\n",
    "plt.figure(figsize=(15, 10))\n",
    "plt.plot(scores)\n",
    "plt.show()"
   ]
  },
  {
   "cell_type": "code",
   "execution_count": 135,
   "metadata": {},
   "outputs": [
    {
     "name": "stdout",
     "output_type": "stream",
     "text": [
      "Total reward 200.00\n"
     ]
    }
   ],
   "source": [
    "agent.epsilon = 0.\n",
    "try_agent(agent)"
   ]
  },
  {
   "cell_type": "code",
   "execution_count": null,
   "metadata": {},
   "outputs": [],
   "source": []
  },
  {
   "cell_type": "code",
   "execution_count": null,
   "metadata": {},
   "outputs": [],
   "source": []
  }
 ],
 "metadata": {
  "kernelspec": {
   "display_name": "Python 3",
   "language": "python",
   "name": "python3"
  },
  "language_info": {
   "codemirror_mode": {
    "name": "ipython",
    "version": 3
   },
   "file_extension": ".py",
   "mimetype": "text/x-python",
   "name": "python",
   "nbconvert_exporter": "python",
   "pygments_lexer": "ipython3",
   "version": "3.7.0"
  }
 },
 "nbformat": 4,
 "nbformat_minor": 4
}

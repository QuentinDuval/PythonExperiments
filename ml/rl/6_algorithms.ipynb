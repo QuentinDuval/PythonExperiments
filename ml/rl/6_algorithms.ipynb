{
 "cells": [
  {
   "cell_type": "code",
   "execution_count": 1,
   "metadata": {},
   "outputs": [],
   "source": [
    "# In order to make the import of local modules\n",
    "import sys\n",
    "sys.path.append('../..')\n",
    "\n",
    "from ml.rl.core import *\n",
    "\n",
    "import abc\n",
    "from collections import *\n",
    "from dataclasses import *\n",
    "import enum\n",
    "import gym\n",
    "import heapq\n",
    "import numpy as np\n",
    "import pandas as pd\n",
    "import random\n",
    "from tqdm import tqdm, trange\n",
    "from typing import *\n",
    "\n",
    "import torch\n",
    "import torch.nn as nn\n",
    "import torch.optim as optim\n",
    "import torch.utils.data as data\n",
    "\n",
    "import imageio\n",
    "import matplotlib\n",
    "import matplotlib.cm as cm\n",
    "import matplotlib.pyplot as plt\n",
    "from PIL import Image"
   ]
  },
  {
   "cell_type": "code",
   "execution_count": 7,
   "metadata": {},
   "outputs": [
    {
     "name": "stdout",
     "output_type": "stream",
     "text": [
      "{'env': <gym.envs.algorithmic.copy_.CopyEnv object at 0x11c3df358>, 'action_space': Tuple(Discrete(2), Discrete(2), Discrete(5)), 'observation_space': Discrete(6), 'reward_range': (-inf, inf), 'metadata': {'render.modes': ['human', 'ansi']}, 'spec': EnvSpec(Copy-v0), '_max_episode_seconds': None, '_max_episode_steps': 200, '_elapsed_steps': 0, '_episode_started_at': None}\n",
      "Tuple(Discrete(2), Discrete(2), Discrete(5))\n",
      "Discrete(6)\n",
      "None\n"
     ]
    }
   ],
   "source": [
    "with gym.make(\"Copy-v0\") as env:\n",
    "    print(env.__dict__)\n",
    "    print(env.action_space)\n",
    "    print(env.observation_space)\n",
    "    print(env.__doc__)"
   ]
  },
  {
   "cell_type": "code",
   "execution_count": null,
   "metadata": {},
   "outputs": [],
   "source": []
  }
 ],
 "metadata": {
  "kernelspec": {
   "display_name": "Python 3",
   "language": "python",
   "name": "python3"
  },
  "language_info": {
   "codemirror_mode": {
    "name": "ipython",
    "version": 3
   },
   "file_extension": ".py",
   "mimetype": "text/x-python",
   "name": "python",
   "nbconvert_exporter": "python",
   "pygments_lexer": "ipython3",
   "version": "3.7.1"
  }
 },
 "nbformat": 4,
 "nbformat_minor": 4
}

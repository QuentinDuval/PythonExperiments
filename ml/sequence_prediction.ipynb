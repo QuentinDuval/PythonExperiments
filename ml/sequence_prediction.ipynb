{
 "cells": [
  {
   "cell_type": "code",
   "execution_count": 50,
   "metadata": {},
   "outputs": [
    {
     "name": "stdout",
     "output_type": "stream",
     "text": [
      "[None, PlusRule(offset=1, to_add=1), PlusRule(offset=1, to_add=1), PlusRule(offset=3, to_add=0), PlusRule(offset=3, to_add=0), PlusRule(offset=3, to_add=0), PlusRule(offset=3, to_add=0)]\n",
      "[1, 2, 3, 1, 2, 3, 1, 2, 3, 1, 2, 3]\n",
      "[None, PlusRule(offset=1, to_add=1), PlusRule(offset=1, to_add=1), PlusRule(offset=1, to_add=1), PlusRule(offset=1, to_add=1), PlusRule(offset=1, to_add=1), PlusRule(offset=6, to_add=0), PlusRule(offset=6, to_add=0), PlusRule(offset=6, to_add=0), PlusRule(offset=6, to_add=0), PlusRule(offset=6, to_add=0), PlusRule(offset=6, to_add=0), PlusRule(offset=6, to_add=0)]\n",
      "[1, 2, 3, 4, 5, 6, 1, 2, 3, 4, 5, 6, 1, 2, 3, 4, 5, 6]\n",
      "[None, PlusRule(offset=1, to_add=1), PlusRule(offset=1, to_add=1), PlusRule(offset=1, to_add=1), PlusRule(offset=1, to_add=1), PlusRule(offset=1, to_add=1), PlusRule(offset=6, to_add=0), PlusRule(offset=6, to_add=0), PlusRule(offset=6, to_add=0), PlusRule(offset=6, to_add=0), PlusRule(offset=6, to_add=0), PlusRule(offset=6, to_add=0), PlusRule(offset=6, to_add=0), PlusRule(offset=6, to_add=0)]\n",
      "[1, 2, 3, 4, 5, 6, 1, 2, 3, 4, 5, 6, 1, 2, 3, 4, 5, 6, 1]\n"
     ]
    }
   ],
   "source": [
    "\"\"\"\n",
    "Build a Kolmogorov based model to deduce the next element in a sequence\n",
    "\"\"\"\n",
    "\n",
    "from dataclasses import dataclass\n",
    "import math\n",
    "import numpy as np\n",
    "from typing import List\n",
    "\n",
    "class Weights:\n",
    "    COPY = 1\n",
    "    ADD = 10\n",
    "\n",
    "@dataclass(frozen=True)\n",
    "class PlusRule:\n",
    "    offset: int\n",
    "    to_add: int\n",
    "        \n",
    "    def get_complexity(self):\n",
    "        dist = 1 + Weights.COPY * abs(self.offset)\n",
    "        diff = 1 + Weights.ADD * abs(self.to_add)\n",
    "        return math.log(dist) + math.log(diff)\n",
    "    \n",
    "    def apply(self, values: List[int]):\n",
    "        current_index = len(values)\n",
    "        return values[current_index - self.offset] + self.to_add\n",
    "\n",
    "# TODO - introduce the notion of meta-pattern\n",
    "    \n",
    "class KolmogorovModel:\n",
    "    def __init__(self, values):\n",
    "        self.values = values\n",
    "        self.previous = []\n",
    "        self._train()\n",
    "    \n",
    "    def generate_next(self, count=1):\n",
    "        for _ in range(count):\n",
    "            self.previous.append(self.previous[-1])\n",
    "            self.values.append(self.previous[-1].apply(self.values))\n",
    "    \n",
    "    def _train(self):\n",
    "        self._train_first_level()\n",
    "        self._train_recursively()\n",
    "    \n",
    "    def _train_first_level(self):\n",
    "        for i, val in enumerate(self.values):\n",
    "            lowest_complexity = float('inf')\n",
    "            lowest_rule = None\n",
    "            for j in range(i):\n",
    "                rule = PlusRule(i - j, self.values[i] - self.values[j])\n",
    "                if rule.get_complexity() < lowest_complexity:\n",
    "                    lowest_complexity = rule.get_complexity()\n",
    "                    lowest_rule = rule\n",
    "            self.previous.append(lowest_rule)\n",
    "    \n",
    "    def _train_recursively(self):\n",
    "        pass # TODO - rules of rules...\n",
    "\n",
    "model = KolmogorovModel(values = [1, 2, 3, 1, 2, 3, 1])\n",
    "print(model.previous)\n",
    "model.generate_next(count=5)\n",
    "print(model.values)\n",
    "\n",
    "model = KolmogorovModel(values = [1, 2, 3, 4, 5, 6, 1, 2, 3, 4, 5, 6, 1])\n",
    "print(model.previous)\n",
    "model.generate_next(count=5)\n",
    "print(model.values)\n",
    "\n",
    "model = KolmogorovModel(values = [1, 2, 3, 4, 5, 6, 1, 2, 3, 4, 5, 6, 1, 2])\n",
    "print(model.previous)\n",
    "model.generate_next(count=5)\n",
    "print(model.values)"
   ]
  },
  {
   "cell_type": "code",
   "execution_count": null,
   "metadata": {},
   "outputs": [],
   "source": []
  }
 ],
 "metadata": {
  "kernelspec": {
   "display_name": "Python 3",
   "language": "python",
   "name": "python3"
  },
  "language_info": {
   "codemirror_mode": {
    "name": "ipython",
    "version": 3
   },
   "file_extension": ".py",
   "mimetype": "text/x-python",
   "name": "python",
   "nbconvert_exporter": "python",
   "pygments_lexer": "ipython3",
   "version": "3.7.0"
  }
 },
 "nbformat": 4,
 "nbformat_minor": 4
}

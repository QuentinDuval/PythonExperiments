{
 "cells": [
  {
   "cell_type": "code",
   "execution_count": 1,
   "metadata": {},
   "outputs": [],
   "source": [
    "%matplotlib inline\n",
    "import matplotlib\n",
    "import matplotlib.cm as cm\n",
    "import matplotlib.pyplot as plt\n",
    "import numpy as np\n",
    "\n",
    "import torch\n",
    "import torch.nn as nn\n",
    "import torch.optim as optim\n",
    "from torch.utils.data import *"
   ]
  },
  {
   "cell_type": "code",
   "execution_count": 36,
   "metadata": {},
   "outputs": [
    {
     "name": "stdout",
     "output_type": "stream",
     "text": [
      "6.0348711013793945\n",
      "0.011241880245506763\n",
      "0.0015373800415545702\n",
      "0.0004480845818761736\n",
      "0.00014296278823167086\n",
      "4.1011255234479904e-05\n",
      "1.1379737770766951e-05\n",
      "4.2202777876809705e-06\n",
      "1.7158727132482454e-06\n",
      "6.378023726938409e-07\n"
     ]
    }
   ],
   "source": [
    "\"\"\"\n",
    "Even the simple regression with 4 dimensions: approximation of an absolute value function.\n",
    "\"\"\"\n",
    "\n",
    "class RegressionModel(nn.Module):\n",
    "    def __init__(self):\n",
    "        super().__init__()\n",
    "        self.model = nn.Sequential(nn.Linear(1, 2), nn.ReLU(), nn.Linear(2, 1))\n",
    "            \n",
    "    def forward(self, x, with_softmax=True):\n",
    "        x = self.model(x)\n",
    "        return x\n",
    "\n",
    "def train(xs, ys):\n",
    "    data_set = TensorDataset(xs, ys)\n",
    "    data_loader = DataLoader(data_set, batch_size=100, shuffle=True)\n",
    "\n",
    "    model = RegressionModel()\n",
    "    criterion = nn.MSELoss()\n",
    "    optimizer = optim.Adam(model.parameters(), lr=1e-1)\n",
    "\n",
    "    for epoch in range(1000):\n",
    "        cumulative_loss = 0.\n",
    "        for inputs, expected in data_loader:\n",
    "            optimizer.zero_grad()\n",
    "            got = model(inputs)\n",
    "            loss = criterion(got, expected)\n",
    "            loss.backward()\n",
    "            optimizer.step()\n",
    "            cumulative_loss += loss.item()\n",
    "        if epoch % 100 == 0:\n",
    "            print(cumulative_loss)\n",
    "    return model\n",
    "\n",
    "xs = np.random.uniform(-5, 5, size=100).reshape((100,1))\n",
    "xs = torch.tensor(xs, dtype=torch.float32, requires_grad=False)\n",
    "ys = torch.tensor(np.abs(xs), dtype=torch.float32, requires_grad=False)\n",
    "model = train(xs, ys)"
   ]
  },
  {
   "cell_type": "code",
   "execution_count": 38,
   "metadata": {},
   "outputs": [
    {
     "data": {
      "text/plain": [
       "tensor([[10.0002],\n",
       "        [ 5.0001],\n",
       "        [ 0.9999],\n",
       "        [ 0.0276],\n",
       "        [ 0.9999],\n",
       "        [ 5.0001],\n",
       "        [10.0002]], grad_fn=<ThAddmmBackward>)"
      ]
     },
     "execution_count": 38,
     "metadata": {},
     "output_type": "execute_result"
    }
   ],
   "source": [
    "def predict(model, xs):\n",
    "    xs = torch.tensor(xs, dtype=torch.float32, requires_grad=False).unsqueeze(dim=-1)\n",
    "    ys = model(xs, with_softmax=True)\n",
    "    return ys\n",
    "\n",
    "predict(model, [-10, -5, -1, 0, 1, 5, 10])"
   ]
  },
  {
   "cell_type": "code",
   "execution_count": null,
   "metadata": {},
   "outputs": [],
   "source": []
  }
 ],
 "metadata": {
  "kernelspec": {
   "display_name": "Python 3",
   "language": "python",
   "name": "python3"
  },
  "language_info": {
   "codemirror_mode": {
    "name": "ipython",
    "version": 3
   },
   "file_extension": ".py",
   "mimetype": "text/x-python",
   "name": "python",
   "nbconvert_exporter": "python",
   "pygments_lexer": "ipython3",
   "version": "3.7.0"
  }
 },
 "nbformat": 4,
 "nbformat_minor": 4
}

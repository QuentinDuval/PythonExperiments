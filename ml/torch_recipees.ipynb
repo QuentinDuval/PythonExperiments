{
 "cells": [
  {
   "cell_type": "code",
   "execution_count": 25,
   "metadata": {},
   "outputs": [],
   "source": [
    "import numpy as np\n",
    "import torch\n",
    "import torch.nn as nn"
   ]
  },
  {
   "cell_type": "code",
   "execution_count": 24,
   "metadata": {},
   "outputs": [
    {
     "name": "stdout",
     "output_type": "stream",
     "text": [
      "tensor([[[1., 1.]],\n",
      "\n",
      "        [[0., 0.]],\n",
      "\n",
      "        [[1., 1.]],\n",
      "\n",
      "        [[0., 0.]],\n",
      "\n",
      "        [[0., 0.]],\n",
      "\n",
      "        [[1., 1.]],\n",
      "\n",
      "        [[1., 1.]],\n",
      "\n",
      "        [[0., 0.]],\n",
      "\n",
      "        [[0., 0.]],\n",
      "\n",
      "        [[1., 1.]]])\n"
     ]
    }
   ],
   "source": [
    "\"\"\"\n",
    "Combining two sources of tensors and shuffling them\n",
    "\"\"\"\n",
    "\n",
    "x1 = torch.ones((5,1))\n",
    "x2 = torch.zeros((5,1))\n",
    "y1 = torch.ones((5,1))\n",
    "y2 = torch.zeros((5,1))\n",
    "\n",
    "# Concatenating two sources of data\n",
    "\n",
    "xs = torch.cat((x1, x2), dim=0)\n",
    "ys = torch.cat((y1, y2), dim=0)\n",
    "\n",
    "# Shuffling two collections at the same time\n",
    "\n",
    "indices = np.array(range(len(xs)))\n",
    "np.random.shuffle(indices)\n",
    "xs = xs[indices]\n",
    "ys = ys[indices]\n",
    "\n",
    "print(torch.stack((xs, ys), dim=-1))"
   ]
  },
  {
   "cell_type": "code",
   "execution_count": 31,
   "metadata": {},
   "outputs": [
    {
     "name": "stdout",
     "output_type": "stream",
     "text": [
      "torch.Size([1, 5, 5, 5])\n"
     ]
    }
   ],
   "source": [
    "inv_conv = nn.ConvTranspose2d(\n",
    "    in_channels=10,\n",
    "    out_channels=5,\n",
    "    kernel_size=(5, 5),\n",
    "    stride=(1, 1),\n",
    "    bias=False)\n",
    "\n",
    "\n",
    "xs = torch.ones((1, 10, 1, 1))\n",
    "ys = inv_conv(xs)\n",
    "\n",
    "print(ys.shape)"
   ]
  },
  {
   "cell_type": "code",
   "execution_count": null,
   "metadata": {},
   "outputs": [],
   "source": []
  }
 ],
 "metadata": {
  "kernelspec": {
   "display_name": "Python 3",
   "language": "python",
   "name": "python3"
  },
  "language_info": {
   "codemirror_mode": {
    "name": "ipython",
    "version": 3
   },
   "file_extension": ".py",
   "mimetype": "text/x-python",
   "name": "python",
   "nbconvert_exporter": "python",
   "pygments_lexer": "ipython3",
   "version": "3.7.0"
  }
 },
 "nbformat": 4,
 "nbformat_minor": 4
}

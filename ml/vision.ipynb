{
 "cells": [
  {
   "cell_type": "code",
   "execution_count": 1,
   "metadata": {},
   "outputs": [],
   "source": [
    "%matplotlib inline\n",
    "import matplotlib\n",
    "import matplotlib.cm as cm\n",
    "import matplotlib.pyplot as plt\n",
    "import numpy as np\n",
    "\n",
    "import torch\n",
    "import torch.nn as nn\n",
    "import torch.optim as optim\n",
    "from torch.utils.data import *\n",
    "import torchvision"
   ]
  },
  {
   "cell_type": "code",
   "execution_count": 2,
   "metadata": {},
   "outputs": [],
   "source": [
    "training_data_set = torchvision.datasets.MNIST('./dataset/mnist/training.pt', train=True, download=True)\n",
    "test_data_set = torchvision.datasets.MNIST('./dataset/mnist/test.pt', train=False, download=True)"
   ]
  },
  {
   "cell_type": "code",
   "execution_count": 3,
   "metadata": {},
   "outputs": [
    {
     "name": "stdout",
     "output_type": "stream",
     "text": [
      "Number of samples in the training set: 60000\n",
      "Number of samples in the test set: 10000\n",
      "<PIL.Image.Image image mode=L size=28x28 at 0x19D248DE5F8> -> tensor(5)\n"
     ]
    },
    {
     "data": {
      "text/plain": [
       "<matplotlib.image.AxesImage at 0x19d29db92b0>"
      ]
     },
     "execution_count": 3,
     "metadata": {},
     "output_type": "execute_result"
    },
    {
     "data": {
      "image/png": "[encoded data removed]",
      "text/plain": [
       "<Figure size 432x288 with 1 Axes>"
      ]
     },
     "metadata": {
      "needs_background": "light"
     },
     "output_type": "display_data"
    }
   ],
   "source": [
    "\"\"\"\n",
    "Observing some of the data\n",
    "\"\"\"\n",
    "print(\"Number of samples in the training set:\", len(training_data_set))\n",
    "print(\"Number of samples in the test set:\", len(test_data_set))\n",
    "image, target = training_data_set[0]\n",
    "print(image, \"->\", target)\n",
    "plt.imshow(image)"
   ]
  },
  {
   "cell_type": "code",
   "execution_count": 4,
   "metadata": {},
   "outputs": [
    {
     "data": {
      "text/plain": [
       "torch.Size([1, 28, 28])"
      ]
     },
     "execution_count": 4,
     "metadata": {},
     "output_type": "execute_result"
    }
   ],
   "source": [
    "\"\"\"\n",
    "How to transform the data into vectors\n",
    "\"\"\"\n",
    "pipeline = torchvision.transforms.Compose([\n",
    "    torchvision.transforms.ToTensor(),\n",
    "    torchvision.transforms.Normalize(mean=[0.5, 0.5, 0.5],std=[0.2, 0.2, 0.2])\n",
    "])\n",
    "xs = pipeline(image)\n",
    "xs.shape"
   ]
  },
  {
   "cell_type": "code",
   "execution_count": 5,
   "metadata": {},
   "outputs": [
    {
     "name": "stdout",
     "output_type": "stream",
     "text": [
      "tensor([[[[-2.5000, -2.5000, -2.5000,  ..., -2.5000, -2.5000, -2.5000],\n",
      "          [-2.5000, -2.5000, -2.5000,  ..., -2.5000, -2.5000, -2.5000],\n",
      "          [-2.5000, -2.5000, -2.5000,  ..., -2.5000, -2.5000, -2.5000],\n",
      "          ...,\n",
      "          [-2.5000, -2.5000, -2.5000,  ..., -2.5000, -2.5000, -2.5000],\n",
      "          [-2.5000, -2.5000, -2.5000,  ..., -2.5000, -2.5000, -2.5000],\n",
      "          [-2.5000, -2.5000, -2.5000,  ..., -2.5000, -2.5000, -2.5000]]],\n",
      "\n",
      "\n",
      "        [[[-2.5000, -2.5000, -2.5000,  ..., -2.5000, -2.5000, -2.5000],\n",
      "          [-2.5000, -2.5000, -2.5000,  ..., -2.5000, -2.5000, -2.5000],\n",
      "          [-2.5000, -2.5000, -2.5000,  ..., -2.5000, -2.5000, -2.5000],\n",
      "          ...,\n",
      "          [-2.5000, -2.5000, -2.5000,  ..., -2.5000, -2.5000, -2.5000],\n",
      "          [-2.5000, -2.5000, -2.5000,  ..., -2.5000, -2.5000, -2.5000],\n",
      "          [-2.5000, -2.5000, -2.5000,  ..., -2.5000, -2.5000, -2.5000]]]])\n",
      "tensor([2, 9])\n"
     ]
    }
   ],
   "source": [
    "\"\"\"\n",
    "Working with data loader for images\n",
    "\"\"\"\n",
    "\n",
    "# You need to transform the data to vectors to put it inside a data loader\n",
    "training_data_set.transform = pipeline\n",
    "test_data_set.transform = pipeline\n",
    "\n",
    "data_loader = DataLoader(training_data_set, batch_size=2, shuffle=True)\n",
    "for images, targets in data_loader:\n",
    "    print(images)\n",
    "    print(targets)\n",
    "    break"
   ]
  },
  {
   "cell_type": "code",
   "execution_count": 11,
   "metadata": {},
   "outputs": [
    {
     "name": "stdout",
     "output_type": "stream",
     "text": [
      "[Epoch 0] Training loss: 263.86878187954426\n",
      "[Epoch 0] Accuracy: 54307/60000 (90.51%)\n",
      "[Epoch 1] Training loss: 198.2725880742073\n",
      "[Epoch 1] Accuracy: 54725/60000 (91.21%)\n",
      "[Epoch 2] Training loss: 192.94620718806982\n",
      "[Epoch 2] Accuracy: 54998/60000 (91.66%)\n",
      "[Epoch 3] Training loss: 185.8310233876109\n",
      "[Epoch 3] Accuracy: 55078/60000 (91.80%)\n",
      "[Epoch 4] Training loss: 183.30597822368145\n",
      "[Epoch 4] Accuracy: 55139/60000 (91.90%)\n"
     ]
    },
    {
     "data": {
      "image/png": "[encoded data removed]",
      "text/plain": [
       "<Figure size 432x288 with 1 Axes>"
      ]
     },
     "metadata": {
      "needs_background": "light"
     },
     "output_type": "display_data"
    }
   ],
   "source": [
    "\"\"\"\n",
    "Training a basic Linear classifier for images\n",
    "\"\"\"\n",
    "\n",
    "class LinearClassifier(nn.Module):\n",
    "    def __init__(self):\n",
    "        super().__init__()\n",
    "        self.fc = nn.Linear(28 * 28, 10)\n",
    "        self.softmax = nn.Softmax(dim=-1)\n",
    "    \n",
    "    def forward(self, xs, with_softmax=True):\n",
    "        batch_size, channels, width, height = xs.shape\n",
    "        xs = xs.reshape((batch_size, -1))\n",
    "        xs = self.fc(xs)\n",
    "        if with_softmax:\n",
    "            xs = self.softmax(xs)\n",
    "        return xs\n",
    "\n",
    "def train(model, epoch_count=10):\n",
    "    training_data_set.transform = pipeline\n",
    "    test_data_set.transform = pipeline   \n",
    "\n",
    "    criterion = nn.CrossEntropyLoss()\n",
    "    optimizer = optim.Adam(model.parameters(), lr=1e-3)\n",
    "\n",
    "    training_data_loader = DataLoader(training_data_set, batch_size=100, shuffle=True)\n",
    "    test_data_loader = DataLoader(training_data_set, batch_size=100, shuffle=True)\n",
    "\n",
    "    losses = []\n",
    "\n",
    "    for epoch in range(epoch_count):\n",
    "        cumulative_loss = 0.\n",
    "        model.train()\n",
    "        for images, targets in training_data_loader:\n",
    "            optimizer.zero_grad()\n",
    "            got = model(images, with_softmax=False)\n",
    "            loss = criterion(got, targets)\n",
    "            cumulative_loss += loss.item()\n",
    "            loss.backward()\n",
    "            optimizer.step()\n",
    "\n",
    "        print(\"[Epoch {0}] Training loss: {1}\".format(epoch, cumulative_loss))\n",
    "        losses.append(cumulative_loss)\n",
    "\n",
    "        correct = 0\n",
    "        total = 0\n",
    "        model.eval()\n",
    "        for images, targets in test_data_loader:\n",
    "            got = model(images, with_softmax=True)\n",
    "            predicted = torch.argmax(got, dim=-1)\n",
    "            predicted = predicted.view(-1)\n",
    "            targets = targets.view(-1)\n",
    "            correct += (predicted == targets).sum().item()\n",
    "            total += len(targets)\n",
    "\n",
    "        print(\"[Epoch {0}] Accuracy: {1}/{2} ({3:.2f}%)\".format(epoch, correct, total, 100 * correct/total))\n",
    "\n",
    "    plt.plot(losses)\n",
    "    plt.show()\n",
    "    \n",
    "linear_model = LinearClassifier()\n",
    "train(linear_model, epoch_count=5)"
   ]
  },
  {
   "cell_type": "code",
   "execution_count": 12,
   "metadata": {},
   "outputs": [
    {
     "data": {
      "image/png": "[encoded data removed]",
      "text/plain": [
       "<Figure size 576x576 with 10 Axes>"
      ]
     },
     "metadata": {
      "needs_background": "light"
     },
     "output_type": "display_data"
    },
    {
     "name": "stdout",
     "output_type": "stream",
     "text": [
      "[5, 0, 4, 1, 9, 2, 1, 3, 1, 4]\n"
     ]
    }
   ],
   "source": [
    "\"\"\"\n",
    "Trying the model\n",
    "\"\"\"\n",
    "\n",
    "def predict(model, image_indexes):\n",
    "    fig, ax = plt.subplots(figsize=(8, 8), ncols=len(image_indexes))\n",
    "    predicted = []\n",
    "    training_data_set.transform = None\n",
    "    for image_idx in image_indexes:\n",
    "        image, target = training_data_set[image_idx]\n",
    "        xs = pipeline(image)\n",
    "        xs = xs.unsqueeze(dim=0)\n",
    "        ys = model(xs, with_softmax=True)\n",
    "        predicted.append(torch.argmax(ys, dim=-1).item())\n",
    "        ax[image_idx].imshow(image)\n",
    "        ax[image_idx].set_axis_off()\n",
    "    plt.show()\n",
    "    print(predicted)\n",
    "\n",
    "predict(linear_model, range(10))"
   ]
  },
  {
   "cell_type": "code",
   "execution_count": 13,
   "metadata": {},
   "outputs": [
    {
     "name": "stdout",
     "output_type": "stream",
     "text": [
      "[Epoch 0] Training loss: 255.5572955608368\n",
      "[Epoch 0] Accuracy: 55157/60000 (91.93%)\n",
      "[Epoch 1] Training loss: 158.93414087593555\n",
      "[Epoch 1] Accuracy: 55809/60000 (93.02%)\n",
      "[Epoch 2] Training loss: 129.46787618100643\n",
      "[Epoch 2] Accuracy: 56800/60000 (94.67%)\n",
      "[Epoch 3] Training loss: 111.41352344676852\n",
      "[Epoch 3] Accuracy: 56970/60000 (94.95%)\n",
      "[Epoch 4] Training loss: 99.46523984894156\n",
      "[Epoch 4] Accuracy: 57245/60000 (95.41%)\n"
     ]
    },
    {
     "data": {
      "image/png": "[encoded data removed]",
      "text/plain": [
       "<Figure size 432x288 with 1 Axes>"
      ]
     },
     "metadata": {
      "needs_background": "light"
     },
     "output_type": "display_data"
    }
   ],
   "source": [
    "class TwoLayerClassifier(nn.Module):\n",
    "    def __init__(self):\n",
    "        super().__init__()\n",
    "        self.fc = nn.Sequential(nn.Linear(28 * 28, 50), nn.ReLU(), nn.Linear(50, 10))\n",
    "        self.softmax = nn.Softmax(dim=-1)\n",
    "    \n",
    "    def forward(self, xs, with_softmax=True):\n",
    "        batch_size, channels, width, height = xs.shape\n",
    "        xs = xs.reshape((batch_size, -1))\n",
    "        xs = self.fc(xs)\n",
    "        if with_softmax:\n",
    "            xs = self.softmax(xs)\n",
    "        return xs\n",
    "\n",
    "two_layer_model = TwoLayerClassifier()\n",
    "train(two_layer_model, epoch_count=5)"
   ]
  },
  {
   "cell_type": "code",
   "execution_count": 14,
   "metadata": {},
   "outputs": [
    {
     "data": {
      "image/png": "[encoded data removed]",
      "text/plain": [
       "<Figure size 576x576 with 10 Axes>"
      ]
     },
     "metadata": {
      "needs_background": "light"
     },
     "output_type": "display_data"
    },
    {
     "name": "stdout",
     "output_type": "stream",
     "text": [
      "[5, 0, 4, 1, 9, 2, 1, 3, 1, 4]\n"
     ]
    }
   ],
   "source": [
    "predict(two_layer_model, range(10))"
   ]
  },
  {
   "cell_type": "code",
   "execution_count": 18,
   "metadata": {},
   "outputs": [
    {
     "name": "stdout",
     "output_type": "stream",
     "text": [
      "[Epoch 0] Training loss: 135.59152714535594\n",
      "[Epoch 0] Accuracy: 58525/60000 (97.54%)\n",
      "[Epoch 1] Training loss: 48.29087803512812\n",
      "[Epoch 1] Accuracy: 58973/60000 (98.29%)\n",
      "[Epoch 2] Training loss: 37.075505069922656\n",
      "[Epoch 2] Accuracy: 58994/60000 (98.32%)\n",
      "[Epoch 3] Training loss: 31.766164587344974\n",
      "[Epoch 3] Accuracy: 59134/60000 (98.56%)\n",
      "[Epoch 4] Training loss: 28.36460825917311\n",
      "[Epoch 4] Accuracy: 59365/60000 (98.94%)\n"
     ]
    },
    {
     "data": {
      "image/png": "[encoded data removed]",
      "text/plain": [
       "<Figure size 432x288 with 1 Axes>"
      ]
     },
     "metadata": {
      "needs_background": "light"
     },
     "output_type": "display_data"
    },
    {
     "data": {
      "image/png": "[encoded data removed]",
      "text/plain": [
       "<Figure size 576x576 with 10 Axes>"
      ]
     },
     "metadata": {
      "needs_background": "light"
     },
     "output_type": "display_data"
    },
    {
     "name": "stdout",
     "output_type": "stream",
     "text": [
      "[5, 0, 4, 1, 9, 2, 1, 3, 1, 4]\n"
     ]
    }
   ],
   "source": [
    "# Always create your models by creating a vector representing several samples\n",
    "# test_entries = torch.zeros(3, 1, 28, 28)\n",
    "\n",
    "class ConvolutionalClassifier(nn.Module):\n",
    "    def __init__(self):\n",
    "        super().__init__()\n",
    "        self.conv = nn.Sequential(\n",
    "                    nn.Conv2d(in_channels=1,   # Just one color channel here\n",
    "                              out_channels=10, # How many channels do you want as output\n",
    "                              kernel_size=5,   # Size of the convolutional layer\n",
    "                              stride=1,        # Size of the step\n",
    "                              padding=0),\n",
    "                    nn.MaxPool2d(kernel_size=2),\n",
    "                    nn.ReLU())\n",
    "        self.fc = nn.Linear(self.convolution_output_length(), 10)\n",
    "        self.softmax = nn.Softmax(dim=-1)\n",
    "    \n",
    "    def convolution_output_shape(self):\n",
    "        xs = self.conv(torch.zeros(1, 1, 28, 28)) # One sample, with one channel, of size 28 times 28\n",
    "        return xs.shape\n",
    "    \n",
    "    def convolution_output_length(self):\n",
    "        # Never hardcode that kind of stuff, compute it!\n",
    "        length = 1\n",
    "        for d in self.convolution_output_shape():\n",
    "            length *= d\n",
    "        return length\n",
    "    \n",
    "    def forward(self, xs, with_softmax=True):\n",
    "        batch_size, channels, width, height = xs.shape\n",
    "        xs = self.conv(xs)\n",
    "        xs = xs.reshape((batch_size, -1))\n",
    "        xs = self.fc(xs)\n",
    "        if with_softmax:\n",
    "            xs = self.softmax(xs)\n",
    "        return xs\n",
    "\n",
    "convolutional_model = ConvolutionalClassifier()\n",
    "train(convolutional_model, epoch_count=5)\n",
    "predict(convolutional_model, range(10))"
   ]
  },
  {
   "cell_type": "code",
   "execution_count": null,
   "metadata": {},
   "outputs": [],
   "source": []
  }
 ],
 "metadata": {
  "kernelspec": {
   "display_name": "Python 3",
   "language": "python",
   "name": "python3"
  },
  "language_info": {
   "codemirror_mode": {
    "name": "ipython",
    "version": 3
   },
   "file_extension": ".py",
   "mimetype": "text/x-python",
   "name": "python",
   "nbconvert_exporter": "python",
   "pygments_lexer": "ipython3",
   "version": "3.7.0"
  }
 },
 "nbformat": 4,
 "nbformat_minor": 4
}

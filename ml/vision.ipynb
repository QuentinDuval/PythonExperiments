{
 "cells": [
  {
   "cell_type": "code",
   "execution_count": 1,
   "metadata": {},
   "outputs": [],
   "source": [
    "%matplotlib inline\n",
    "import matplotlib\n",
    "import matplotlib.cm as cm\n",
    "import matplotlib.pyplot as plt\n",
    "import numpy as np\n",
    "\n",
    "import torch\n",
    "import torch.nn as nn\n",
    "import torch.optim as optim\n",
    "from torch.utils.data import *\n",
    "import torchvision"
   ]
  },
  {
   "cell_type": "code",
   "execution_count": 2,
   "metadata": {},
   "outputs": [],
   "source": [
    "training_data_set = torchvision.datasets.MNIST('./dataset/mnist/training.pt', train=True, download=True)\n",
    "test_data_set = torchvision.datasets.MNIST('./dataset/mnist/test.pt', train=False, download=True)"
   ]
  },
  {
   "cell_type": "code",
   "execution_count": 3,
   "metadata": {},
   "outputs": [
    {
     "name": "stdout",
     "output_type": "stream",
     "text": [
      "Number of samples in the training set: 60000\n",
      "Number of samples in the test set: 10000\n",
      "<PIL.Image.Image image mode=L size=28x28 at 0x19E8766D4E0> -> tensor(5)\n"
     ]
    },
    {
     "data": {
      "text/plain": [
       "<matplotlib.image.AxesImage at 0x19e8cb3c198>"
      ]
     },
     "execution_count": 3,
     "metadata": {},
     "output_type": "execute_result"
    },
    {
     "data": {
      "image/png": "[encoded data removed]",
      "text/plain": [
       "<Figure size 432x288 with 1 Axes>"
      ]
     },
     "metadata": {
      "needs_background": "light"
     },
     "output_type": "display_data"
    }
   ],
   "source": [
    "\"\"\"\n",
    "Observing some of the data\n",
    "\"\"\"\n",
    "print(\"Number of samples in the training set:\", len(training_data_set))\n",
    "print(\"Number of samples in the test set:\", len(test_data_set))\n",
    "image, target = training_data_set[0]\n",
    "print(image, \"->\", target)\n",
    "plt.imshow(image)"
   ]
  },
  {
   "cell_type": "code",
   "execution_count": 4,
   "metadata": {},
   "outputs": [
    {
     "data": {
      "text/plain": [
       "torch.Size([1, 28, 28])"
      ]
     },
     "execution_count": 4,
     "metadata": {},
     "output_type": "execute_result"
    }
   ],
   "source": [
    "\"\"\"\n",
    "How to transform the data into vectors\n",
    "\"\"\"\n",
    "pipeline = torchvision.transforms.Compose([\n",
    "    torchvision.transforms.ToTensor(),\n",
    "    torchvision.transforms.Normalize(mean=[0.5, 0.5, 0.5],std=[0.2, 0.2, 0.2])\n",
    "])\n",
    "xs = pipeline(image)\n",
    "xs.shape"
   ]
  },
  {
   "cell_type": "code",
   "execution_count": 5,
   "metadata": {},
   "outputs": [
    {
     "name": "stdout",
     "output_type": "stream",
     "text": [
      "tensor([[[[-2.5000, -2.5000, -2.5000,  ..., -2.5000, -2.5000, -2.5000],\n",
      "          [-2.5000, -2.5000, -2.5000,  ..., -2.5000, -2.5000, -2.5000],\n",
      "          [-2.5000, -2.5000, -2.5000,  ..., -2.5000, -2.5000, -2.5000],\n",
      "          ...,\n",
      "          [-2.5000, -2.5000, -2.5000,  ..., -2.5000, -2.5000, -2.5000],\n",
      "          [-2.5000, -2.5000, -2.5000,  ..., -2.5000, -2.5000, -2.5000],\n",
      "          [-2.5000, -2.5000, -2.5000,  ..., -2.5000, -2.5000, -2.5000]]],\n",
      "\n",
      "\n",
      "        [[[-2.5000, -2.5000, -2.5000,  ..., -2.5000, -2.5000, -2.5000],\n",
      "          [-2.5000, -2.5000, -2.5000,  ..., -2.5000, -2.5000, -2.5000],\n",
      "          [-2.5000, -2.5000, -2.5000,  ..., -2.5000, -2.5000, -2.5000],\n",
      "          ...,\n",
      "          [-2.5000, -2.5000, -2.5000,  ..., -2.5000, -2.5000, -2.5000],\n",
      "          [-2.5000, -2.5000, -2.5000,  ..., -2.5000, -2.5000, -2.5000],\n",
      "          [-2.5000, -2.5000, -2.5000,  ..., -2.5000, -2.5000, -2.5000]]]])\n",
      "tensor([6, 1])\n"
     ]
    }
   ],
   "source": [
    "\"\"\"\n",
    "Working with data loader for images\n",
    "\"\"\"\n",
    "\n",
    "# You need to transform the data to vectors to put it inside a data loader\n",
    "training_data_set.transform = pipeline\n",
    "test_data_set.transform = pipeline\n",
    "\n",
    "data_loader = DataLoader(training_data_set, batch_size=2, shuffle=True)\n",
    "for images, targets in data_loader:\n",
    "    print(images)\n",
    "    print(targets)\n",
    "    break"
   ]
  },
  {
   "cell_type": "code",
   "execution_count": 7,
   "metadata": {},
   "outputs": [
    {
     "name": "stdout",
     "output_type": "stream",
     "text": [
      "Training loss: 266.30801782011986\n",
      "Accuracy: 54216/60000 (90.36%)\n",
      "Training loss: 196.9488119855523\n",
      "Accuracy: 54821/60000 (91.37%)\n",
      "Training loss: 190.49393199384212\n",
      "Accuracy: 54288/60000 (90.48%)\n",
      "Training loss: 189.88029190897942\n",
      "Accuracy: 54806/60000 (91.34%)\n",
      "Training loss: 184.5315878763795\n",
      "Accuracy: 55227/60000 (92.05%)\n",
      "Training loss: 183.05543015897274\n",
      "Accuracy: 55171/60000 (91.95%)\n",
      "Training loss: 182.39777056127787\n",
      "Accuracy: 55269/60000 (92.11%)\n",
      "Training loss: 178.9000922665\n",
      "Accuracy: 54606/60000 (91.01%)\n",
      "Training loss: 176.48361643403769\n",
      "Accuracy: 55212/60000 (92.02%)\n",
      "Training loss: 175.32786958664656\n",
      "Accuracy: 55361/60000 (92.27%)\n"
     ]
    },
    {
     "data": {
      "image/png": "[encoded data removed]",
      "text/plain": [
       "<Figure size 432x288 with 1 Axes>"
      ]
     },
     "metadata": {
      "needs_background": "light"
     },
     "output_type": "display_data"
    }
   ],
   "source": [
    "\"\"\"\n",
    "Training a basic Linear classifier for images\n",
    "\"\"\"\n",
    "\n",
    "class LinearClassifier(nn.Module):\n",
    "    def __init__(self):\n",
    "        super().__init__()\n",
    "        self.fc = nn.Linear(28 * 28, 10)\n",
    "        self.softmax = nn.Softmax(dim=-1)\n",
    "    \n",
    "    def forward(self, xs, with_softmax=True):\n",
    "        batch_size, channels, width, height = xs.shape\n",
    "        xs = xs.reshape((batch_size, -1))\n",
    "        xs = self.fc(xs)\n",
    "        if with_softmax:\n",
    "            xs = self.softmax(xs)\n",
    "        return xs\n",
    "\n",
    "def train(model):\n",
    "    training_data_set.transform = pipeline\n",
    "    test_data_set.transform = pipeline   \n",
    "\n",
    "    criterion = nn.CrossEntropyLoss()\n",
    "    optimizer = optim.Adam(linear_model.parameters(), lr=1e-3)\n",
    "\n",
    "    training_data_loader = DataLoader(training_data_set, batch_size=100, shuffle=True)\n",
    "    test_data_loader = DataLoader(training_data_set, batch_size=100, shuffle=True)\n",
    "\n",
    "    losses = []\n",
    "\n",
    "    for epoch in range(10):\n",
    "        cumulative_loss = 0.\n",
    "        linear_model.train()\n",
    "        for images, targets in training_data_loader:\n",
    "            optimizer.zero_grad()\n",
    "            got = linear_model(images, with_softmax=False)\n",
    "            loss = criterion(got, targets)\n",
    "            cumulative_loss += loss.item()\n",
    "            loss.backward()\n",
    "            optimizer.step()\n",
    "\n",
    "        print(\"Training loss: {0}\".format(cumulative_loss))\n",
    "        losses.append(cumulative_loss)\n",
    "\n",
    "        correct = 0\n",
    "        total = 0\n",
    "        linear_model.eval()\n",
    "        for images, targets in test_data_loader:\n",
    "            got = linear_model(images, with_softmax=True)\n",
    "            predicted = torch.argmax(got, dim=-1)\n",
    "            predicted = predicted.view(-1)\n",
    "            targets = targets.view(-1)\n",
    "            correct += (predicted == targets).sum().item()\n",
    "            total += len(targets)\n",
    "\n",
    "        print(\"Accuracy: {0}/{1} ({2:.2f}%)\".format(correct, total, 100 * correct/total))\n",
    "\n",
    "    plt.plot(losses)\n",
    "    plt.show()\n",
    "    \n",
    "linear_model = LinearClassifier()\n",
    "train(linear_model)"
   ]
  },
  {
   "cell_type": "code",
   "execution_count": 8,
   "metadata": {},
   "outputs": [
    {
     "data": {
      "image/png": "[encoded data removed]",
      "text/plain": [
       "<Figure size 576x576 with 10 Axes>"
      ]
     },
     "metadata": {
      "needs_background": "light"
     },
     "output_type": "display_data"
    },
    {
     "name": "stdout",
     "output_type": "stream",
     "text": [
      "[5, 0, 4, 1, 9, 2, 1, 3, 1, 4]\n"
     ]
    }
   ],
   "source": [
    "\"\"\"\n",
    "Trying the model\n",
    "\"\"\"\n",
    "\n",
    "def predict(model, image_indexes):\n",
    "    fig, ax = plt.subplots(figsize=(8, 8), ncols=len(image_indexes))\n",
    "    predicted = []\n",
    "    training_data_set.transform = None\n",
    "    for image_idx in image_indexes:\n",
    "        image, target = training_data_set[image_idx]\n",
    "        xs = pipeline(image)\n",
    "        xs = xs.unsqueeze(dim=0)\n",
    "        ys = model(xs, with_softmax=True)\n",
    "        predicted.append(torch.argmax(ys, dim=-1).item())\n",
    "        ax[image_idx].imshow(image)\n",
    "        ax[image_idx].set_axis_off()\n",
    "    plt.show()\n",
    "    print(predicted)\n",
    "\n",
    "predict(linear_model, range(10))"
   ]
  },
  {
   "cell_type": "code",
   "execution_count": 9,
   "metadata": {},
   "outputs": [
    {
     "name": "stdout",
     "output_type": "stream",
     "text": [
      "Training loss: 275.2165778875351\n",
      "Accuracy: 54693/60000 (91.16%)\n",
      "Training loss: 167.9274307191372\n",
      "Accuracy: 55421/60000 (92.37%)\n",
      "Training loss: 144.613131031394\n",
      "Accuracy: 55877/60000 (93.13%)\n",
      "Training loss: 128.03434294089675\n",
      "Accuracy: 56449/60000 (94.08%)\n",
      "Training loss: 116.0249517261982\n",
      "Accuracy: 56588/60000 (94.31%)\n",
      "Training loss: 107.89741862565279\n",
      "Accuracy: 57267/60000 (95.44%)\n",
      "Training loss: 101.84295732527971\n",
      "Accuracy: 57057/60000 (95.09%)\n",
      "Training loss: 98.49630091525614\n",
      "Accuracy: 57337/60000 (95.56%)\n",
      "Training loss: 91.40333531796932\n",
      "Accuracy: 57324/60000 (95.54%)\n",
      "Training loss: 88.94622450694442\n",
      "Accuracy: 57624/60000 (96.04%)\n"
     ]
    },
    {
     "data": {
      "image/png": "[encoded data removed]",
      "text/plain": [
       "<Figure size 432x288 with 1 Axes>"
      ]
     },
     "metadata": {
      "needs_background": "light"
     },
     "output_type": "display_data"
    }
   ],
   "source": [
    "class TwoLayerClassifier(nn.Module):\n",
    "    def __init__(self):\n",
    "        super().__init__()\n",
    "        self.fc = nn.Sequential(nn.Linear(28 * 28, 50), nn.ReLU(), nn.Linear(50, 10))\n",
    "        self.softmax = nn.Softmax(dim=-1)\n",
    "    \n",
    "    def forward(self, xs, with_softmax=True):\n",
    "        batch_size, channels, width, height = xs.shape\n",
    "        xs = xs.reshape((batch_size, -1))\n",
    "        xs = self.fc(xs)\n",
    "        if with_softmax:\n",
    "            xs = self.softmax(xs)\n",
    "        return xs\n",
    "\n",
    "two_layer_model = TwoLayerClassifier()\n",
    "train(two_layer_model)"
   ]
  },
  {
   "cell_type": "code",
   "execution_count": 10,
   "metadata": {},
   "outputs": [
    {
     "data": {
      "image/png": "[encoded data removed]",
      "text/plain": [
       "<Figure size 576x576 with 10 Axes>"
      ]
     },
     "metadata": {
      "needs_background": "light"
     },
     "output_type": "display_data"
    },
    {
     "name": "stdout",
     "output_type": "stream",
     "text": [
      "[5, 0, 4, 1, 9, 2, 1, 3, 1, 4]\n"
     ]
    }
   ],
   "source": [
    "predict(two_layer_model, range(10))"
   ]
  },
  {
   "cell_type": "code",
   "execution_count": null,
   "metadata": {},
   "outputs": [],
   "source": []
  }
 ],
 "metadata": {
  "kernelspec": {
   "display_name": "Python 3",
   "language": "python",
   "name": "python3"
  },
  "language_info": {
   "codemirror_mode": {
    "name": "ipython",
    "version": 3
   },
   "file_extension": ".py",
   "mimetype": "text/x-python",
   "name": "python",
   "nbconvert_exporter": "python",
   "pygments_lexer": "ipython3",
   "version": "3.7.0"
  }
 },
 "nbformat": 4,
 "nbformat_minor": 4
}

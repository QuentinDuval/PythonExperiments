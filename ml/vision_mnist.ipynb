{
 "cells": [
  {
   "cell_type": "code",
   "execution_count": 1,
   "metadata": {},
   "outputs": [],
   "source": [
    "%matplotlib inline\n",
    "import dataclasses\n",
    "from typing import *\n",
    "\n",
    "import matplotlib\n",
    "import matplotlib.cm as cm\n",
    "import matplotlib.pyplot as plt\n",
    "import numpy as np\n",
    "\n",
    "import torch\n",
    "import torch.nn as nn\n",
    "import torch.optim as optim\n",
    "from torch.utils.data import *\n",
    "import torchvision"
   ]
  },
  {
   "cell_type": "code",
   "execution_count": 2,
   "metadata": {},
   "outputs": [],
   "source": [
    "training_data_set = torchvision.datasets.MNIST('./dataset/mnist/training.pt', train=True, download=True)\n",
    "test_data_set = torchvision.datasets.MNIST('./dataset/mnist/test.pt', train=False, download=True)"
   ]
  },
  {
   "cell_type": "code",
   "execution_count": 3,
   "metadata": {},
   "outputs": [
    {
     "name": "stdout",
     "output_type": "stream",
     "text": [
      "Number of samples in the training set: 60000\n",
      "Number of samples in the test set: 10000\n",
      "<PIL.Image.Image image mode=L size=28x28 at 0x1CF3AD36240> -> tensor(5)\n"
     ]
    },
    {
     "data": {
      "text/plain": [
       "<matplotlib.image.AxesImage at 0x1cf401f4e48>"
      ]
     },
     "execution_count": 3,
     "metadata": {},
     "output_type": "execute_result"
    },
    {
     "data": {
      "image/png": "[encoded data removed]",
      "text/plain": [
       "<Figure size 432x288 with 1 Axes>"
      ]
     },
     "metadata": {
      "needs_background": "light"
     },
     "output_type": "display_data"
    }
   ],
   "source": [
    "\"\"\"\n",
    "Observing some of the data\n",
    "\"\"\"\n",
    "print(\"Number of samples in the training set:\", len(training_data_set))\n",
    "print(\"Number of samples in the test set:\", len(test_data_set))\n",
    "image, target = training_data_set[0]\n",
    "print(image, \"->\", target)\n",
    "plt.imshow(image)"
   ]
  },
  {
   "cell_type": "code",
   "execution_count": 4,
   "metadata": {},
   "outputs": [
    {
     "data": {
      "text/plain": [
       "torch.Size([1, 28, 28])"
      ]
     },
     "execution_count": 4,
     "metadata": {},
     "output_type": "execute_result"
    }
   ],
   "source": [
    "\"\"\"\n",
    "How to transform the data into vectors\n",
    "\"\"\"\n",
    "pipeline = torchvision.transforms.Compose([\n",
    "    torchvision.transforms.ToTensor(),\n",
    "    torchvision.transforms.Normalize(mean=[0.5, 0.5, 0.5],std=[0.2, 0.2, 0.2])\n",
    "])\n",
    "xs = pipeline(image)\n",
    "xs.shape\n",
    "\n",
    "# TODO - it is not something ? we should learn the transformation on the training set, then stop doing this..."
   ]
  },
  {
   "cell_type": "code",
   "execution_count": 5,
   "metadata": {},
   "outputs": [
    {
     "name": "stdout",
     "output_type": "stream",
     "text": [
      "tensor([[[[-2.5000, -2.5000, -2.5000,  ..., -2.5000, -2.5000, -2.5000],\n",
      "          [-2.5000, -2.5000, -2.5000,  ..., -2.5000, -2.5000, -2.5000],\n",
      "          [-2.5000, -2.5000, -2.5000,  ..., -2.5000, -2.5000, -2.5000],\n",
      "          ...,\n",
      "          [-2.5000, -2.5000, -2.5000,  ..., -2.5000, -2.5000, -2.5000],\n",
      "          [-2.5000, -2.5000, -2.5000,  ..., -2.5000, -2.5000, -2.5000],\n",
      "          [-2.5000, -2.5000, -2.5000,  ..., -2.5000, -2.5000, -2.5000]]],\n",
      "\n",
      "\n",
      "        [[[-2.5000, -2.5000, -2.5000,  ..., -2.5000, -2.5000, -2.5000],\n",
      "          [-2.5000, -2.5000, -2.5000,  ..., -2.5000, -2.5000, -2.5000],\n",
      "          [-2.5000, -2.5000, -2.5000,  ..., -2.5000, -2.5000, -2.5000],\n",
      "          ...,\n",
      "          [-2.5000, -2.5000, -2.5000,  ..., -2.5000, -2.5000, -2.5000],\n",
      "          [-2.5000, -2.5000, -2.5000,  ..., -2.5000, -2.5000, -2.5000],\n",
      "          [-2.5000, -2.5000, -2.5000,  ..., -2.5000, -2.5000, -2.5000]]]])\n",
      "tensor([9, 4])\n"
     ]
    }
   ],
   "source": [
    "\"\"\"\n",
    "Working with data loader for images\n",
    "\"\"\"\n",
    "\n",
    "# You need to transform the data to vectors to put it inside a data loader\n",
    "training_data_set.transform = pipeline\n",
    "test_data_set.transform = pipeline\n",
    "\n",
    "data_loader = DataLoader(training_data_set, batch_size=2, shuffle=True)\n",
    "for images, targets in data_loader:\n",
    "    print(images)\n",
    "    print(targets)\n",
    "    break"
   ]
  },
  {
   "cell_type": "code",
   "execution_count": 6,
   "metadata": {},
   "outputs": [
    {
     "name": "stdout",
     "output_type": "stream",
     "text": [
      "[Epoch 0] Training loss: 265.28029422461987\n",
      "[Epoch 0] Accuracy: 54430/60000 (90.72%)\n",
      "[Epoch 1] Training loss: 197.39200666546822\n",
      "[Epoch 1] Accuracy: 54716/60000 (91.19%)\n",
      "[Epoch 2] Training loss: 194.15217050909996\n",
      "[Epoch 2] Accuracy: 53343/60000 (88.91%)\n",
      "[Epoch 3] Training loss: 187.23537728190422\n",
      "[Epoch 3] Accuracy: 55321/60000 (92.20%)\n",
      "[Epoch 4] Training loss: 184.5807300209999\n",
      "[Epoch 4] Accuracy: 52658/60000 (87.76%)\n"
     ]
    },
    {
     "data": {
      "image/png": "[encoded data removed]",
      "text/plain": [
       "<Figure size 432x288 with 1 Axes>"
      ]
     },
     "metadata": {
      "needs_background": "light"
     },
     "output_type": "display_data"
    }
   ],
   "source": [
    "\"\"\"\n",
    "Training a basic Linear classifier for images\n",
    "\"\"\"\n",
    "\n",
    "class LinearClassifier(nn.Module):\n",
    "    def __init__(self, width=28, height=28):\n",
    "        super().__init__()\n",
    "        self.fc = nn.Linear(width * height, 10)\n",
    "        self.softmax = nn.Softmax(dim=-1)\n",
    "    \n",
    "    def forward(self, xs, with_softmax=True):\n",
    "        batch_size, channels, width, height = xs.shape\n",
    "        xs = xs.reshape((batch_size, -1))\n",
    "        xs = self.fc(xs)\n",
    "        if with_softmax:\n",
    "            xs = self.softmax(xs)\n",
    "        return xs\n",
    "\n",
    "def train(model, training_data_set, test_data_set, epoch_count=10):\n",
    "    training_data_set.transform = pipeline\n",
    "    test_data_set.transform = pipeline  \n",
    "    \n",
    "    criterion = nn.CrossEntropyLoss()\n",
    "    optimizer = optim.Adam(model.parameters(), lr=1e-3)\n",
    "\n",
    "    training_data_loader = DataLoader(training_data_set, batch_size=100, shuffle=True)\n",
    "    test_data_loader = DataLoader(training_data_set, batch_size=100, shuffle=True)\n",
    "\n",
    "    losses = []\n",
    "\n",
    "    for epoch in range(epoch_count):\n",
    "        cumulative_loss = 0.\n",
    "        model.train()\n",
    "        for images, targets in training_data_loader:\n",
    "            optimizer.zero_grad()\n",
    "            got = model(images, with_softmax=False)\n",
    "            loss = criterion(got, targets)\n",
    "            cumulative_loss += loss.item()\n",
    "            loss.backward()\n",
    "            optimizer.step()\n",
    "\n",
    "        print(\"[Epoch {0}] Training loss: {1}\".format(epoch, cumulative_loss))\n",
    "        losses.append(cumulative_loss)\n",
    "\n",
    "        correct = 0\n",
    "        total = 0\n",
    "        model.eval()\n",
    "        for images, targets in test_data_loader:\n",
    "            got = model(images, with_softmax=True)\n",
    "            predicted = torch.argmax(got, dim=-1)\n",
    "            predicted = predicted.view(-1)\n",
    "            targets = targets.view(-1)\n",
    "            correct += (predicted == targets).sum().item()\n",
    "            total += len(targets)\n",
    "\n",
    "        print(\"[Epoch {0}] Accuracy: {1}/{2} ({3:.2f}%)\".format(epoch, correct, total, 100 * correct/total))\n",
    "\n",
    "    plt.plot(losses)\n",
    "    plt.show()\n",
    "    \n",
    "linear_model = LinearClassifier()\n",
    "train(linear_model, training_data_set, test_data_set, epoch_count=5)"
   ]
  },
  {
   "cell_type": "code",
   "execution_count": 7,
   "metadata": {},
   "outputs": [
    {
     "data": {
      "image/png": "[encoded data removed]",
      "text/plain": [
       "<Figure size 576x576 with 10 Axes>"
      ]
     },
     "metadata": {
      "needs_background": "light"
     },
     "output_type": "display_data"
    },
    {
     "name": "stdout",
     "output_type": "stream",
     "text": [
      "[5, 0, 4, 1, 9, 2, 1, 3, 1, 4]\n"
     ]
    }
   ],
   "source": [
    "\"\"\"\n",
    "Trying the model\n",
    "\"\"\"\n",
    "\n",
    "def predict(model, data_set, image_indexes):\n",
    "    fig, ax = plt.subplots(figsize=(8, 8), ncols=len(image_indexes))\n",
    "    predicted = []\n",
    "    training_data_set.transform = None\n",
    "    for image_idx in image_indexes:\n",
    "        image, target = data_set[image_idx]\n",
    "        xs = pipeline(image)\n",
    "        xs = xs.unsqueeze(dim=0)\n",
    "        ys = model(xs, with_softmax=True)\n",
    "        predicted.append(torch.argmax(ys, dim=-1).item())\n",
    "        ax[image_idx].imshow(image)\n",
    "        ax[image_idx].set_axis_off()\n",
    "    plt.show()\n",
    "    print(predicted)\n",
    "\n",
    "predict(linear_model, training_data_set, range(10))"
   ]
  },
  {
   "cell_type": "code",
   "execution_count": 8,
   "metadata": {},
   "outputs": [
    {
     "name": "stdout",
     "output_type": "stream",
     "text": [
      "[Epoch 0] Training loss: 256.35818289220333\n",
      "[Epoch 0] Accuracy: 55485/60000 (92.47%)\n",
      "[Epoch 1] Training loss: 153.93555337190628\n",
      "[Epoch 1] Accuracy: 56252/60000 (93.75%)\n",
      "[Epoch 2] Training loss: 123.40908697620034\n",
      "[Epoch 2] Accuracy: 56772/60000 (94.62%)\n",
      "[Epoch 3] Training loss: 103.56221498548985\n",
      "[Epoch 3] Accuracy: 57338/60000 (95.56%)\n",
      "[Epoch 4] Training loss: 91.60404100641608\n",
      "[Epoch 4] Accuracy: 57729/60000 (96.22%)\n"
     ]
    },
    {
     "data": {
      "image/png": "[encoded data removed]",
      "text/plain": [
       "<Figure size 432x288 with 1 Axes>"
      ]
     },
     "metadata": {
      "needs_background": "light"
     },
     "output_type": "display_data"
    }
   ],
   "source": [
    "class TwoLayerClassifier(nn.Module):\n",
    "    def __init__(self, width=28, height=28):\n",
    "        super().__init__()\n",
    "        self.fc = nn.Sequential(nn.Linear(width * height, 50), nn.ReLU(), nn.Linear(50, 10))\n",
    "        self.softmax = nn.Softmax(dim=-1)\n",
    "    \n",
    "    def forward(self, xs, with_softmax=True):\n",
    "        batch_size, channels, width, height = xs.shape\n",
    "        xs = xs.reshape((batch_size, -1))\n",
    "        xs = self.fc(xs)\n",
    "        if with_softmax:\n",
    "            xs = self.softmax(xs)\n",
    "        return xs\n",
    "\n",
    "two_layer_model = TwoLayerClassifier()\n",
    "train(two_layer_model, training_data_set, test_data_set, epoch_count=5)"
   ]
  },
  {
   "cell_type": "code",
   "execution_count": 9,
   "metadata": {},
   "outputs": [
    {
     "data": {
      "image/png": "[encoded data removed]",
      "text/plain": [
       "<Figure size 576x576 with 10 Axes>"
      ]
     },
     "metadata": {
      "needs_background": "light"
     },
     "output_type": "display_data"
    },
    {
     "name": "stdout",
     "output_type": "stream",
     "text": [
      "[5, 0, 4, 1, 9, 2, 1, 3, 1, 4]\n"
     ]
    }
   ],
   "source": [
    "predict(two_layer_model, training_data_set, range(10))"
   ]
  },
  {
   "cell_type": "code",
   "execution_count": 11,
   "metadata": {},
   "outputs": [
    {
     "name": "stdout",
     "output_type": "stream",
     "text": [
      "[Epoch 0] Training loss: 151.29384486190975\n",
      "[Epoch 0] Accuracy: 58283/60000 (97.14%)\n",
      "[Epoch 1] Training loss: 52.03362734382972\n",
      "[Epoch 1] Accuracy: 58576/60000 (97.63%)\n",
      "[Epoch 2] Training loss: 40.34244355512783\n",
      "[Epoch 2] Accuracy: 59078/60000 (98.46%)\n",
      "[Epoch 3] Training loss: 32.16316240793094\n",
      "[Epoch 3] Accuracy: 59086/60000 (98.48%)\n",
      "[Epoch 4] Training loss: 30.165033514844254\n",
      "[Epoch 4] Accuracy: 59265/60000 (98.78%)\n"
     ]
    },
    {
     "data": {
      "image/png": "[encoded data removed]",
      "text/plain": [
       "<Figure size 432x288 with 1 Axes>"
      ]
     },
     "metadata": {
      "needs_background": "light"
     },
     "output_type": "display_data"
    },
    {
     "data": {
      "image/png": "[encoded data removed]",
      "text/plain": [
       "<Figure size 576x576 with 10 Axes>"
      ]
     },
     "metadata": {
      "needs_background": "light"
     },
     "output_type": "display_data"
    },
    {
     "name": "stdout",
     "output_type": "stream",
     "text": [
      "[5, 0, 4, 1, 9, 2, 1, 3, 1, 4]\n"
     ]
    }
   ],
   "source": [
    "# Always create your models by creating a vector representing several samples\n",
    "# test_entries = torch.zeros(3, 1, 28, 28)\n",
    "\n",
    "class ConvolutionalClassifier(nn.Module):\n",
    "    def __init__(self, width=28, height=28):\n",
    "        super().__init__()\n",
    "        self.conv = nn.Sequential(\n",
    "                    nn.Conv2d(in_channels=1,   # Just one color channel here\n",
    "                              out_channels=10, # How many channels do you want as output\n",
    "                              kernel_size=5,   # Size of the convolutional layer\n",
    "                              stride=1,        # Size of the step\n",
    "                              padding=0),\n",
    "                    nn.MaxPool2d(kernel_size=2),\n",
    "                    nn.ReLU())\n",
    "        self.fc = nn.Linear(self.convolution_output_length(width, height), 10)\n",
    "        self.softmax = nn.Softmax(dim=-1)\n",
    "    \n",
    "    def convolution_output_shape(self, width, height):\n",
    "        xs = self.conv(torch.zeros(1, 1, width, height)) # One sample, with one channel, of size 28 times 28\n",
    "        return xs.shape\n",
    "    \n",
    "    def convolution_output_length(self, width, height):\n",
    "        # Never hardcode that kind of stuff, compute it!\n",
    "        length = 1\n",
    "        for d in self.convolution_output_shape(width, height):\n",
    "            length *= d\n",
    "        return length\n",
    "    \n",
    "    def forward(self, xs, with_softmax=True):\n",
    "        batch_size, channels, width, height = xs.shape\n",
    "        xs = self.conv(xs)\n",
    "        xs = xs.reshape((batch_size, -1))\n",
    "        xs = self.fc(xs)\n",
    "        if with_softmax:\n",
    "            xs = self.softmax(xs)\n",
    "        return xs\n",
    "\n",
    "convolutional_model = ConvolutionalClassifier()\n",
    "train(convolutional_model, training_data_set, test_data_set, epoch_count=5)\n",
    "predict(convolutional_model, training_data_set, range(10))"
   ]
  },
  {
   "cell_type": "code",
   "execution_count": 12,
   "metadata": {},
   "outputs": [
    {
     "name": "stdout",
     "output_type": "stream",
     "text": [
      "Done creating noised data sets\n"
     ]
    }
   ],
   "source": [
    "# TODO - now the hard part is to:\n",
    "# 1. create a data set in which the images are bigger, and the number might be at different places\n",
    "# 2. data augmentation: the data might be slightly wrong with noise\n",
    "\n",
    "from PIL import Image\n",
    "\n",
    "class MNIST_Noised(Dataset):    \n",
    "    def __init__(self, images=None, targets=None):\n",
    "        super().__init__()\n",
    "        self.images = images or []\n",
    "        self.targets = targets or []\n",
    "        self.transform = pipeline\n",
    "    \n",
    "    def add_image(self, image, target):\n",
    "        self.images.append(image)\n",
    "        self.targets.append(target)\n",
    "    \n",
    "    def __len__(self):\n",
    "        return len(self.images)\n",
    "    \n",
    "    def __getitem__(self, index):\n",
    "        if isinstance(index, slice):\n",
    "            return [self.transform(img) for img in self.images[index]], self.targets[index]\n",
    "        else:\n",
    "            return self.transform(self.images[index]), self.targets[index]\n",
    "    \n",
    "    def get_raw_at(self, index):\n",
    "        return self.images[index]\n",
    "\n",
    "def add_noise_to_dataset(dataset):\n",
    "    dataset.transform = None\n",
    "    noised_data_set = MNIST_Noised()\n",
    "    for image, target in dataset:\n",
    "        resized = Image.new('L', (60, 60), color='black')\n",
    "        offset_x, offset_y = np.random.randint(0, 31, size=2)\n",
    "        resized.paste(image, box=(offset_x, offset_y))\n",
    "        noised_data_set.add_image(resized, target)\n",
    "    return noised_data_set\n",
    "    \n",
    "noised_training_data_set = add_noise_to_dataset(training_data_set)\n",
    "noised_test_data_set = add_noise_to_dataset(training_data_set)\n",
    "print('Done creating noised data sets')"
   ]
  },
  {
   "cell_type": "code",
   "execution_count": 13,
   "metadata": {},
   "outputs": [
    {
     "name": "stdout",
     "output_type": "stream",
     "text": [
      "([tensor([[[-2.5000, -2.5000, -2.5000,  ..., -2.5000, -2.5000, -2.5000],\n",
      "         [-2.5000, -2.5000, -2.5000,  ..., -2.5000, -2.5000, -2.5000],\n",
      "         [-2.5000, -2.5000, -2.5000,  ..., -2.5000, -2.5000, -2.5000],\n",
      "         ...,\n",
      "         [-2.5000, -2.5000, -2.5000,  ..., -2.5000, -2.5000, -2.5000],\n",
      "         [-2.5000, -2.5000, -2.5000,  ..., -2.5000, -2.5000, -2.5000],\n",
      "         [-2.5000, -2.5000, -2.5000,  ..., -2.5000, -2.5000, -2.5000]]]), tensor([[[-2.5000, -2.5000, -2.5000,  ..., -2.5000, -2.5000, -2.5000],\n",
      "         [-2.5000, -2.5000, -2.5000,  ..., -2.5000, -2.5000, -2.5000],\n",
      "         [-2.5000, -2.5000, -2.5000,  ..., -2.5000, -2.5000, -2.5000],\n",
      "         ...,\n",
      "         [-2.5000, -2.5000, -2.5000,  ..., -2.5000, -2.5000, -2.5000],\n",
      "         [-2.5000, -2.5000, -2.5000,  ..., -2.5000, -2.5000, -2.5000],\n",
      "         [-2.5000, -2.5000, -2.5000,  ..., -2.5000, -2.5000, -2.5000]]])], [tensor(5), tensor(0)])\n",
      "([tensor([[[-2.5000, -2.5000, -2.5000,  ..., -2.5000, -2.5000, -2.5000],\n",
      "         [-2.5000, -2.5000, -2.5000,  ..., -2.5000, -2.5000, -2.5000],\n",
      "         [-2.5000, -2.5000, -2.5000,  ..., -2.5000, -2.5000, -2.5000],\n",
      "         ...,\n",
      "         [-2.5000, -2.5000, -2.5000,  ..., -2.5000, -2.5000, -2.5000],\n",
      "         [-2.5000, -2.5000, -2.5000,  ..., -2.5000, -2.5000, -2.5000],\n",
      "         [-2.5000, -2.5000, -2.5000,  ..., -2.5000, -2.5000, -2.5000]]]), tensor([[[-2.5000, -2.5000, -2.5000,  ..., -2.5000, -2.5000, -2.5000],\n",
      "         [-2.5000, -2.5000, -2.5000,  ..., -2.5000, -2.5000, -2.5000],\n",
      "         [-2.5000, -2.5000, -2.5000,  ..., -2.5000, -2.5000, -2.5000],\n",
      "         ...,\n",
      "         [-2.5000, -2.5000, -2.5000,  ..., -2.5000, -2.5000, -2.5000],\n",
      "         [-2.5000, -2.5000, -2.5000,  ..., -2.5000, -2.5000, -2.5000],\n",
      "         [-2.5000, -2.5000, -2.5000,  ..., -2.5000, -2.5000, -2.5000]]])], [tensor(5), tensor(0)])\n"
     ]
    },
    {
     "data": {
      "image/png": "[encoded data removed]",
      "text/plain": [
       "<Figure size 432x288 with 1 Axes>"
      ]
     },
     "metadata": {
      "needs_background": "light"
     },
     "output_type": "display_data"
    }
   ],
   "source": [
    "plt.imshow(noised_training_data_set.get_raw_at(10))\n",
    "print(noised_training_data_set[:2])\n",
    "print(noised_test_data_set[:2])"
   ]
  },
  {
   "cell_type": "code",
   "execution_count": 14,
   "metadata": {},
   "outputs": [
    {
     "name": "stdout",
     "output_type": "stream",
     "text": [
      "[Epoch 0] Training loss: 1610.2289509773254\n",
      "[Epoch 0] Accuracy: 8990/60000 (14.98%)\n",
      "[Epoch 1] Training loss: 1432.823870897293\n",
      "[Epoch 1] Accuracy: 9857/60000 (16.43%)\n",
      "[Epoch 2] Training loss: 1435.4284545183182\n",
      "[Epoch 2] Accuracy: 11270/60000 (18.78%)\n",
      "[Epoch 3] Training loss: 1416.2636014223099\n",
      "[Epoch 3] Accuracy: 13376/60000 (22.29%)\n",
      "[Epoch 4] Training loss: 1384.7999229431152\n",
      "[Epoch 4] Accuracy: 15002/60000 (25.00%)\n"
     ]
    },
    {
     "data": {
      "image/png": "[encoded data removed]",
      "text/plain": [
       "<Figure size 432x288 with 1 Axes>"
      ]
     },
     "metadata": {
      "needs_background": "light"
     },
     "output_type": "display_data"
    }
   ],
   "source": [
    "linear_model_2 = LinearClassifier(width=60, height=60)\n",
    "train(linear_model_2, noised_training_data_set, noised_test_data_set, epoch_count=5)"
   ]
  },
  {
   "cell_type": "code",
   "execution_count": 15,
   "metadata": {},
   "outputs": [
    {
     "data": {
      "image/png": "[encoded data removed]",
      "text/plain": [
       "<Figure size 576x576 with 10 Axes>"
      ]
     },
     "metadata": {
      "needs_background": "light"
     },
     "output_type": "display_data"
    },
    {
     "name": "stdout",
     "output_type": "stream",
     "text": [
      "[5, 0, 4, 1, 9, 2, 1, 2, 1, 1]\n"
     ]
    }
   ],
   "source": [
    "noised_training_data_set.transform = lambda x: x\n",
    "predict(linear_model_2, noised_training_data_set, range(10))\n",
    "noised_training_data_set.transform = pipeline"
   ]
  },
  {
   "cell_type": "code",
   "execution_count": 17,
   "metadata": {},
   "outputs": [
    {
     "name": "stdout",
     "output_type": "stream",
     "text": [
      "[Epoch 0] Training loss: 1386.6171662807465\n",
      "[Epoch 0] Accuracy: 6742/60000 (11.24%)\n",
      "[Epoch 1] Training loss: 1380.7781500816345\n",
      "[Epoch 1] Accuracy: 6742/60000 (11.24%)\n",
      "[Epoch 2] Training loss: 1380.764130115509\n",
      "[Epoch 2] Accuracy: 6742/60000 (11.24%)\n",
      "[Epoch 3] Training loss: 1380.762948513031\n",
      "[Epoch 3] Accuracy: 6742/60000 (11.24%)\n",
      "[Epoch 4] Training loss: 1380.763822555542\n",
      "[Epoch 4] Accuracy: 6742/60000 (11.24%)\n"
     ]
    },
    {
     "data": {
      "image/png": "[encoded data removed]",
      "text/plain": [
       "<Figure size 432x288 with 1 Axes>"
      ]
     },
     "metadata": {
      "needs_background": "light"
     },
     "output_type": "display_data"
    }
   ],
   "source": [
    "two_layer_model_2 = TwoLayerClassifier(width=60, height=60)\n",
    "train(two_layer_model_2, noised_training_data_set, noised_test_data_set, epoch_count=5)"
   ]
  },
  {
   "cell_type": "code",
   "execution_count": 21,
   "metadata": {},
   "outputs": [
    {
     "name": "stdout",
     "output_type": "stream",
     "text": [
      "[Epoch 0] Training loss: 988.0478149652481\n",
      "[Epoch 0] Accuracy: 34889/60000 (58.15%)\n",
      "[Epoch 1] Training loss: 648.0120854973793\n",
      "[Epoch 1] Accuracy: 42073/60000 (70.12%)\n",
      "[Epoch 2] Training loss: 559.9144990444183\n",
      "[Epoch 2] Accuracy: 42887/60000 (71.48%)\n",
      "[Epoch 3] Training loss: 513.9090113639832\n",
      "[Epoch 3] Accuracy: 45160/60000 (75.27%)\n",
      "[Epoch 4] Training loss: 484.86781430244446\n",
      "[Epoch 4] Accuracy: 46040/60000 (76.73%)\n",
      "[Epoch 5] Training loss: 459.92392161488533\n",
      "[Epoch 5] Accuracy: 46780/60000 (77.97%)\n",
      "[Epoch 6] Training loss: 437.98814076185226\n",
      "[Epoch 6] Accuracy: 47590/60000 (79.32%)\n",
      "[Epoch 7] Training loss: 413.53015688061714\n",
      "[Epoch 7] Accuracy: 47522/60000 (79.20%)\n",
      "[Epoch 8] Training loss: 398.71949595212936\n",
      "[Epoch 8] Accuracy: 49006/60000 (81.68%)\n",
      "[Epoch 9] Training loss: 383.62344816327095\n",
      "[Epoch 9] Accuracy: 49007/60000 (81.68%)\n"
     ]
    },
    {
     "data": {
      "image/png": "[encoded data removed]",
      "text/plain": [
       "<Figure size 432x288 with 1 Axes>"
      ]
     },
     "metadata": {
      "needs_background": "light"
     },
     "output_type": "display_data"
    }
   ],
   "source": [
    "convolutional_model_2 = ConvolutionalClassifier(width=60, height=60)\n",
    "train(convolutional_model_2, noised_training_data_set, noised_test_data_set, epoch_count=10)"
   ]
  },
  {
   "cell_type": "code",
   "execution_count": 19,
   "metadata": {},
   "outputs": [
    {
     "data": {
      "image/png": "[encoded data removed]",
      "text/plain": [
       "<Figure size 576x576 with 10 Axes>"
      ]
     },
     "metadata": {
      "needs_background": "light"
     },
     "output_type": "display_data"
    },
    {
     "name": "stdout",
     "output_type": "stream",
     "text": [
      "[5, 0, 4, 1, 9, 2, 1, 3, 1, 4]\n"
     ]
    }
   ],
   "source": [
    "noised_training_data_set.transform = lambda x: x\n",
    "predict(convolutional_model_2, noised_training_data_set, range(10))\n",
    "noised_training_data_set.transform = pipeline"
   ]
  },
  {
   "cell_type": "code",
   "execution_count": 23,
   "metadata": {},
   "outputs": [
    {
     "name": "stdout",
     "output_type": "stream",
     "text": [
      "[Epoch 0] Training loss: 777.1195952296257\n",
      "[Epoch 0] Accuracy: 46509/60000 (77.52%)\n",
      "[Epoch 1] Training loss: 338.7238697707653\n",
      "[Epoch 1] Accuracy: 51547/60000 (85.91%)\n",
      "[Epoch 2] Training loss: 242.69836144149303\n",
      "[Epoch 2] Accuracy: 53866/60000 (89.78%)\n",
      "[Epoch 3] Training loss: 200.92666453123093\n",
      "[Epoch 3] Accuracy: 55073/60000 (91.79%)\n",
      "[Epoch 4] Training loss: 180.99933497607708\n",
      "[Epoch 4] Accuracy: 55222/60000 (92.04%)\n",
      "[Epoch 5] Training loss: 164.24345266073942\n",
      "[Epoch 5] Accuracy: 55782/60000 (92.97%)\n",
      "[Epoch 6] Training loss: 151.1928461715579\n",
      "[Epoch 6] Accuracy: 56225/60000 (93.71%)\n",
      "[Epoch 7] Training loss: 143.05749583244324\n",
      "[Epoch 7] Accuracy: 56388/60000 (93.98%)\n",
      "[Epoch 8] Training loss: 133.352735131979\n",
      "[Epoch 8] Accuracy: 56520/60000 (94.20%)\n",
      "[Epoch 9] Training loss: 127.88614606112242\n",
      "[Epoch 9] Accuracy: 56897/60000 (94.83%)\n"
     ]
    },
    {
     "data": {
      "image/png": "[encoded data removed]",
      "text/plain": [
       "<Figure size 432x288 with 1 Axes>"
      ]
     },
     "metadata": {
      "needs_background": "light"
     },
     "output_type": "display_data"
    }
   ],
   "source": [
    "\"\"\"\n",
    "Trying to improve the model (enhance its capacity) to improve the performance on the noised data set\n",
    "\"\"\"\n",
    "\n",
    "class ConvolutionalClassifier2(nn.Module):\n",
    "    def __init__(self, width=28, height=28):\n",
    "        super().__init__()\n",
    "        self.conv = nn.Sequential(\n",
    "                    nn.Conv2d(in_channels=1, out_channels=10, kernel_size=5, stride=1, padding=0),\n",
    "                    nn.MaxPool2d(kernel_size=2),\n",
    "                    nn.ReLU(),\n",
    "                    nn.Conv2d(in_channels=10, out_channels=5, kernel_size=5, stride=1, padding=0),\n",
    "                    nn.MaxPool2d(kernel_size=2),\n",
    "                    nn.ReLU())\n",
    "        self.fc = nn.Linear(self.convolution_output_length(width, height), 10)\n",
    "        self.softmax = nn.Softmax(dim=-1)\n",
    "    \n",
    "    def convolution_output_shape(self, width, height):\n",
    "        xs = self.conv(torch.zeros(1, 1, width, height)) # One sample, with one channel, of size 28 times 28\n",
    "        return xs.shape\n",
    "    \n",
    "    def convolution_output_length(self, width, height):\n",
    "        # Never hardcode that kind of stuff, compute it!\n",
    "        length = 1\n",
    "        for d in self.convolution_output_shape(width, height):\n",
    "            length *= d\n",
    "        return length\n",
    "    \n",
    "    def forward(self, xs, with_softmax=True):\n",
    "        batch_size, channels, width, height = xs.shape\n",
    "        xs = self.conv(xs)\n",
    "        xs = xs.reshape((batch_size, -1))\n",
    "        xs = self.fc(xs)\n",
    "        if with_softmax:\n",
    "            xs = self.softmax(xs)\n",
    "        return xs\n",
    "\n",
    "convolutional_model_3 = ConvolutionalClassifier2(width=60, height=60)\n",
    "train(convolutional_model_3, noised_training_data_set, noised_test_data_set, epoch_count=10)"
   ]
  },
  {
   "cell_type": "code",
   "execution_count": null,
   "metadata": {},
   "outputs": [],
   "source": [
    "noised_training_data_set.transform = lambda x: x\n",
    "predict(convolutional_model_3, noised_training_data_set, range(10))\n",
    "noised_training_data_set.transform = pipeline"
   ]
  },
  {
   "cell_type": "code",
   "execution_count": 20,
   "metadata": {},
   "outputs": [
    {
     "name": "stdout",
     "output_type": "stream",
     "text": [
      "Training data set size: 5923\n",
      "[Iteration 0] Discriminator loss: 0.5964517593383789\n",
      "[Iteration 0] Generator loss: 0.6451975107192993\n",
      "[Iteration 100] Discriminator loss: 0.022570056840777397\n",
      "[Iteration 100] Generator loss: 3.3542208671569824\n",
      "[Iteration 200] Discriminator loss: 0.014806630089879036\n",
      "[Iteration 200] Generator loss: 3.7949461936950684\n",
      "[Iteration 300] Discriminator loss: 0.003882128279656172\n",
      "[Iteration 300] Generator loss: 5.349203586578369\n",
      "[Iteration 400] Discriminator loss: 0.0044014970771968365\n",
      "[Iteration 400] Generator loss: 5.196898937225342\n",
      "[Iteration 500] Discriminator loss: 0.002067980822175741\n",
      "[Iteration 500] Generator loss: 5.919386863708496\n",
      "[Iteration 600] Discriminator loss: 0.0014855985064059496\n",
      "[Iteration 600] Generator loss: 6.113412380218506\n",
      "[Iteration 700] Discriminator loss: 0.0010942477965727448\n",
      "[Iteration 700] Generator loss: 6.441154956817627\n",
      "[Iteration 800] Discriminator loss: 0.0006659283535555005\n",
      "[Iteration 800] Generator loss: 7.013413429260254\n",
      "[Iteration 900] Discriminator loss: 0.0004014008736703545\n",
      "[Iteration 900] Generator loss: 7.457821369171143\n",
      "[Iteration 1000] Discriminator loss: 0.0002950299240183085\n",
      "[Iteration 1000] Generator loss: 7.7528605461120605\n",
      "[Iteration 1100] Discriminator loss: 0.00032134176581166685\n",
      "[Iteration 1100] Generator loss: 7.741936683654785\n",
      "[Iteration 1200] Discriminator loss: 0.00024797802325338125\n",
      "[Iteration 1200] Generator loss: 7.881833076477051\n",
      "[Iteration 1300] Discriminator loss: 0.00019678544776979834\n",
      "[Iteration 1300] Generator loss: 8.05797290802002\n",
      "[Iteration 1400] Discriminator loss: 0.00017291992844548076\n",
      "[Iteration 1400] Generator loss: 8.369030952453613\n",
      "[Iteration 1500] Discriminator loss: 0.0001344163465546444\n",
      "[Iteration 1500] Generator loss: 8.603405952453613\n",
      "[Iteration 1600] Discriminator loss: 0.00011987320613116026\n",
      "[Iteration 1600] Generator loss: 8.764444351196289\n",
      "[Iteration 1700] Discriminator loss: 9.998129826271906e-05\n",
      "[Iteration 1700] Generator loss: 8.885523796081543\n",
      "[Iteration 1800] Discriminator loss: 9.991917613660917e-05\n",
      "[Iteration 1800] Generator loss: 8.867409706115723\n",
      "[Iteration 1900] Discriminator loss: 7.751196972094476e-05\n",
      "[Iteration 1900] Generator loss: 9.026078224182129\n",
      "[Iteration 2000] Discriminator loss: 6.564505747519433e-05\n",
      "[Iteration 2000] Generator loss: 9.206958770751953\n",
      "[Iteration 2100] Discriminator loss: 5.8456203987589106e-05\n",
      "[Iteration 2100] Generator loss: 9.393342018127441\n",
      "[Iteration 2200] Discriminator loss: 4.4380529288901016e-05\n",
      "[Iteration 2200] Generator loss: 9.589192390441895\n",
      "[Iteration 2300] Discriminator loss: 4.3424803152447566e-05\n",
      "[Iteration 2300] Generator loss: 9.775660514831543\n",
      "[Iteration 2400] Discriminator loss: 3.163629298796877e-05\n",
      "[Iteration 2400] Generator loss: 9.915451049804688\n",
      "[Iteration 2500] Discriminator loss: 3.0027162210899405e-05\n",
      "[Iteration 2500] Generator loss: 10.07288932800293\n",
      "[Iteration 2600] Discriminator loss: 2.4597755327704363e-05\n",
      "[Iteration 2600] Generator loss: 10.163265228271484\n",
      "[Iteration 2700] Discriminator loss: 2.2608028302784078e-05\n",
      "[Iteration 2700] Generator loss: 10.305856704711914\n",
      "[Iteration 2800] Discriminator loss: 2.3475353373214602e-05\n",
      "[Iteration 2800] Generator loss: 10.377907752990723\n",
      "[Iteration 2900] Discriminator loss: 1.8914362954092212e-05\n",
      "[Iteration 2900] Generator loss: 10.438047409057617\n",
      "[Iteration 3000] Discriminator loss: 1.767652611306403e-05\n",
      "[Iteration 3000] Generator loss: 10.524971961975098\n",
      "[Iteration 3100] Discriminator loss: 1.6373422113247216e-05\n",
      "[Iteration 3100] Generator loss: 10.581043243408203\n",
      "[Iteration 3200] Discriminator loss: 1.5658330084988847e-05\n",
      "[Iteration 3200] Generator loss: 10.677611351013184\n",
      "[Iteration 3300] Discriminator loss: 1.598109884071164e-05\n",
      "[Iteration 3300] Generator loss: 10.726325988769531\n",
      "[Iteration 3400] Discriminator loss: 1.469467406423064e-05\n",
      "[Iteration 3400] Generator loss: 10.766446113586426\n",
      "[Iteration 3500] Discriminator loss: 1.3281370229378808e-05\n",
      "[Iteration 3500] Generator loss: 10.874732971191406\n"
     ]
    }
   ],
   "source": [
    "\"\"\"\n",
    "NOW for the really fun part: trying to generate numbers using a GAN\n",
    "\"\"\"\n",
    "\n",
    "class NumberDiscriminator(nn.Module):\n",
    "    \n",
    "    # Note: you need something like a convolutional network to be able to correctly discriminate fakes\n",
    "    # The simple Linear layer below will not be able to help you much (we saw before that it is very sensitive to positions)\n",
    "    \n",
    "    '''\n",
    "    def __init__(self, width=28, height=28):\n",
    "        super().__init__()\n",
    "        self.fc = nn.Linear(width * height, 1) # One entry for fakes\n",
    "        self.sigmoid = nn.Sigmoid()\n",
    "    \n",
    "    def forward(self, xs, with_sigmoid=True):\n",
    "        batch_size, channels, width, height = xs.shape\n",
    "        xs = xs.reshape((batch_size, -1))\n",
    "        xs = self.fc(xs)\n",
    "        if with_sigmoid:\n",
    "            xs = self.sigmoid(xs)\n",
    "        else:\n",
    "            xs = xs.squeeze(dim=-1)\n",
    "        return xs\n",
    "    '''\n",
    "    \n",
    "    def __init__(self, width=28, height=28):\n",
    "        super().__init__()\n",
    "        self.conv = nn.Sequential(\n",
    "                    nn.Conv2d(in_channels=1, out_channels=10, kernel_size=5, stride=1, padding=0),\n",
    "                    nn.MaxPool2d(kernel_size=2),\n",
    "                    nn.ReLU())\n",
    "        self.fc = nn.Linear(self.convolution_output_length(width, height), 1)\n",
    "        self.sigmoid = nn.Sigmoid()\n",
    "    \n",
    "    def convolution_output_shape(self, width, height):\n",
    "        xs = self.conv(torch.zeros(1, 1, width, height))\n",
    "        return xs.shape\n",
    "    \n",
    "    def convolution_output_length(self, width, height):\n",
    "        length = 1\n",
    "        for d in self.convolution_output_shape(width, height):\n",
    "            length *= d\n",
    "        return length\n",
    "    \n",
    "    def forward(self, xs, with_sigmoid=True):\n",
    "        batch_size, channels, width, height = xs.shape\n",
    "        xs = self.conv(xs)\n",
    "        xs = self.fc(xs.reshape((batch_size, -1)))\n",
    "        return self.sigmoid(xs) if with_sigmoid else xs.squeeze(dim=-1)\n",
    "\n",
    "class NumberGenerator(nn.Module):\n",
    "    def __init__(self, seed_size, width=28, height=28):\n",
    "        super().__init__()\n",
    "        self.seed_size = seed_size\n",
    "        self.inv_conv = nn.Sequential(\n",
    "            nn.ConvTranspose2d(in_channels=self.seed_size, out_channels=self.seed_size * 2, kernel_size=4, stride=1, padding=0, bias=False),\n",
    "            nn.BatchNorm2d(num_features=self.seed_size * 2),\n",
    "            nn.ReLU(inplace=True),\n",
    "            nn.ConvTranspose2d(in_channels=self.seed_size * 2, out_channels=self.seed_size, kernel_size=4, stride=1, padding=0, bias=False),\n",
    "            nn.BatchNorm2d(num_features=self.seed_size),\n",
    "            nn.ReLU(inplace=True),\n",
    "            nn.ConvTranspose2d(in_channels=self.seed_size, out_channels=8, kernel_size=4, stride=2, padding=1, bias=False),\n",
    "            nn.BatchNorm2d(num_features=8),\n",
    "            nn.ReLU(inplace=True),\n",
    "            nn.ConvTranspose2d(in_channels=8, out_channels=1, kernel_size=4, stride=2, padding=1, bias=False),\n",
    "            nn.Tanh())\n",
    "            \n",
    "    def forward(self, xs):\n",
    "        batch_size, seed_size, width, height = xs.shape\n",
    "        xs = self.inv_conv(xs)\n",
    "        return xs\n",
    "    \n",
    "    def random_seed(self, batch_size):\n",
    "        return torch.randn((batch_size, self.seed_size, 1, 1))\n",
    "\n",
    "@dataclasses.dataclass(frozen=False)\n",
    "class GanTrainingResult:\n",
    "    iteration : List[int]\n",
    "    discriminator_losses : List[float]\n",
    "    generator_losses : List[float]\n",
    "    generator_examples : List[Any]\n",
    "        \n",
    "def train_gan(generator, discriminator, real_data_set,\n",
    "              epoch_count=10, batch_size=100, reporting_every=10) -> GanTrainingResult:\n",
    "    print(\"Training data set size:\", len(real_data_set))\n",
    "    report = GanTrainingResult(iteration=[], discriminator_losses=[], generator_losses=[], generator_examples=[])\n",
    "    \n",
    "    dis_criterion = nn.BCEWithLogitsLoss()\n",
    "    gen_optimizer = optim.Adam(params=generator.parameters(), lr=1e-3)\n",
    "    dis_optimizer = optim.Adam(params=discriminator.parameters(), lr=1e-3)\n",
    "    data_loader = DataLoader(real_data_set, batch_size=batch_size, shuffle=True)\n",
    "    \n",
    "    iter_nb = 0\n",
    "    for epoch in range(epoch_count):\n",
    "        for real_data, _ in data_loader:\n",
    "            nb_data = len(real_data)\n",
    "            dis_cumulative_loss = 0.\n",
    "            gen_cumulative_loss = 0.\n",
    "        \n",
    "            # Generating some random inputs in addition to the normal inputs\n",
    "\n",
    "            seeds = generator.random_seed(nb_data)\n",
    "            generated = generator(seeds)\n",
    "            real_labels = torch.ones((nb_data,))\n",
    "            fake_labels = torch.zeros((nb_data,))\n",
    "\n",
    "            # Training the discriminator (real batch then fake batch)\n",
    "\n",
    "            generator.eval()\n",
    "            discriminator.train()\n",
    "\n",
    "            dis_batch = torch.cat((real_data, generated.detach()), dim=0)\n",
    "            dis_labels = torch.cat((real_labels, fake_labels), dim=0)\n",
    "            dis_optimizer.zero_grad()\n",
    "            dis_outputs = discriminator(dis_batch, with_sigmoid=False)\n",
    "            dis_loss = dis_criterion(dis_outputs, dis_labels)\n",
    "            dis_loss.backward()\n",
    "            dis_optimizer.step()\n",
    "            dis_cumulative_loss += dis_loss.item()\n",
    "\n",
    "            # Training the generator\n",
    "\n",
    "            generator.train()\n",
    "            discriminator.train()\n",
    "\n",
    "            gen_optimizer.zero_grad()\n",
    "            dis_optimizer.zero_grad()\n",
    "            dis_outputs = discriminator(generated, with_sigmoid=False)\n",
    "            dis_loss = dis_criterion(dis_outputs, real_labels)\n",
    "            dis_loss.backward()\n",
    "            gen_optimizer.step()\n",
    "            gen_cumulative_loss += dis_loss.item()\n",
    "\n",
    "            # Reporting the results (loss + example of generation)\n",
    "            \n",
    "            if iter_nb % reporting_every == 0:\n",
    "                report.iteration.append(iter_nb)\n",
    "                report.discriminator_losses.append(dis_cumulative_loss)\n",
    "                report.generator_losses.append(gen_cumulative_loss)\n",
    "                report.generator_examples.append(generated[0].detach())\n",
    "                print(\"[Iteration {0}] Discriminator loss: {1}\".format(iter_nb, dis_cumulative_loss))\n",
    "                print(\"[Iteration {0}] Generator loss: {1}\".format(iter_nb, gen_cumulative_loss))\n",
    "            iter_nb += 1\n",
    "    \n",
    "    generator.eval()\n",
    "    discriminator.eval()\n",
    "    return report\n",
    "\n",
    "def filter_value(data_set, chosen_val):\n",
    "    xs = []\n",
    "    ys = []\n",
    "    data_set.transform = pipeline\n",
    "    for image, target in data_set:\n",
    "        if target.item() == chosen_val:\n",
    "            xs.append(torch.clone(image))\n",
    "            ys.append(target)\n",
    "    return TensorDataset(torch.stack(xs), torch.stack(ys))\n",
    "\n",
    "def show_sample(generated):\n",
    "    image = generated.squeeze(dim=0).squeeze(dim=0).detach().numpy()\n",
    "    max_val = image.max()\n",
    "    min_val = image.min()\n",
    "    image = (image - min_val) / (max_val - min_val)\n",
    "    image = np.uint8(image * 255)\n",
    "    return Image.fromarray(image, 'L')\n",
    "\n",
    "'''\n",
    "generator = NumberGenerator(seed_size=100)\n",
    "seed = generator.random_seed(1)\n",
    "print(seed.shape)\n",
    "output = generator(seed)\n",
    "print(output.shape)\n",
    "'''\n",
    "\n",
    "# '''\n",
    "generator = NumberGenerator(seed_size=64)\n",
    "discriminator = NumberDiscriminator()\n",
    "training_data_set.transform = pipeline\n",
    "report = train_gan(generator, discriminator, filter_value(training_data_set, 0), epoch_count=50, batch_size=250, reporting_every=100)\n",
    "# report = train_gan(generator, discriminator, filter_five(training_data_set), epoch_count=1, batch_size=500, reporting_every=1)\n",
    "\n",
    "fig, ax = plt.subplots(figsize=(15, 10))\n",
    "ax.plot(report.iteration, report.discriminator_losses)\n",
    "ax.plot(report.iteration, report.generator_losses)\n",
    "plt.show()\n",
    "\n",
    "nb_cols = 5\n",
    "full_rows, remaining = divmod(len(report.iteration), nb_cols)\n",
    "nb_rows = full_rows + (1 if remaining else 0)\n",
    "fig, ax = plt.subplots(figsize=(10, 2 * nb_rows), ncols=nb_cols, nrows=nb_rows)\n",
    "for sample_i in range(len(report.iteration)):\n",
    "    i, j = divmod(sample_i, nb_cols)\n",
    "    example = report.generator_examples[i]\n",
    "    ax[(i, j)].imshow(show_sample(example))\n",
    "plt.show()\n",
    "# '''\n",
    "\n",
    "# TODO - restrict to only fives\n",
    "# TODO - for the moment, the generator is not able to keep up with the discriminator"
   ]
  },
  {
   "cell_type": "code",
   "execution_count": 250,
   "metadata": {},
   "outputs": [
    {
     "name": "stdout",
     "output_type": "stream",
     "text": [
      "torch.Size([1, 1, 7, 7])\n",
      "torch.Size([1, 1, 1, 1])\n",
      "torch.Size([1, 1, 2, 2])\n"
     ]
    }
   ],
   "source": [
    "conv1 = nn.Conv2d(in_channels=1, out_channels=1, kernel_size=4, stride=2, padding=1)\n",
    "out = conv1(torch.ones((1, 1, 28, 28)))\n",
    "out = conv1(out)\n",
    "\n",
    "print(out.shape)\n",
    "\n",
    "conv2 = nn.Conv2d(in_channels=1, out_channels=1, kernel_size=4, stride=1, padding=0)\n",
    "out = conv2(out)\n",
    "out = conv2(out)\n",
    "\n",
    "print(out.shape)\n",
    "\n",
    "inv_conv = nn.ConvTranspose2d(in_channels=1, out_channels=1, kernel_size=4, stride=2, padding=1, bias=False)\n",
    "gen = inv_conv(out)\n",
    "print(gen.shape)"
   ]
  },
  {
   "cell_type": "code",
   "execution_count": null,
   "metadata": {},
   "outputs": [],
   "source": []
  }
 ],
 "metadata": {
  "kernelspec": {
   "display_name": "Python 3",
   "language": "python",
   "name": "python3"
  },
  "language_info": {
   "codemirror_mode": {
    "name": "ipython",
    "version": 3
   },
   "file_extension": ".py",
   "mimetype": "text/x-python",
   "name": "python",
   "nbconvert_exporter": "python",
   "pygments_lexer": "ipython3",
   "version": "3.7.0"
  }
 },
 "nbformat": 4,
 "nbformat_minor": 4
}

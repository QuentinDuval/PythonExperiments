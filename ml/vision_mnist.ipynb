{
 "cells": [
  {
   "cell_type": "code",
   "execution_count": 1,
   "metadata": {},
   "outputs": [],
   "source": [
    "%matplotlib inline\n",
    "import matplotlib\n",
    "import matplotlib.cm as cm\n",
    "import matplotlib.pyplot as plt\n",
    "import numpy as np\n",
    "\n",
    "import torch\n",
    "import torch.nn as nn\n",
    "import torch.optim as optim\n",
    "from torch.utils.data import *\n",
    "import torchvision"
   ]
  },
  {
   "cell_type": "code",
   "execution_count": 2,
   "metadata": {},
   "outputs": [],
   "source": [
    "training_data_set = torchvision.datasets.MNIST('./dataset/mnist/training.pt', train=True, download=True)\n",
    "test_data_set = torchvision.datasets.MNIST('./dataset/mnist/test.pt', train=False, download=True)"
   ]
  },
  {
   "cell_type": "code",
   "execution_count": 3,
   "metadata": {},
   "outputs": [
    {
     "name": "stdout",
     "output_type": "stream",
     "text": [
      "Number of samples in the training set: 60000\n",
      "Number of samples in the test set: 10000\n",
      "<PIL.Image.Image image mode=L size=28x28 at 0x1A85CBAE860> -> tensor(5)\n"
     ]
    },
    {
     "data": {
      "text/plain": [
       "<matplotlib.image.AxesImage at 0x1a86208d198>"
      ]
     },
     "execution_count": 3,
     "metadata": {},
     "output_type": "execute_result"
    },
    {
     "data": {
      "image/png": "[encoded data removed]",
      "text/plain": [
       "<Figure size 432x288 with 1 Axes>"
      ]
     },
     "metadata": {
      "needs_background": "light"
     },
     "output_type": "display_data"
    }
   ],
   "source": [
    "\"\"\"\n",
    "Observing some of the data\n",
    "\"\"\"\n",
    "print(\"Number of samples in the training set:\", len(training_data_set))\n",
    "print(\"Number of samples in the test set:\", len(test_data_set))\n",
    "image, target = training_data_set[0]\n",
    "print(image, \"->\", target)\n",
    "plt.imshow(image)"
   ]
  },
  {
   "cell_type": "code",
   "execution_count": 4,
   "metadata": {},
   "outputs": [
    {
     "data": {
      "text/plain": [
       "torch.Size([1, 28, 28])"
      ]
     },
     "execution_count": 4,
     "metadata": {},
     "output_type": "execute_result"
    }
   ],
   "source": [
    "\"\"\"\n",
    "How to transform the data into vectors\n",
    "\"\"\"\n",
    "pipeline = torchvision.transforms.Compose([\n",
    "    torchvision.transforms.ToTensor(),\n",
    "    torchvision.transforms.Normalize(mean=[0.5, 0.5, 0.5],std=[0.2, 0.2, 0.2])\n",
    "])\n",
    "xs = pipeline(image)\n",
    "xs.shape"
   ]
  },
  {
   "cell_type": "code",
   "execution_count": 5,
   "metadata": {},
   "outputs": [
    {
     "name": "stdout",
     "output_type": "stream",
     "text": [
      "tensor([[[[-2.5000, -2.5000, -2.5000,  ..., -2.5000, -2.5000, -2.5000],\n",
      "          [-2.5000, -2.5000, -2.5000,  ..., -2.5000, -2.5000, -2.5000],\n",
      "          [-2.5000, -2.5000, -2.5000,  ..., -2.5000, -2.5000, -2.5000],\n",
      "          ...,\n",
      "          [-2.5000, -2.5000, -2.5000,  ..., -2.5000, -2.5000, -2.5000],\n",
      "          [-2.5000, -2.5000, -2.5000,  ..., -2.5000, -2.5000, -2.5000],\n",
      "          [-2.5000, -2.5000, -2.5000,  ..., -2.5000, -2.5000, -2.5000]]],\n",
      "\n",
      "\n",
      "        [[[-2.5000, -2.5000, -2.5000,  ..., -2.5000, -2.5000, -2.5000],\n",
      "          [-2.5000, -2.5000, -2.5000,  ..., -2.5000, -2.5000, -2.5000],\n",
      "          [-2.5000, -2.5000, -2.5000,  ..., -2.5000, -2.5000, -2.5000],\n",
      "          ...,\n",
      "          [-2.5000, -2.5000, -2.5000,  ..., -2.5000, -2.5000, -2.5000],\n",
      "          [-2.5000, -2.5000, -2.5000,  ..., -2.5000, -2.5000, -2.5000],\n",
      "          [-2.5000, -2.5000, -2.5000,  ..., -2.5000, -2.5000, -2.5000]]]])\n",
      "tensor([1, 8])\n"
     ]
    }
   ],
   "source": [
    "\"\"\"\n",
    "Working with data loader for images\n",
    "\"\"\"\n",
    "\n",
    "# You need to transform the data to vectors to put it inside a data loader\n",
    "training_data_set.transform = pipeline\n",
    "test_data_set.transform = pipeline\n",
    "\n",
    "data_loader = DataLoader(training_data_set, batch_size=2, shuffle=True)\n",
    "for images, targets in data_loader:\n",
    "    print(images)\n",
    "    print(targets)\n",
    "    break"
   ]
  },
  {
   "cell_type": "code",
   "execution_count": 6,
   "metadata": {},
   "outputs": [
    {
     "name": "stdout",
     "output_type": "stream",
     "text": [
      "[Epoch 0] Training loss: 267.26322488486767\n",
      "[Epoch 0] Accuracy: 54593/60000 (90.99%)\n",
      "[Epoch 1] Training loss: 196.67112884670496\n",
      "[Epoch 1] Accuracy: 54777/60000 (91.30%)\n",
      "[Epoch 2] Training loss: 191.80606784671545\n",
      "[Epoch 2] Accuracy: 54679/60000 (91.13%)\n",
      "[Epoch 3] Training loss: 187.64222344011068\n",
      "[Epoch 3] Accuracy: 55380/60000 (92.30%)\n",
      "[Epoch 4] Training loss: 183.88519762456417\n",
      "[Epoch 4] Accuracy: 55257/60000 (92.09%)\n"
     ]
    },
    {
     "data": {
      "image/png": "[encoded data removed]",
      "text/plain": [
       "<Figure size 432x288 with 1 Axes>"
      ]
     },
     "metadata": {
      "needs_background": "light"
     },
     "output_type": "display_data"
    }
   ],
   "source": [
    "\"\"\"\n",
    "Training a basic Linear classifier for images\n",
    "\"\"\"\n",
    "\n",
    "class LinearClassifier(nn.Module):\n",
    "    def __init__(self, width=28, height=28):\n",
    "        super().__init__()\n",
    "        self.fc = nn.Linear(width * height, 10)\n",
    "        self.softmax = nn.Softmax(dim=-1)\n",
    "    \n",
    "    def forward(self, xs, with_softmax=True):\n",
    "        batch_size, channels, width, height = xs.shape\n",
    "        xs = xs.reshape((batch_size, -1))\n",
    "        xs = self.fc(xs)\n",
    "        if with_softmax:\n",
    "            xs = self.softmax(xs)\n",
    "        return xs\n",
    "\n",
    "def train(model, training_data_set, test_data_set, epoch_count=10):\n",
    "    training_data_set.transform = pipeline\n",
    "    test_data_set.transform = pipeline  \n",
    "    \n",
    "    criterion = nn.CrossEntropyLoss()\n",
    "    optimizer = optim.Adam(model.parameters(), lr=1e-3)\n",
    "\n",
    "    training_data_loader = DataLoader(training_data_set, batch_size=100, shuffle=True)\n",
    "    test_data_loader = DataLoader(training_data_set, batch_size=100, shuffle=True)\n",
    "\n",
    "    losses = []\n",
    "\n",
    "    for epoch in range(epoch_count):\n",
    "        cumulative_loss = 0.\n",
    "        model.train()\n",
    "        for images, targets in training_data_loader:\n",
    "            optimizer.zero_grad()\n",
    "            got = model(images, with_softmax=False)\n",
    "            loss = criterion(got, targets)\n",
    "            cumulative_loss += loss.item()\n",
    "            loss.backward()\n",
    "            optimizer.step()\n",
    "\n",
    "        print(\"[Epoch {0}] Training loss: {1}\".format(epoch, cumulative_loss))\n",
    "        losses.append(cumulative_loss)\n",
    "\n",
    "        correct = 0\n",
    "        total = 0\n",
    "        model.eval()\n",
    "        for images, targets in test_data_loader:\n",
    "            got = model(images, with_softmax=True)\n",
    "            predicted = torch.argmax(got, dim=-1)\n",
    "            predicted = predicted.view(-1)\n",
    "            targets = targets.view(-1)\n",
    "            correct += (predicted == targets).sum().item()\n",
    "            total += len(targets)\n",
    "\n",
    "        print(\"[Epoch {0}] Accuracy: {1}/{2} ({3:.2f}%)\".format(epoch, correct, total, 100 * correct/total))\n",
    "\n",
    "    plt.plot(losses)\n",
    "    plt.show()\n",
    "    \n",
    "linear_model = LinearClassifier()\n",
    "train(linear_model, training_data_set, test_data_set, epoch_count=5)"
   ]
  },
  {
   "cell_type": "code",
   "execution_count": 7,
   "metadata": {},
   "outputs": [
    {
     "data": {
      "image/png": "[encoded data removed]",
      "text/plain": [
       "<Figure size 576x576 with 10 Axes>"
      ]
     },
     "metadata": {
      "needs_background": "light"
     },
     "output_type": "display_data"
    },
    {
     "name": "stdout",
     "output_type": "stream",
     "text": [
      "[5, 0, 4, 1, 9, 2, 1, 3, 1, 4]\n"
     ]
    }
   ],
   "source": [
    "\"\"\"\n",
    "Trying the model\n",
    "\"\"\"\n",
    "\n",
    "def predict(model, data_set, image_indexes):\n",
    "    fig, ax = plt.subplots(figsize=(8, 8), ncols=len(image_indexes))\n",
    "    predicted = []\n",
    "    training_data_set.transform = None\n",
    "    for image_idx in image_indexes:\n",
    "        image, target = data_set[image_idx]\n",
    "        xs = pipeline(image)\n",
    "        xs = xs.unsqueeze(dim=0)\n",
    "        ys = model(xs, with_softmax=True)\n",
    "        predicted.append(torch.argmax(ys, dim=-1).item())\n",
    "        ax[image_idx].imshow(image)\n",
    "        ax[image_idx].set_axis_off()\n",
    "    plt.show()\n",
    "    print(predicted)\n",
    "\n",
    "predict(linear_model, training_data_set, range(10))"
   ]
  },
  {
   "cell_type": "code",
   "execution_count": 8,
   "metadata": {},
   "outputs": [
    {
     "name": "stdout",
     "output_type": "stream",
     "text": [
      "[Epoch 0] Training loss: 262.67323441803455\n",
      "[Epoch 0] Accuracy: 54926/60000 (91.54%)\n",
      "[Epoch 1] Training loss: 152.94081577658653\n",
      "[Epoch 1] Accuracy: 56400/60000 (94.00%)\n",
      "[Epoch 2] Training loss: 120.93054033815861\n",
      "[Epoch 2] Accuracy: 56985/60000 (94.97%)\n",
      "[Epoch 3] Training loss: 102.58904355019331\n",
      "[Epoch 3] Accuracy: 57389/60000 (95.65%)\n",
      "[Epoch 4] Training loss: 91.69354344904423\n",
      "[Epoch 4] Accuracy: 57473/60000 (95.79%)\n"
     ]
    },
    {
     "data": {
      "image/png": "[encoded data removed]",
      "text/plain": [
       "<Figure size 432x288 with 1 Axes>"
      ]
     },
     "metadata": {
      "needs_background": "light"
     },
     "output_type": "display_data"
    }
   ],
   "source": [
    "class TwoLayerClassifier(nn.Module):\n",
    "    def __init__(self, width=28, height=28):\n",
    "        super().__init__()\n",
    "        self.fc = nn.Sequential(nn.Linear(width * height, 50), nn.ReLU(), nn.Linear(50, 10))\n",
    "        self.softmax = nn.Softmax(dim=-1)\n",
    "    \n",
    "    def forward(self, xs, with_softmax=True):\n",
    "        batch_size, channels, width, height = xs.shape\n",
    "        xs = xs.reshape((batch_size, -1))\n",
    "        xs = self.fc(xs)\n",
    "        if with_softmax:\n",
    "            xs = self.softmax(xs)\n",
    "        return xs\n",
    "\n",
    "two_layer_model = TwoLayerClassifier()\n",
    "train(two_layer_model, training_data_set, test_data_set, epoch_count=5)"
   ]
  },
  {
   "cell_type": "code",
   "execution_count": 9,
   "metadata": {},
   "outputs": [
    {
     "data": {
      "image/png": "[encoded data removed]",
      "text/plain": [
       "<Figure size 576x576 with 10 Axes>"
      ]
     },
     "metadata": {
      "needs_background": "light"
     },
     "output_type": "display_data"
    },
    {
     "name": "stdout",
     "output_type": "stream",
     "text": [
      "[5, 0, 4, 1, 9, 2, 1, 3, 1, 4]\n"
     ]
    }
   ],
   "source": [
    "predict(two_layer_model, training_data_set, range(10))"
   ]
  },
  {
   "cell_type": "code",
   "execution_count": 19,
   "metadata": {},
   "outputs": [
    {
     "name": "stdout",
     "output_type": "stream",
     "text": [
      "[Epoch 0] Training loss: 134.61638176627457\n",
      "[Epoch 0] Accuracy: 58294/60000 (97.16%)\n",
      "[Epoch 1] Training loss: 51.07596118096262\n",
      "[Epoch 1] Accuracy: 58728/60000 (97.88%)\n",
      "[Epoch 2] Training loss: 40.16010213177651\n",
      "[Epoch 2] Accuracy: 59099/60000 (98.50%)\n",
      "[Epoch 3] Training loss: 34.483002638444304\n",
      "[Epoch 3] Accuracy: 59178/60000 (98.63%)\n",
      "[Epoch 4] Training loss: 29.569490973837674\n",
      "[Epoch 4] Accuracy: 59083/60000 (98.47%)\n"
     ]
    },
    {
     "data": {
      "image/png": "[encoded data removed]",
      "text/plain": [
       "<Figure size 432x288 with 1 Axes>"
      ]
     },
     "metadata": {
      "needs_background": "light"
     },
     "output_type": "display_data"
    },
    {
     "data": {
      "image/png": "[encoded data removed]",
      "text/plain": [
       "<Figure size 576x576 with 10 Axes>"
      ]
     },
     "metadata": {
      "needs_background": "light"
     },
     "output_type": "display_data"
    },
    {
     "name": "stdout",
     "output_type": "stream",
     "text": [
      "[5, 0, 4, 1, 9, 2, 1, 3, 1, 4]\n"
     ]
    }
   ],
   "source": [
    "# Always create your models by creating a vector representing several samples\n",
    "# test_entries = torch.zeros(3, 1, 28, 28)\n",
    "\n",
    "class ConvolutionalClassifier(nn.Module):\n",
    "    def __init__(self, width=28, height=28):\n",
    "        super().__init__()\n",
    "        self.conv = nn.Sequential(\n",
    "                    nn.Conv2d(in_channels=1,   # Just one color channel here\n",
    "                              out_channels=10, # How many channels do you want as output\n",
    "                              kernel_size=5,   # Size of the convolutional layer\n",
    "                              stride=1,        # Size of the step\n",
    "                              padding=0),\n",
    "                    nn.MaxPool2d(kernel_size=2),\n",
    "                    nn.ReLU())\n",
    "        self.fc = nn.Linear(self.convolution_output_length(width, height), 10)\n",
    "        self.softmax = nn.Softmax(dim=-1)\n",
    "    \n",
    "    def convolution_output_shape(self, width, height):\n",
    "        xs = self.conv(torch.zeros(1, 1, width, height)) # One sample, with one channel, of size 28 times 28\n",
    "        return xs.shape\n",
    "    \n",
    "    def convolution_output_length(self, width, height):\n",
    "        # Never hardcode that kind of stuff, compute it!\n",
    "        length = 1\n",
    "        for d in self.convolution_output_shape(width, height):\n",
    "            length *= d\n",
    "        return length\n",
    "    \n",
    "    def forward(self, xs, with_softmax=True):\n",
    "        batch_size, channels, width, height = xs.shape\n",
    "        xs = self.conv(xs)\n",
    "        xs = xs.reshape((batch_size, -1))\n",
    "        xs = self.fc(xs)\n",
    "        if with_softmax:\n",
    "            xs = self.softmax(xs)\n",
    "        return xs\n",
    "\n",
    "convolutional_model = ConvolutionalClassifier()\n",
    "train(convolutional_model, training_data_set, test_data_set, epoch_count=5)\n",
    "predict(convolutional_model, training_data_set, range(10))"
   ]
  },
  {
   "cell_type": "code",
   "execution_count": 11,
   "metadata": {},
   "outputs": [
    {
     "name": "stdout",
     "output_type": "stream",
     "text": [
      "Done creating noised data sets\n"
     ]
    }
   ],
   "source": [
    "# TODO - now the hard part is to:\n",
    "# 1. create a data set in which the images are bigger, and the number might be at different places\n",
    "# 2. data augmentation: the data might be slightly wrong with noise\n",
    "\n",
    "from PIL import Image\n",
    "\n",
    "class MNIST_Noised(Dataset):    \n",
    "    def __init__(self, images=None, targets=None):\n",
    "        super().__init__()\n",
    "        self.images = images or []\n",
    "        self.targets = targets or []\n",
    "        self.transform = pipeline\n",
    "    \n",
    "    def add_image(self, image, target):\n",
    "        self.images.append(image)\n",
    "        self.targets.append(target)\n",
    "    \n",
    "    def __len__(self):\n",
    "        return len(self.images)\n",
    "    \n",
    "    def __getitem__(self, index):\n",
    "        if isinstance(index, slice):\n",
    "            return [self.transform(img) for img in self.images[index]], self.targets[index]\n",
    "        else:\n",
    "            return self.transform(self.images[index]), self.targets[index]\n",
    "    \n",
    "    def get_raw_at(self, index):\n",
    "        return self.images[index]\n",
    "\n",
    "def add_noise_to_dataset(dataset):\n",
    "    dataset.transform = None\n",
    "    noised_data_set = MNIST_Noised()\n",
    "    for image, target in dataset:\n",
    "        resized = Image.new('L', (60, 60), color='black')\n",
    "        offset_x, offset_y = np.random.randint(0, 31, size=2)\n",
    "        resized.paste(image, box=(offset_x, offset_y))\n",
    "        noised_data_set.add_image(resized, target)\n",
    "    return noised_data_set\n",
    "    \n",
    "noised_training_data_set = add_noise_to_dataset(training_data_set)\n",
    "noised_test_data_set = add_noise_to_dataset(training_data_set)\n",
    "print('Done creating noised data sets')"
   ]
  },
  {
   "cell_type": "code",
   "execution_count": 12,
   "metadata": {},
   "outputs": [
    {
     "name": "stdout",
     "output_type": "stream",
     "text": [
      "([tensor([[[-2.5000, -2.5000, -2.5000,  ..., -2.5000, -2.5000, -2.5000],\n",
      "         [-2.5000, -2.5000, -2.5000,  ..., -2.5000, -2.5000, -2.5000],\n",
      "         [-2.5000, -2.5000, -2.5000,  ..., -2.5000, -2.5000, -2.5000],\n",
      "         ...,\n",
      "         [-2.5000, -2.5000, -2.5000,  ..., -2.5000, -2.5000, -2.5000],\n",
      "         [-2.5000, -2.5000, -2.5000,  ..., -2.5000, -2.5000, -2.5000],\n",
      "         [-2.5000, -2.5000, -2.5000,  ..., -2.5000, -2.5000, -2.5000]]]), tensor([[[-2.5000, -2.5000, -2.5000,  ..., -2.5000, -2.5000, -2.5000],\n",
      "         [-2.5000, -2.5000, -2.5000,  ..., -2.5000, -2.5000, -2.5000],\n",
      "         [-2.5000, -2.5000, -2.5000,  ..., -2.5000, -2.5000, -2.5000],\n",
      "         ...,\n",
      "         [-2.5000, -2.5000, -2.5000,  ..., -2.5000, -2.5000, -2.5000],\n",
      "         [-2.5000, -2.5000, -2.5000,  ..., -2.5000, -2.5000, -2.5000],\n",
      "         [-2.5000, -2.5000, -2.5000,  ..., -2.5000, -2.5000, -2.5000]]])], [tensor(5), tensor(0)])\n",
      "([tensor([[[-2.5000, -2.5000, -2.5000,  ..., -2.5000, -2.5000, -2.5000],\n",
      "         [-2.5000, -2.5000, -2.5000,  ..., -2.5000, -2.5000, -2.5000],\n",
      "         [-2.5000, -2.5000, -2.5000,  ..., -2.5000, -2.5000, -2.5000],\n",
      "         ...,\n",
      "         [-2.5000, -2.5000, -2.5000,  ..., -2.5000, -2.5000, -2.5000],\n",
      "         [-2.5000, -2.5000, -2.5000,  ..., -2.5000, -2.5000, -2.5000],\n",
      "         [-2.5000, -2.5000, -2.5000,  ..., -2.5000, -2.5000, -2.5000]]]), tensor([[[-2.5000, -2.5000, -2.5000,  ..., -2.5000, -2.5000, -2.5000],\n",
      "         [-2.5000, -2.5000, -2.5000,  ..., -2.5000, -2.5000, -2.5000],\n",
      "         [-2.5000, -2.5000, -2.5000,  ..., -2.5000, -2.5000, -2.5000],\n",
      "         ...,\n",
      "         [-2.5000, -2.5000, -2.5000,  ..., -2.5000, -2.5000, -2.5000],\n",
      "         [-2.5000, -2.5000, -2.5000,  ..., -2.5000, -2.5000, -2.5000],\n",
      "         [-2.5000, -2.5000, -2.5000,  ..., -2.5000, -2.5000, -2.5000]]])], [tensor(5), tensor(0)])\n"
     ]
    },
    {
     "data": {
      "image/png": "[encoded data removed]",
      "text/plain": [
       "<Figure size 432x288 with 1 Axes>"
      ]
     },
     "metadata": {
      "needs_background": "light"
     },
     "output_type": "display_data"
    }
   ],
   "source": [
    "plt.imshow(noised_training_data_set.get_raw_at(10))\n",
    "print(noised_training_data_set[:2])\n",
    "print(noised_test_data_set[:2])"
   ]
  },
  {
   "cell_type": "code",
   "execution_count": 14,
   "metadata": {},
   "outputs": [
    {
     "name": "stdout",
     "output_type": "stream",
     "text": [
      "[Epoch 0] Training loss: 1601.1780796051025\n",
      "[Epoch 0] Accuracy: 12724/60000 (21.21%)\n",
      "[Epoch 1] Training loss: 1440.7456367015839\n",
      "[Epoch 1] Accuracy: 14024/60000 (23.37%)\n",
      "[Epoch 2] Training loss: 1424.4359687566757\n",
      "[Epoch 2] Accuracy: 15237/60000 (25.39%)\n",
      "[Epoch 3] Training loss: 1421.7116265296936\n",
      "[Epoch 3] Accuracy: 12451/60000 (20.75%)\n",
      "[Epoch 4] Training loss: 1380.8478231430054\n",
      "[Epoch 4] Accuracy: 15244/60000 (25.41%)\n"
     ]
    },
    {
     "data": {
      "image/png": "[encoded data removed]",
      "text/plain": [
       "<Figure size 432x288 with 1 Axes>"
      ]
     },
     "metadata": {
      "needs_background": "light"
     },
     "output_type": "display_data"
    }
   ],
   "source": [
    "linear_model_2 = LinearClassifier(width=60, height=60)\n",
    "train(linear_model_2, noised_training_data_set, noised_test_data_set, epoch_count=5)"
   ]
  },
  {
   "cell_type": "code",
   "execution_count": 16,
   "metadata": {},
   "outputs": [
    {
     "data": {
      "image/png": "[encoded data removed]",
      "text/plain": [
       "<Figure size 576x576 with 10 Axes>"
      ]
     },
     "metadata": {
      "needs_background": "light"
     },
     "output_type": "display_data"
    },
    {
     "name": "stdout",
     "output_type": "stream",
     "text": [
      "[9, 9, 7, 9, 7, 2, 9, 2, 1, 2]\n"
     ]
    }
   ],
   "source": [
    "noised_training_data_set.transform = lambda x: x\n",
    "predict(linear_model_2, noised_training_data_set, range(10))\n",
    "noised_training_data_set.transform = pipeline"
   ]
  },
  {
   "cell_type": "code",
   "execution_count": 17,
   "metadata": {},
   "outputs": [
    {
     "name": "stdout",
     "output_type": "stream",
     "text": [
      "[Epoch 0] Training loss: 1395.2910606861115\n",
      "[Epoch 0] Accuracy: 6742/60000 (11.24%)\n",
      "[Epoch 1] Training loss: 1380.7844240665436\n",
      "[Epoch 1] Accuracy: 6742/60000 (11.24%)\n",
      "[Epoch 2] Training loss: 1380.7701089382172\n",
      "[Epoch 2] Accuracy: 6742/60000 (11.24%)\n",
      "[Epoch 3] Training loss: 1380.763956785202\n",
      "[Epoch 3] Accuracy: 6742/60000 (11.24%)\n",
      "[Epoch 4] Training loss: 1380.7689921855927\n",
      "[Epoch 4] Accuracy: 6742/60000 (11.24%)\n"
     ]
    },
    {
     "data": {
      "image/png": "[encoded data removed]",
      "text/plain": [
       "<Figure size 432x288 with 1 Axes>"
      ]
     },
     "metadata": {
      "needs_background": "light"
     },
     "output_type": "display_data"
    }
   ],
   "source": [
    "two_layer_model_2 = TwoLayerClassifier(width=60, height=60)\n",
    "train(two_layer_model_2, noised_training_data_set, noised_test_data_set, epoch_count=5)"
   ]
  },
  {
   "cell_type": "code",
   "execution_count": 20,
   "metadata": {},
   "outputs": [
    {
     "name": "stdout",
     "output_type": "stream",
     "text": [
      "[Epoch 0] Training loss: 935.8680188059807\n",
      "[Epoch 0] Accuracy: 36601/60000 (61.00%)\n",
      "[Epoch 1] Training loss: 612.1956943869591\n",
      "[Epoch 1] Accuracy: 43147/60000 (71.91%)\n",
      "[Epoch 2] Training loss: 526.4285020828247\n",
      "[Epoch 2] Accuracy: 43661/60000 (72.77%)\n",
      "[Epoch 3] Training loss: 486.2870938181877\n",
      "[Epoch 3] Accuracy: 46222/60000 (77.04%)\n",
      "[Epoch 4] Training loss: 452.7543598115444\n",
      "[Epoch 4] Accuracy: 46726/60000 (77.88%)\n"
     ]
    },
    {
     "data": {
      "image/png": "[encoded data removed]",
      "text/plain": [
       "<Figure size 432x288 with 1 Axes>"
      ]
     },
     "metadata": {
      "needs_background": "light"
     },
     "output_type": "display_data"
    }
   ],
   "source": [
    "convolutional_model_2 = ConvolutionalClassifier(width=60, height=60)\n",
    "train(convolutional_model_2, noised_training_data_set, noised_test_data_set, epoch_count=5)"
   ]
  },
  {
   "cell_type": "code",
   "execution_count": 21,
   "metadata": {},
   "outputs": [
    {
     "data": {
      "image/png": "[encoded data removed]",
      "text/plain": [
       "<Figure size 576x576 with 10 Axes>"
      ]
     },
     "metadata": {
      "needs_background": "light"
     },
     "output_type": "display_data"
    },
    {
     "name": "stdout",
     "output_type": "stream",
     "text": [
      "[3, 0, 4, 1, 6, 2, 1, 3, 1, 4]\n"
     ]
    }
   ],
   "source": [
    "noised_training_data_set.transform = lambda x: x\n",
    "predict(convolutional_model_2, noised_training_data_set, range(10))\n",
    "noised_training_data_set.transform = pipeline"
   ]
  },
  {
   "cell_type": "code",
   "execution_count": 95,
   "metadata": {},
   "outputs": [
    {
     "name": "stdout",
     "output_type": "stream",
     "text": [
      "Discriminator loss: 4.1055791809849325\n",
      "Discriminator loss: 0.01968304310366875\n",
      "Discriminator loss: 0.006130914569780543\n",
      "Discriminator loss: 0.0025415046510488537\n",
      "Discriminator loss: 0.0011943508552292315\n",
      "Discriminator loss: 0.0005866512922239053\n",
      "Discriminator loss: 0.0002982520676866329\n",
      "Discriminator loss: 0.0001534292517746394\n",
      "Discriminator loss: 8.104550163068325e-05\n",
      "Discriminator loss: 4.10778890715946e-05\n",
      "Done\n"
     ]
    }
   ],
   "source": [
    "\"\"\"\n",
    "NOW for the really fun part: trying to generate numbers using a GAN\n",
    "\"\"\"\n",
    "\n",
    "import copy\n",
    "\n",
    "class NumberGenerator(nn.Module):\n",
    "    def __init__(self, seed_size, width=28, height=28):\n",
    "        super().__init__()\n",
    "        self.seed_size = seed_size\n",
    "        self.width = width\n",
    "        self.height = height\n",
    "        self.fc = nn.Linear(seed_size, self.width * self.height)\n",
    "    \n",
    "    def forward(self, seed):\n",
    "        batch_size, seed_size = seed.shape\n",
    "        xs = self.fc(seed)\n",
    "        return xs.reshape((batch_size, 1, self.width, self.height))\n",
    "\n",
    "class NumberDiscriminator(nn.Module):\n",
    "    def __init__(self, width=28, height=28):\n",
    "        super().__init__()\n",
    "        self.conv = nn.Sequential(\n",
    "                    nn.Conv2d(in_channels=1, out_channels=10, kernel_size=5, stride=1, padding=0),\n",
    "                    nn.MaxPool2d(kernel_size=2),\n",
    "                    nn.ReLU())\n",
    "        self.fc = nn.Linear(self.convolution_output_length(width, height), 1)\n",
    "        self.sigmoid = nn.Sigmoid()\n",
    "    \n",
    "    def convolution_output_shape(self, width, height):\n",
    "        xs = self.conv(torch.zeros(1, 1, width, height))\n",
    "        return xs.shape\n",
    "    \n",
    "    def convolution_output_length(self, width, height):\n",
    "        length = 1\n",
    "        for d in self.convolution_output_shape(width, height):\n",
    "            length *= d\n",
    "        return length\n",
    "    \n",
    "    def forward(self, xs, with_sigmoid=True):\n",
    "        batch_size, channels, width, height = xs.shape\n",
    "        xs = self.conv(xs)\n",
    "        xs = xs.reshape((batch_size, -1))\n",
    "        xs = self.fc(xs)\n",
    "        if with_sigmoid:\n",
    "            xs = self.sigmoid(xs)\n",
    "        else:\n",
    "            xs = xs.squeeze(dim=-1)\n",
    "        return xs\n",
    "    \n",
    "    '''\n",
    "    def __init__(self, width=28, height=28):\n",
    "        super().__init__()\n",
    "        self.fc = nn.Linear(width * height, 1) # One entry for fakes\n",
    "        self.sigmoid = nn.Sigmoid()\n",
    "    \n",
    "    def forward(self, xs, with_sigmoid=True):\n",
    "        batch_size, channels, width, height = xs.shape\n",
    "        xs = xs.reshape((batch_size, -1))\n",
    "        xs = self.fc(xs)\n",
    "        if with_sigmoid:\n",
    "            xs = self.sigmoid(xs)\n",
    "        else:\n",
    "            xs = xs.squeeze(dim=-1)\n",
    "        return xs\n",
    "    '''\n",
    "\n",
    "'''\n",
    "generator = NumberGenerator()\n",
    "print(generator(torch.zeros(3, 1)))\n",
    "discriminator = NumberDiscriminator()\n",
    "print(discriminator(torch.zeros(3, 1, 28, 28), with_sigmoid=False))\n",
    "print(discriminator(torch.zeros(3, 1, 28, 28), with_sigmoid=True))\n",
    "'''\n",
    "  \n",
    "def train_gan(generator, discriminator, real_data_set, epoch_count):    \n",
    "    dis_criterion = nn.BCEWithLogitsLoss()\n",
    "    gen_optimizer = optim.Adam(params=generator.parameters(), lr=1e-3)\n",
    "    dis_optimizer = optim.Adam(params=discriminator.parameters(), lr=1e-3)\n",
    "    \n",
    "    for epoch in range(epoch_count):\n",
    "        \n",
    "        # Generating some random inputs in addition to the normal inputs\n",
    "        \n",
    "        xs, ys = [], []\n",
    "        seeds = torch.randn(len(real_data_set), 1)\n",
    "        generated = generator(seeds)\n",
    "        for i in range(len(real_data_set)):\n",
    "            image, target = real_data_set[i]\n",
    "            xs.append(torch.clone(image))\n",
    "            ys.append(1)\n",
    "            xs.append(generated[i].detach())\n",
    "            ys.append(0)\n",
    "        \n",
    "        # Packaging these inputs into a data set\n",
    "        \n",
    "        xs = torch.stack(xs)\n",
    "        ys = torch.tensor(ys, dtype=torch.float32, requires_grad=False)\n",
    "        full_data_set = TensorDataset(xs, ys)\n",
    "        data_loader = DataLoader(full_data_set, batch_size=100, shuffle=True)\n",
    "        \n",
    "        # Training the discriminator\n",
    "        \n",
    "        dis_cumulative_loss = 0.\n",
    "        generator.eval()\n",
    "        discriminator.train()\n",
    "        \n",
    "        for inputs, target in data_loader:\n",
    "            dis_optimizer.zero_grad()\n",
    "            dis_outputs = discriminator(inputs, with_sigmoid=False)\n",
    "            dis_loss = dis_criterion(dis_outputs, target)\n",
    "            dis_loss.backward()\n",
    "            dis_optimizer.step()\n",
    "            dis_cumulative_loss += dis_loss.item()\n",
    "        \n",
    "        print(\"Discriminator loss:\", dis_cumulative_loss)\n",
    "        \n",
    "        # Training the generator\n",
    "        \n",
    "        '''\n",
    "        gen_cumulative_loss = 0.\n",
    "        generator.train()\n",
    "        discriminator.train()\n",
    "        \n",
    "        for inputs, target in data_loader:\n",
    "            fake_target = torch.ones(target.shape)\n",
    "            fake_seed = torch.randn((len(target), generator.seed_size))\n",
    "            gen_optimizer.zero_grad()\n",
    "            dis_optimizer.zero_grad()\n",
    "            generated = generator(fake_seed)\n",
    "            dis_outputs = discriminator(generated, with_sigmoid=False)\n",
    "            dis_loss = dis_criterion(dis_outputs, fake_target)\n",
    "            dis_loss.backward()\n",
    "            gen_optimizer.step()\n",
    "            gen_cumulative_loss += dis_loss.item()\n",
    "        \n",
    "        print(\"Generator loss:\", gen_cumulative_loss)\n",
    "        '''\n",
    "        \n",
    "generator = NumberGenerator(seed_size=1)\n",
    "discriminator = NumberDiscriminator()\n",
    "training_data_set.transform = pipeline\n",
    "train_gan(generator, discriminator, training_data_set, epoch_count=10)\n",
    "print('Done')\n",
    "\n",
    "# TODO - the discriminator must be able to detect which class the object is IN + say whether it is fake or not.\n",
    "# TODO - start with only the generation of number 5?\n",
    "    \n",
    "# TODO - try to generate a sample image (just to check the size)\n",
    "\n",
    "# TODO - training routine\n",
    "# https://github.com/QuentinDuval/PythonExperiments/blob/master/Learning/FunctionGAN.py"
   ]
  },
  {
   "cell_type": "code",
   "execution_count": 94,
   "metadata": {},
   "outputs": [
    {
     "name": "stdout",
     "output_type": "stream",
     "text": [
      "(28, 28)\n"
     ]
    },
    {
     "ename": "AttributeError",
     "evalue": "'NumberDiscriminator' object has no attribute 'softmax'",
     "output_type": "error",
     "traceback": [
      "\u001b[1;31m---------------------------------------------------------------------------\u001b[0m",
      "\u001b[1;31mAttributeError\u001b[0m                            Traceback (most recent call last)",
      "\u001b[1;32m<ipython-input-94-edb90d3e62e6>\u001b[0m in \u001b[0;36m<module>\u001b[1;34m\u001b[0m\n\u001b[0;32m     14\u001b[0m \u001b[0mgenerate_sample\u001b[0m\u001b[1;33m(\u001b[0m\u001b[0mempty_generator\u001b[0m\u001b[1;33m)\u001b[0m\u001b[1;33m\u001b[0m\u001b[0m\n\u001b[0;32m     15\u001b[0m \u001b[1;33m\u001b[0m\u001b[0m\n\u001b[1;32m---> 16\u001b[1;33m \u001b[0mprint\u001b[0m\u001b[1;33m(\u001b[0m\u001b[1;34m\"Real image:\"\u001b[0m\u001b[1;33m,\u001b[0m \u001b[0mdiscriminator\u001b[0m\u001b[1;33m(\u001b[0m\u001b[0mtraining_data_set\u001b[0m\u001b[1;33m[\u001b[0m\u001b[1;36m0\u001b[0m\u001b[1;33m]\u001b[0m\u001b[1;33m[\u001b[0m\u001b[1;36m0\u001b[0m\u001b[1;33m]\u001b[0m\u001b[1;33m.\u001b[0m\u001b[0mclone\u001b[0m\u001b[1;33m(\u001b[0m\u001b[1;33m)\u001b[0m\u001b[1;33m.\u001b[0m\u001b[0munsqueeze\u001b[0m\u001b[1;33m(\u001b[0m\u001b[0mdim\u001b[0m\u001b[1;33m=\u001b[0m\u001b[1;36m0\u001b[0m\u001b[1;33m)\u001b[0m\u001b[1;33m)\u001b[0m\u001b[1;33m)\u001b[0m\u001b[1;33m\u001b[0m\u001b[0m\n\u001b[0m\u001b[0;32m     17\u001b[0m \u001b[0mprint\u001b[0m\u001b[1;33m(\u001b[0m\u001b[1;34m\"Fake image:\"\u001b[0m\u001b[1;33m,\u001b[0m \u001b[0mdiscriminator\u001b[0m\u001b[1;33m(\u001b[0m\u001b[0mempty_generator\u001b[0m\u001b[1;33m(\u001b[0m\u001b[0mtorch\u001b[0m\u001b[1;33m.\u001b[0m\u001b[0mrandn\u001b[0m\u001b[1;33m(\u001b[0m\u001b[1;36m1\u001b[0m\u001b[1;33m,\u001b[0m \u001b[1;36m1\u001b[0m\u001b[1;33m)\u001b[0m\u001b[1;33m)\u001b[0m\u001b[1;33m)\u001b[0m\u001b[1;33m)\u001b[0m\u001b[1;33m\u001b[0m\u001b[0m\n",
      "\u001b[1;32mc:\\python\\python37\\lib\\site-packages\\torch\\nn\\modules\\module.py\u001b[0m in \u001b[0;36m__call__\u001b[1;34m(self, *input, **kwargs)\u001b[0m\n\u001b[0;32m    475\u001b[0m             \u001b[0mresult\u001b[0m \u001b[1;33m=\u001b[0m \u001b[0mself\u001b[0m\u001b[1;33m.\u001b[0m\u001b[0m_slow_forward\u001b[0m\u001b[1;33m(\u001b[0m\u001b[1;33m*\u001b[0m\u001b[0minput\u001b[0m\u001b[1;33m,\u001b[0m \u001b[1;33m**\u001b[0m\u001b[0mkwargs\u001b[0m\u001b[1;33m)\u001b[0m\u001b[1;33m\u001b[0m\u001b[0m\n\u001b[0;32m    476\u001b[0m         \u001b[1;32melse\u001b[0m\u001b[1;33m:\u001b[0m\u001b[1;33m\u001b[0m\u001b[0m\n\u001b[1;32m--> 477\u001b[1;33m             \u001b[0mresult\u001b[0m \u001b[1;33m=\u001b[0m \u001b[0mself\u001b[0m\u001b[1;33m.\u001b[0m\u001b[0mforward\u001b[0m\u001b[1;33m(\u001b[0m\u001b[1;33m*\u001b[0m\u001b[0minput\u001b[0m\u001b[1;33m,\u001b[0m \u001b[1;33m**\u001b[0m\u001b[0mkwargs\u001b[0m\u001b[1;33m)\u001b[0m\u001b[1;33m\u001b[0m\u001b[0m\n\u001b[0m\u001b[0;32m    478\u001b[0m         \u001b[1;32mfor\u001b[0m \u001b[0mhook\u001b[0m \u001b[1;32min\u001b[0m \u001b[0mself\u001b[0m\u001b[1;33m.\u001b[0m\u001b[0m_forward_hooks\u001b[0m\u001b[1;33m.\u001b[0m\u001b[0mvalues\u001b[0m\u001b[1;33m(\u001b[0m\u001b[1;33m)\u001b[0m\u001b[1;33m:\u001b[0m\u001b[1;33m\u001b[0m\u001b[0m\n\u001b[0;32m    479\u001b[0m             \u001b[0mhook_result\u001b[0m \u001b[1;33m=\u001b[0m \u001b[0mhook\u001b[0m\u001b[1;33m(\u001b[0m\u001b[0mself\u001b[0m\u001b[1;33m,\u001b[0m \u001b[0minput\u001b[0m\u001b[1;33m,\u001b[0m \u001b[0mresult\u001b[0m\u001b[1;33m)\u001b[0m\u001b[1;33m\u001b[0m\u001b[0m\n",
      "\u001b[1;32m<ipython-input-93-c8c740704626>\u001b[0m in \u001b[0;36mforward\u001b[1;34m(self, xs, with_sigmoid)\u001b[0m\n\u001b[0;32m     44\u001b[0m         \u001b[0mxs\u001b[0m \u001b[1;33m=\u001b[0m \u001b[0mself\u001b[0m\u001b[1;33m.\u001b[0m\u001b[0mfc\u001b[0m\u001b[1;33m(\u001b[0m\u001b[0mxs\u001b[0m\u001b[1;33m)\u001b[0m\u001b[1;33m\u001b[0m\u001b[0m\n\u001b[0;32m     45\u001b[0m         \u001b[1;32mif\u001b[0m \u001b[0mwith_sigmoid\u001b[0m\u001b[1;33m:\u001b[0m\u001b[1;33m\u001b[0m\u001b[0m\n\u001b[1;32m---> 46\u001b[1;33m             \u001b[0mxs\u001b[0m \u001b[1;33m=\u001b[0m \u001b[0mself\u001b[0m\u001b[1;33m.\u001b[0m\u001b[0msoftmax\u001b[0m\u001b[1;33m(\u001b[0m\u001b[0mxs\u001b[0m\u001b[1;33m)\u001b[0m\u001b[1;33m\u001b[0m\u001b[0m\n\u001b[0m\u001b[0;32m     47\u001b[0m         \u001b[1;32melse\u001b[0m\u001b[1;33m:\u001b[0m\u001b[1;33m\u001b[0m\u001b[0m\n\u001b[0;32m     48\u001b[0m             \u001b[0mxs\u001b[0m \u001b[1;33m=\u001b[0m \u001b[0mxs\u001b[0m\u001b[1;33m.\u001b[0m\u001b[0msqueeze\u001b[0m\u001b[1;33m(\u001b[0m\u001b[0mdim\u001b[0m\u001b[1;33m=\u001b[0m\u001b[1;33m-\u001b[0m\u001b[1;36m1\u001b[0m\u001b[1;33m)\u001b[0m\u001b[1;33m\u001b[0m\u001b[0m\n",
      "\u001b[1;32mc:\\python\\python37\\lib\\site-packages\\torch\\nn\\modules\\module.py\u001b[0m in \u001b[0;36m__getattr__\u001b[1;34m(self, name)\u001b[0m\n\u001b[0;32m    516\u001b[0m                 \u001b[1;32mreturn\u001b[0m \u001b[0mmodules\u001b[0m\u001b[1;33m[\u001b[0m\u001b[0mname\u001b[0m\u001b[1;33m]\u001b[0m\u001b[1;33m\u001b[0m\u001b[0m\n\u001b[0;32m    517\u001b[0m         raise AttributeError(\"'{}' object has no attribute '{}'\".format(\n\u001b[1;32m--> 518\u001b[1;33m             type(self).__name__, name))\n\u001b[0m\u001b[0;32m    519\u001b[0m \u001b[1;33m\u001b[0m\u001b[0m\n\u001b[0;32m    520\u001b[0m     \u001b[1;32mdef\u001b[0m \u001b[0m__setattr__\u001b[0m\u001b[1;33m(\u001b[0m\u001b[0mself\u001b[0m\u001b[1;33m,\u001b[0m \u001b[0mname\u001b[0m\u001b[1;33m,\u001b[0m \u001b[0mvalue\u001b[0m\u001b[1;33m)\u001b[0m\u001b[1;33m:\u001b[0m\u001b[1;33m\u001b[0m\u001b[0m\n",
      "\u001b[1;31mAttributeError\u001b[0m: 'NumberDiscriminator' object has no attribute 'softmax'"
     ]
    },
    {
     "data": {
      "image/png": "[encoded data removed]",
      "text/plain": [
       "<Figure size 432x288 with 1 Axes>"
      ]
     },
     "metadata": {
      "needs_background": "light"
     },
     "output_type": "display_data"
    }
   ],
   "source": [
    "def generate_sample(generator):\n",
    "    image = generator(torch.randn(1, 1)).squeeze(dim=0).squeeze(dim=0).detach().numpy()\n",
    "    print(image.shape)\n",
    "\n",
    "    max_val = image.max()\n",
    "    min_val = image.min()\n",
    "    image = (image - min_val) / (max_val - min_val)\n",
    "    \n",
    "    image = np.uint8(image * 255)\n",
    "    image = Image.fromarray(image, 'L')\n",
    "    plt.imshow(image)\n",
    "\n",
    "empty_generator = NumberGenerator(seed_size=1)\n",
    "generate_sample(empty_generator)\n",
    "\n",
    "print(\"Real image:\", discriminator(training_data_set[0][0].clone().unsqueeze(dim=0)))\n",
    "print(\"Fake image:\", discriminator(empty_generator(torch.randn(1, 1))))"
   ]
  },
  {
   "cell_type": "code",
   "execution_count": null,
   "metadata": {},
   "outputs": [],
   "source": []
  },
  {
   "cell_type": "code",
   "execution_count": null,
   "metadata": {},
   "outputs": [],
   "source": []
  }
 ],
 "metadata": {
  "kernelspec": {
   "display_name": "Python 3",
   "language": "python",
   "name": "python3"
  },
  "language_info": {
   "codemirror_mode": {
    "name": "ipython",
    "version": 3
   },
   "file_extension": ".py",
   "mimetype": "text/x-python",
   "name": "python",
   "nbconvert_exporter": "python",
   "pygments_lexer": "ipython3",
   "version": "3.7.0"
  }
 },
 "nbformat": 4,
 "nbformat_minor": 4
}
